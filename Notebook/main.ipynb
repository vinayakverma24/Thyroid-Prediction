{
 "cells": [
  {
   "cell_type": "code",
   "execution_count": 1,
   "metadata": {},
   "outputs": [],
   "source": [
    "import numpy as np # linear algebra\n",
    "import pandas as pd # data processing, CSV file I/O (e.g`. pd.read_csv)\n",
    "from matplotlib import pyplot as plt\n",
    "import seaborn as sns\n",
    "\n",
    "import numpy as np\n",
    "import pandas as pd \n",
    "import os\n",
    "import matplotlib.pyplot as plt\n",
    "import seaborn as sns\n",
    "import re\n",
    "import random\n",
    "from sklearn.model_selection import StratifiedKFold\n",
    "from sklearn.feature_extraction.text import TfidfVectorizer\n",
    "from sklearn.linear_model import LogisticRegression\n",
    "from sklearn.ensemble import RandomForestClassifier\n",
    "from sklearn.naive_bayes import MultinomialNB\n",
    "from sklearn.ensemble import AdaBoostClassifier\n",
    "from sklearn.svm import SVC\n",
    "from sklearn.linear_model import SGDClassifier\n",
    "from sklearn.linear_model import RidgeClassifier\n",
    "from sklearn.ensemble import GradientBoostingClassifier\n",
    "from sklearn.metrics import accuracy_score\n",
    "from sklearn.metrics import f1_score\n",
    "from sklearn.model_selection import cross_val_score\n",
    "from sklearn.model_selection import train_test_split\n",
    "from collections import Counter\n",
    "from catboost import CatBoostClassifier\n",
    "from sklearn.tree import DecisionTreeClassifier\n",
    "from xgboost import XGBClassifier\n",
    "from sklearn.neighbors import KNeighborsClassifier\n",
    "from sklearn.metrics import classification_report, accuracy_score, confusion_matrix\n",
    "from sklearn.linear_model import SGDClassifier\n",
    "from sklearn.linear_model import RidgeClassifier"
   ]
  },
  {
   "cell_type": "markdown",
   "metadata": {},
   "source": [
    "# Data Ingestion"
   ]
  },
  {
   "cell_type": "code",
   "execution_count": 2,
   "metadata": {},
   "outputs": [],
   "source": [
    "data ='hypothyroid.csv'"
   ]
  },
  {
   "cell_type": "code",
   "execution_count": 3,
   "metadata": {},
   "outputs": [],
   "source": [
    "df = pd.read_csv(data)"
   ]
  },
  {
   "cell_type": "code",
   "execution_count": 4,
   "metadata": {},
   "outputs": [
    {
     "data": {
      "text/html": [
       "<div>\n",
       "<style scoped>\n",
       "    .dataframe tbody tr th:only-of-type {\n",
       "        vertical-align: middle;\n",
       "    }\n",
       "\n",
       "    .dataframe tbody tr th {\n",
       "        vertical-align: top;\n",
       "    }\n",
       "\n",
       "    .dataframe thead th {\n",
       "        text-align: right;\n",
       "    }\n",
       "</style>\n",
       "<table border=\"1\" class=\"dataframe\">\n",
       "  <thead>\n",
       "    <tr style=\"text-align: right;\">\n",
       "      <th></th>\n",
       "      <th>age</th>\n",
       "      <th>sex</th>\n",
       "      <th>on_thyroxine</th>\n",
       "      <th>query_on_thyroxine</th>\n",
       "      <th>on_antithyroid_medication</th>\n",
       "      <th>sick</th>\n",
       "      <th>pregnant</th>\n",
       "      <th>thyroid_surgery</th>\n",
       "      <th>I131_treatment</th>\n",
       "      <th>query_hypothyroid</th>\n",
       "      <th>query_hyperthyroid</th>\n",
       "      <th>lithium</th>\n",
       "      <th>goitre</th>\n",
       "      <th>tumor</th>\n",
       "      <th>hypopituitary</th>\n",
       "      <th>psych</th>\n",
       "      <th>TSH_measured</th>\n",
       "      <th>TSH</th>\n",
       "      <th>T3_measured</th>\n",
       "      <th>T3</th>\n",
       "      <th>TT4_measured</th>\n",
       "      <th>TT4</th>\n",
       "      <th>T4U_measured</th>\n",
       "      <th>T4U</th>\n",
       "      <th>FTI_measured</th>\n",
       "      <th>FTI</th>\n",
       "      <th>TBG_measured</th>\n",
       "      <th>TBG</th>\n",
       "      <th>referral_source</th>\n",
       "      <th>Class</th>\n",
       "    </tr>\n",
       "  </thead>\n",
       "  <tbody>\n",
       "    <tr>\n",
       "      <th>0</th>\n",
       "      <td>41</td>\n",
       "      <td>F</td>\n",
       "      <td>f</td>\n",
       "      <td>f</td>\n",
       "      <td>f</td>\n",
       "      <td>f</td>\n",
       "      <td>f</td>\n",
       "      <td>f</td>\n",
       "      <td>f</td>\n",
       "      <td>f</td>\n",
       "      <td>f</td>\n",
       "      <td>f</td>\n",
       "      <td>f</td>\n",
       "      <td>f</td>\n",
       "      <td>f</td>\n",
       "      <td>f</td>\n",
       "      <td>t</td>\n",
       "      <td>1.3</td>\n",
       "      <td>t</td>\n",
       "      <td>2.5</td>\n",
       "      <td>t</td>\n",
       "      <td>125</td>\n",
       "      <td>t</td>\n",
       "      <td>1.14</td>\n",
       "      <td>t</td>\n",
       "      <td>109</td>\n",
       "      <td>f</td>\n",
       "      <td>?</td>\n",
       "      <td>SVHC</td>\n",
       "      <td>negative</td>\n",
       "    </tr>\n",
       "    <tr>\n",
       "      <th>1</th>\n",
       "      <td>23</td>\n",
       "      <td>F</td>\n",
       "      <td>f</td>\n",
       "      <td>f</td>\n",
       "      <td>f</td>\n",
       "      <td>f</td>\n",
       "      <td>f</td>\n",
       "      <td>f</td>\n",
       "      <td>f</td>\n",
       "      <td>f</td>\n",
       "      <td>f</td>\n",
       "      <td>f</td>\n",
       "      <td>f</td>\n",
       "      <td>f</td>\n",
       "      <td>f</td>\n",
       "      <td>f</td>\n",
       "      <td>t</td>\n",
       "      <td>4.1</td>\n",
       "      <td>t</td>\n",
       "      <td>2</td>\n",
       "      <td>t</td>\n",
       "      <td>102</td>\n",
       "      <td>f</td>\n",
       "      <td>?</td>\n",
       "      <td>f</td>\n",
       "      <td>?</td>\n",
       "      <td>f</td>\n",
       "      <td>?</td>\n",
       "      <td>other</td>\n",
       "      <td>negative</td>\n",
       "    </tr>\n",
       "    <tr>\n",
       "      <th>2</th>\n",
       "      <td>46</td>\n",
       "      <td>M</td>\n",
       "      <td>f</td>\n",
       "      <td>f</td>\n",
       "      <td>f</td>\n",
       "      <td>f</td>\n",
       "      <td>f</td>\n",
       "      <td>f</td>\n",
       "      <td>f</td>\n",
       "      <td>f</td>\n",
       "      <td>f</td>\n",
       "      <td>f</td>\n",
       "      <td>f</td>\n",
       "      <td>f</td>\n",
       "      <td>f</td>\n",
       "      <td>f</td>\n",
       "      <td>t</td>\n",
       "      <td>0.98</td>\n",
       "      <td>f</td>\n",
       "      <td>?</td>\n",
       "      <td>t</td>\n",
       "      <td>109</td>\n",
       "      <td>t</td>\n",
       "      <td>0.91</td>\n",
       "      <td>t</td>\n",
       "      <td>120</td>\n",
       "      <td>f</td>\n",
       "      <td>?</td>\n",
       "      <td>other</td>\n",
       "      <td>negative</td>\n",
       "    </tr>\n",
       "    <tr>\n",
       "      <th>3</th>\n",
       "      <td>70</td>\n",
       "      <td>F</td>\n",
       "      <td>t</td>\n",
       "      <td>f</td>\n",
       "      <td>f</td>\n",
       "      <td>f</td>\n",
       "      <td>f</td>\n",
       "      <td>f</td>\n",
       "      <td>f</td>\n",
       "      <td>f</td>\n",
       "      <td>f</td>\n",
       "      <td>f</td>\n",
       "      <td>f</td>\n",
       "      <td>f</td>\n",
       "      <td>f</td>\n",
       "      <td>f</td>\n",
       "      <td>t</td>\n",
       "      <td>0.16</td>\n",
       "      <td>t</td>\n",
       "      <td>1.9</td>\n",
       "      <td>t</td>\n",
       "      <td>175</td>\n",
       "      <td>f</td>\n",
       "      <td>?</td>\n",
       "      <td>f</td>\n",
       "      <td>?</td>\n",
       "      <td>f</td>\n",
       "      <td>?</td>\n",
       "      <td>other</td>\n",
       "      <td>negative</td>\n",
       "    </tr>\n",
       "    <tr>\n",
       "      <th>4</th>\n",
       "      <td>70</td>\n",
       "      <td>F</td>\n",
       "      <td>f</td>\n",
       "      <td>f</td>\n",
       "      <td>f</td>\n",
       "      <td>f</td>\n",
       "      <td>f</td>\n",
       "      <td>f</td>\n",
       "      <td>f</td>\n",
       "      <td>f</td>\n",
       "      <td>f</td>\n",
       "      <td>f</td>\n",
       "      <td>f</td>\n",
       "      <td>f</td>\n",
       "      <td>f</td>\n",
       "      <td>f</td>\n",
       "      <td>t</td>\n",
       "      <td>0.72</td>\n",
       "      <td>t</td>\n",
       "      <td>1.2</td>\n",
       "      <td>t</td>\n",
       "      <td>61</td>\n",
       "      <td>t</td>\n",
       "      <td>0.87</td>\n",
       "      <td>t</td>\n",
       "      <td>70</td>\n",
       "      <td>f</td>\n",
       "      <td>?</td>\n",
       "      <td>SVI</td>\n",
       "      <td>negative</td>\n",
       "    </tr>\n",
       "    <tr>\n",
       "      <th>5</th>\n",
       "      <td>18</td>\n",
       "      <td>F</td>\n",
       "      <td>t</td>\n",
       "      <td>f</td>\n",
       "      <td>f</td>\n",
       "      <td>f</td>\n",
       "      <td>f</td>\n",
       "      <td>f</td>\n",
       "      <td>f</td>\n",
       "      <td>f</td>\n",
       "      <td>f</td>\n",
       "      <td>f</td>\n",
       "      <td>f</td>\n",
       "      <td>f</td>\n",
       "      <td>f</td>\n",
       "      <td>f</td>\n",
       "      <td>t</td>\n",
       "      <td>0.03</td>\n",
       "      <td>f</td>\n",
       "      <td>?</td>\n",
       "      <td>t</td>\n",
       "      <td>183</td>\n",
       "      <td>t</td>\n",
       "      <td>1.3</td>\n",
       "      <td>t</td>\n",
       "      <td>141</td>\n",
       "      <td>f</td>\n",
       "      <td>?</td>\n",
       "      <td>other</td>\n",
       "      <td>negative</td>\n",
       "    </tr>\n",
       "    <tr>\n",
       "      <th>6</th>\n",
       "      <td>59</td>\n",
       "      <td>F</td>\n",
       "      <td>f</td>\n",
       "      <td>f</td>\n",
       "      <td>f</td>\n",
       "      <td>f</td>\n",
       "      <td>f</td>\n",
       "      <td>f</td>\n",
       "      <td>f</td>\n",
       "      <td>f</td>\n",
       "      <td>f</td>\n",
       "      <td>f</td>\n",
       "      <td>f</td>\n",
       "      <td>f</td>\n",
       "      <td>f</td>\n",
       "      <td>f</td>\n",
       "      <td>f</td>\n",
       "      <td>?</td>\n",
       "      <td>f</td>\n",
       "      <td>?</td>\n",
       "      <td>t</td>\n",
       "      <td>72</td>\n",
       "      <td>t</td>\n",
       "      <td>0.92</td>\n",
       "      <td>t</td>\n",
       "      <td>78</td>\n",
       "      <td>f</td>\n",
       "      <td>?</td>\n",
       "      <td>other</td>\n",
       "      <td>negative</td>\n",
       "    </tr>\n",
       "    <tr>\n",
       "      <th>7</th>\n",
       "      <td>80</td>\n",
       "      <td>F</td>\n",
       "      <td>f</td>\n",
       "      <td>f</td>\n",
       "      <td>f</td>\n",
       "      <td>f</td>\n",
       "      <td>f</td>\n",
       "      <td>f</td>\n",
       "      <td>f</td>\n",
       "      <td>f</td>\n",
       "      <td>f</td>\n",
       "      <td>f</td>\n",
       "      <td>f</td>\n",
       "      <td>f</td>\n",
       "      <td>f</td>\n",
       "      <td>f</td>\n",
       "      <td>t</td>\n",
       "      <td>2.2</td>\n",
       "      <td>t</td>\n",
       "      <td>0.6</td>\n",
       "      <td>t</td>\n",
       "      <td>80</td>\n",
       "      <td>t</td>\n",
       "      <td>0.7</td>\n",
       "      <td>t</td>\n",
       "      <td>115</td>\n",
       "      <td>f</td>\n",
       "      <td>?</td>\n",
       "      <td>SVI</td>\n",
       "      <td>negative</td>\n",
       "    </tr>\n",
       "    <tr>\n",
       "      <th>8</th>\n",
       "      <td>66</td>\n",
       "      <td>F</td>\n",
       "      <td>f</td>\n",
       "      <td>f</td>\n",
       "      <td>f</td>\n",
       "      <td>f</td>\n",
       "      <td>f</td>\n",
       "      <td>f</td>\n",
       "      <td>f</td>\n",
       "      <td>f</td>\n",
       "      <td>f</td>\n",
       "      <td>f</td>\n",
       "      <td>f</td>\n",
       "      <td>t</td>\n",
       "      <td>f</td>\n",
       "      <td>f</td>\n",
       "      <td>t</td>\n",
       "      <td>0.6</td>\n",
       "      <td>t</td>\n",
       "      <td>2.2</td>\n",
       "      <td>t</td>\n",
       "      <td>123</td>\n",
       "      <td>t</td>\n",
       "      <td>0.93</td>\n",
       "      <td>t</td>\n",
       "      <td>132</td>\n",
       "      <td>f</td>\n",
       "      <td>?</td>\n",
       "      <td>SVI</td>\n",
       "      <td>negative</td>\n",
       "    </tr>\n",
       "    <tr>\n",
       "      <th>9</th>\n",
       "      <td>68</td>\n",
       "      <td>M</td>\n",
       "      <td>f</td>\n",
       "      <td>f</td>\n",
       "      <td>f</td>\n",
       "      <td>f</td>\n",
       "      <td>f</td>\n",
       "      <td>f</td>\n",
       "      <td>f</td>\n",
       "      <td>f</td>\n",
       "      <td>f</td>\n",
       "      <td>f</td>\n",
       "      <td>f</td>\n",
       "      <td>f</td>\n",
       "      <td>f</td>\n",
       "      <td>f</td>\n",
       "      <td>t</td>\n",
       "      <td>2.4</td>\n",
       "      <td>t</td>\n",
       "      <td>1.6</td>\n",
       "      <td>t</td>\n",
       "      <td>83</td>\n",
       "      <td>t</td>\n",
       "      <td>0.89</td>\n",
       "      <td>t</td>\n",
       "      <td>93</td>\n",
       "      <td>f</td>\n",
       "      <td>?</td>\n",
       "      <td>SVI</td>\n",
       "      <td>negative</td>\n",
       "    </tr>\n",
       "  </tbody>\n",
       "</table>\n",
       "</div>"
      ],
      "text/plain": [
       "  age sex on_thyroxine query_on_thyroxine on_antithyroid_medication sick  \\\n",
       "0  41   F            f                  f                         f    f   \n",
       "1  23   F            f                  f                         f    f   \n",
       "2  46   M            f                  f                         f    f   \n",
       "3  70   F            t                  f                         f    f   \n",
       "4  70   F            f                  f                         f    f   \n",
       "5  18   F            t                  f                         f    f   \n",
       "6  59   F            f                  f                         f    f   \n",
       "7  80   F            f                  f                         f    f   \n",
       "8  66   F            f                  f                         f    f   \n",
       "9  68   M            f                  f                         f    f   \n",
       "\n",
       "  pregnant thyroid_surgery I131_treatment query_hypothyroid  \\\n",
       "0        f               f              f                 f   \n",
       "1        f               f              f                 f   \n",
       "2        f               f              f                 f   \n",
       "3        f               f              f                 f   \n",
       "4        f               f              f                 f   \n",
       "5        f               f              f                 f   \n",
       "6        f               f              f                 f   \n",
       "7        f               f              f                 f   \n",
       "8        f               f              f                 f   \n",
       "9        f               f              f                 f   \n",
       "\n",
       "  query_hyperthyroid lithium goitre tumor hypopituitary psych TSH_measured  \\\n",
       "0                  f       f      f     f             f     f            t   \n",
       "1                  f       f      f     f             f     f            t   \n",
       "2                  f       f      f     f             f     f            t   \n",
       "3                  f       f      f     f             f     f            t   \n",
       "4                  f       f      f     f             f     f            t   \n",
       "5                  f       f      f     f             f     f            t   \n",
       "6                  f       f      f     f             f     f            f   \n",
       "7                  f       f      f     f             f     f            t   \n",
       "8                  f       f      f     t             f     f            t   \n",
       "9                  f       f      f     f             f     f            t   \n",
       "\n",
       "    TSH T3_measured   T3 TT4_measured  TT4 T4U_measured   T4U FTI_measured  \\\n",
       "0   1.3           t  2.5            t  125            t  1.14            t   \n",
       "1   4.1           t    2            t  102            f     ?            f   \n",
       "2  0.98           f    ?            t  109            t  0.91            t   \n",
       "3  0.16           t  1.9            t  175            f     ?            f   \n",
       "4  0.72           t  1.2            t   61            t  0.87            t   \n",
       "5  0.03           f    ?            t  183            t   1.3            t   \n",
       "6     ?           f    ?            t   72            t  0.92            t   \n",
       "7   2.2           t  0.6            t   80            t   0.7            t   \n",
       "8   0.6           t  2.2            t  123            t  0.93            t   \n",
       "9   2.4           t  1.6            t   83            t  0.89            t   \n",
       "\n",
       "   FTI TBG_measured TBG referral_source     Class  \n",
       "0  109            f   ?            SVHC  negative  \n",
       "1    ?            f   ?           other  negative  \n",
       "2  120            f   ?           other  negative  \n",
       "3    ?            f   ?           other  negative  \n",
       "4   70            f   ?             SVI  negative  \n",
       "5  141            f   ?           other  negative  \n",
       "6   78            f   ?           other  negative  \n",
       "7  115            f   ?             SVI  negative  \n",
       "8  132            f   ?             SVI  negative  \n",
       "9   93            f   ?             SVI  negative  "
      ]
     },
     "execution_count": 4,
     "metadata": {},
     "output_type": "execute_result"
    }
   ],
   "source": [
    "# see all columns and records\n",
    "pd.set_option('display.max_columns', None)\n",
    "df.head(10)"
   ]
  },
  {
   "cell_type": "code",
   "execution_count": 5,
   "metadata": {},
   "outputs": [],
   "source": [
    "# replace ? with nan\n",
    "df.replace('?', np.nan, inplace=True)"
   ]
  },
  {
   "cell_type": "code",
   "execution_count": 6,
   "metadata": {},
   "outputs": [
    {
     "name": "stdout",
     "output_type": "stream",
     "text": [
      "<class 'pandas.core.frame.DataFrame'>\n",
      "RangeIndex: 3772 entries, 0 to 3771\n",
      "Data columns (total 30 columns):\n",
      " #   Column                     Non-Null Count  Dtype  \n",
      "---  ------                     --------------  -----  \n",
      " 0   age                        3771 non-null   object \n",
      " 1   sex                        3622 non-null   object \n",
      " 2   on_thyroxine               3772 non-null   object \n",
      " 3   query_on_thyroxine         3772 non-null   object \n",
      " 4   on_antithyroid_medication  3772 non-null   object \n",
      " 5   sick                       3772 non-null   object \n",
      " 6   pregnant                   3772 non-null   object \n",
      " 7   thyroid_surgery            3772 non-null   object \n",
      " 8   I131_treatment             3772 non-null   object \n",
      " 9   query_hypothyroid          3772 non-null   object \n",
      " 10  query_hyperthyroid         3772 non-null   object \n",
      " 11  lithium                    3772 non-null   object \n",
      " 12  goitre                     3772 non-null   object \n",
      " 13  tumor                      3772 non-null   object \n",
      " 14  hypopituitary              3772 non-null   object \n",
      " 15  psych                      3772 non-null   object \n",
      " 16  TSH_measured               3772 non-null   object \n",
      " 17  TSH                        3403 non-null   object \n",
      " 18  T3_measured                3772 non-null   object \n",
      " 19  T3                         3003 non-null   object \n",
      " 20  TT4_measured               3772 non-null   object \n",
      " 21  TT4                        3541 non-null   object \n",
      " 22  T4U_measured               3772 non-null   object \n",
      " 23  T4U                        3385 non-null   object \n",
      " 24  FTI_measured               3772 non-null   object \n",
      " 25  FTI                        3387 non-null   object \n",
      " 26  TBG_measured               3772 non-null   object \n",
      " 27  TBG                        0 non-null      float64\n",
      " 28  referral_source            3772 non-null   object \n",
      " 29  Class                      3772 non-null   object \n",
      "dtypes: float64(1), object(29)\n",
      "memory usage: 884.2+ KB\n"
     ]
    }
   ],
   "source": [
    "df.info()"
   ]
  },
  {
   "cell_type": "code",
   "execution_count": 7,
   "metadata": {},
   "outputs": [
    {
     "name": "stdout",
     "output_type": "stream",
     "text": [
      "Missing values: \n",
      "age       1\n",
      "sex     150\n",
      "TSH     369\n",
      "T3      769\n",
      "TT4     231\n",
      "T4U     387\n",
      "FTI     385\n",
      "TBG    3772\n",
      "dtype: int64\n",
      "Total records in dataset: 3772\n"
     ]
    }
   ],
   "source": [
    "# check for missing values greater than 0\n",
    "missing = df.isnull().sum()\n",
    "missing = missing[missing > 0]\n",
    "\n",
    "print(f\"Missing values: \\n{missing}\")\n",
    "print(f\"Total records in dataset: {len(df)}\")"
   ]
  },
  {
   "cell_type": "markdown",
   "metadata": {},
   "source": [
    "##### Observations\n",
    "\n",
    "- from above we can see that there are 3772 records and 30 columns\n",
    "- we can see age, TSH, T3, TT4, T4U, FTI are numerical columns, but they are object type so we need to convert them to numerical type\n",
    "- we can see that there are missing values in some columns\n",
    "- column TBG we can drop "
   ]
  },
  {
   "cell_type": "markdown",
   "metadata": {},
   "source": [
    "## Feature Engineering"
   ]
  },
  {
   "cell_type": "code",
   "execution_count": 8,
   "metadata": {},
   "outputs": [],
   "source": [
    "df.drop('TBG',inplace=True,axis=1)"
   ]
  },
  {
   "cell_type": "code",
   "execution_count": 9,
   "metadata": {},
   "outputs": [
    {
     "name": "stdout",
     "output_type": "stream",
     "text": [
      "<class 'pandas.core.frame.DataFrame'>\n",
      "RangeIndex: 3772 entries, 0 to 3771\n",
      "Data columns (total 29 columns):\n",
      " #   Column                     Non-Null Count  Dtype \n",
      "---  ------                     --------------  ----- \n",
      " 0   age                        3771 non-null   object\n",
      " 1   sex                        3622 non-null   object\n",
      " 2   on_thyroxine               3772 non-null   object\n",
      " 3   query_on_thyroxine         3772 non-null   object\n",
      " 4   on_antithyroid_medication  3772 non-null   object\n",
      " 5   sick                       3772 non-null   object\n",
      " 6   pregnant                   3772 non-null   object\n",
      " 7   thyroid_surgery            3772 non-null   object\n",
      " 8   I131_treatment             3772 non-null   object\n",
      " 9   query_hypothyroid          3772 non-null   object\n",
      " 10  query_hyperthyroid         3772 non-null   object\n",
      " 11  lithium                    3772 non-null   object\n",
      " 12  goitre                     3772 non-null   object\n",
      " 13  tumor                      3772 non-null   object\n",
      " 14  hypopituitary              3772 non-null   object\n",
      " 15  psych                      3772 non-null   object\n",
      " 16  TSH_measured               3772 non-null   object\n",
      " 17  TSH                        3403 non-null   object\n",
      " 18  T3_measured                3772 non-null   object\n",
      " 19  T3                         3003 non-null   object\n",
      " 20  TT4_measured               3772 non-null   object\n",
      " 21  TT4                        3541 non-null   object\n",
      " 22  T4U_measured               3772 non-null   object\n",
      " 23  T4U                        3385 non-null   object\n",
      " 24  FTI_measured               3772 non-null   object\n",
      " 25  FTI                        3387 non-null   object\n",
      " 26  TBG_measured               3772 non-null   object\n",
      " 27  referral_source            3772 non-null   object\n",
      " 28  Class                      3772 non-null   object\n",
      "dtypes: object(29)\n",
      "memory usage: 854.7+ KB\n"
     ]
    }
   ],
   "source": [
    "df.info()"
   ]
  },
  {
   "cell_type": "code",
   "execution_count": 10,
   "metadata": {},
   "outputs": [
    {
     "name": "stdout",
     "output_type": "stream",
     "text": [
      "     percent_null data_type\n",
      "age      0.026511    object\n",
      "sex      3.976670    object\n",
      "TT4      6.124072    object\n",
      "TSH      9.782609    object\n",
      "FTI     10.206787    object\n",
      "T4U     10.259809    object\n",
      "T3      20.387063    object\n"
     ]
    }
   ],
   "source": [
    "percent_null = 100 * df.isnull().sum() / len(df)\n",
    "percent_null = percent_null[percent_null > 0].sort_values()\n",
    "data_types = df.dtypes\n",
    "\n",
    "# Combine into a single DataFrame for display\n",
    "nulls_with_dtypes = pd.DataFrame({\n",
    "    'percent_null': percent_null,\n",
    "    'data_type': data_types[percent_null.index]\n",
    "})\n",
    "\n",
    "print(nulls_with_dtypes)"
   ]
  },
  {
   "cell_type": "code",
   "execution_count": 11,
   "metadata": {},
   "outputs": [],
   "source": [
    "# Drop specified columns with high percentage of missing values\n",
    "columns_to_drop = ['TT4', 'TSH', 'FTI', 'T4U', 'T3']\n",
    "df = df.drop(columns=columns_to_drop)\n",
    "\n",
    "# Drop rows where 'age' or 'sex' is null\n",
    "df = df.dropna(subset=['age', 'sex'])\n"
   ]
  },
  {
   "cell_type": "code",
   "execution_count": 12,
   "metadata": {},
   "outputs": [
    {
     "name": "stdout",
     "output_type": "stream",
     "text": [
      "Missing values: \n",
      "Series([], dtype: int64)\n",
      "Total records in dataset: 3621\n"
     ]
    }
   ],
   "source": [
    "# check for missing values greater than 0\n",
    "missing = df.isnull().sum()\n",
    "missing = missing[missing > 0]\n",
    "\n",
    "print(f\"Missing values: \\n{missing}\")\n",
    "print(f\"Total records in dataset: {len(df)}\")"
   ]
  },
  {
   "cell_type": "code",
   "execution_count": 13,
   "metadata": {},
   "outputs": [
    {
     "name": "stdout",
     "output_type": "stream",
     "text": [
      "<class 'pandas.core.frame.DataFrame'>\n",
      "Index: 3621 entries, 0 to 3771\n",
      "Data columns (total 24 columns):\n",
      " #   Column                     Non-Null Count  Dtype \n",
      "---  ------                     --------------  ----- \n",
      " 0   age                        3621 non-null   object\n",
      " 1   sex                        3621 non-null   object\n",
      " 2   on_thyroxine               3621 non-null   object\n",
      " 3   query_on_thyroxine         3621 non-null   object\n",
      " 4   on_antithyroid_medication  3621 non-null   object\n",
      " 5   sick                       3621 non-null   object\n",
      " 6   pregnant                   3621 non-null   object\n",
      " 7   thyroid_surgery            3621 non-null   object\n",
      " 8   I131_treatment             3621 non-null   object\n",
      " 9   query_hypothyroid          3621 non-null   object\n",
      " 10  query_hyperthyroid         3621 non-null   object\n",
      " 11  lithium                    3621 non-null   object\n",
      " 12  goitre                     3621 non-null   object\n",
      " 13  tumor                      3621 non-null   object\n",
      " 14  hypopituitary              3621 non-null   object\n",
      " 15  psych                      3621 non-null   object\n",
      " 16  TSH_measured               3621 non-null   object\n",
      " 17  T3_measured                3621 non-null   object\n",
      " 18  TT4_measured               3621 non-null   object\n",
      " 19  T4U_measured               3621 non-null   object\n",
      " 20  FTI_measured               3621 non-null   object\n",
      " 21  TBG_measured               3621 non-null   object\n",
      " 22  referral_source            3621 non-null   object\n",
      " 23  Class                      3621 non-null   object\n",
      "dtypes: object(24)\n",
      "memory usage: 707.2+ KB\n"
     ]
    }
   ],
   "source": [
    "df.info()"
   ]
  },
  {
   "cell_type": "code",
   "execution_count": 14,
   "metadata": {},
   "outputs": [],
   "source": [
    "# befor filling missing values, we need to fix the data types of the columns\n",
    "\n",
    "# Convert 'age' to integer\n",
    "df['age'] = df['age'].astype(int)\n"
   ]
  },
  {
   "cell_type": "code",
   "execution_count": 15,
   "metadata": {},
   "outputs": [
    {
     "name": "stdout",
     "output_type": "stream",
     "text": [
      "sex: ['F' 'M']\n",
      "on_thyroxine: ['f' 't']\n",
      "query_on_thyroxine: ['f' 't']\n",
      "on_antithyroid_medication: ['f' 't']\n",
      "sick: ['f' 't']\n",
      "pregnant: ['f' 't']\n",
      "thyroid_surgery: ['f' 't']\n",
      "I131_treatment: ['f' 't']\n",
      "query_hypothyroid: ['f' 't']\n",
      "query_hyperthyroid: ['f' 't']\n",
      "lithium: ['f' 't']\n",
      "goitre: ['f' 't']\n",
      "tumor: ['f' 't']\n",
      "hypopituitary: ['f' 't']\n",
      "psych: ['f' 't']\n",
      "TSH_measured: ['t' 'f']\n",
      "T3_measured: ['t' 'f']\n",
      "TT4_measured: ['t' 'f']\n",
      "T4U_measured: ['t' 'f']\n",
      "FTI_measured: ['t' 'f']\n",
      "TBG_measured: ['f']\n",
      "referral_source: ['SVHC' 'other' 'SVI' 'SVHD' 'STMW']\n",
      "Class: ['negative' 'compensated_hypothyroid' 'primary_hypothyroid'\n",
      " 'secondary_hypothyroid']\n"
     ]
    }
   ],
   "source": [
    "# print the unique values in categorical columns\n",
    "categorical_columns = df.select_dtypes(include=['object']).columns\n",
    "for col in categorical_columns:\n",
    "    print(f\"{col}: {df[col].unique()}\")"
   ]
  },
  {
   "cell_type": "code",
   "execution_count": 16,
   "metadata": {},
   "outputs": [],
   "source": [
    "# column TGB_measured has only one unique value, so we can drop it\n",
    "df.drop('TBG_measured', axis=1, inplace=True)"
   ]
  },
  {
   "cell_type": "markdown",
   "metadata": {},
   "source": [
    "# Encoding Categorical Columns\n",
    "\n",
    "To convert categorical columns into numerical ones, various techniques such as one-hot encoding for nominal data and label encoding for ordinal data are used.\n",
    "\n",
    "## Nominal Data\n",
    "For nominal data (where the categories do not have an inherent order), we can use one-hot encoding.\n",
    "\n",
    "### Example\n",
    "- **Column Name**: `color`\n",
    "- **Categories**: `['Red', 'Green', 'Blue']`\n",
    "\n",
    "**Original Data**:\n",
    "| color |\n",
    "|-------|\n",
    "| Red   |\n",
    "| Green |\n",
    "| Blue  |\n",
    "| Red   |\n",
    "| Blue  |\n",
    "\n",
    "**One-Hot Encoding**:\n",
    "| color_Red | color_Green | color_Blue |\n",
    "|-----------|-------------|------------|\n",
    "| 1         | 0           | 0          |\n",
    "| 0         | 1           | 0          |\n",
    "| 0         | 0           | 1          |\n",
    "| 1         | 0           | 0          |\n",
    "| 0         | 0           | 1          |\n",
    "\n",
    "## Ordinal Data\n",
    "For ordinal data (where the categories have a specific order), we can use label encoding.\n",
    "\n",
    "### Example\n",
    "- **Column Name**: `education_level`\n",
    "- **Categories**: `['High School', 'Bachelor', 'Master', 'PhD']`\n",
    "\n",
    "**Original Data**:\n",
    "| education_level |\n",
    "|-----------------|\n",
    "| Bachelor        |\n",
    "| High School     |\n",
    "| PhD             |\n",
    "| Master          |\n",
    "| Bachelor        |\n",
    "\n",
    "**Label Encoding**:\n",
    "| education_level |\n",
    "|-----------------|\n",
    "| 1               |  # Bachelor\n",
    "| 0               |  # High School\n",
    "| 3               |  # PhD\n",
    "| 2               |  # Master\n",
    "| 1               |  # Bachelor\n"
   ]
  },
  {
   "cell_type": "code",
   "execution_count": 17,
   "metadata": {},
   "outputs": [],
   "source": [
    "import pandas as pd\n",
    "from sklearn.preprocessing import LabelEncoder, OneHotEncoder\n",
    "\n",
    "# Label Encoding for binary ordinal columns\n",
    "binary_cols = ['sex', 'on_thyroxine', 'query_on_thyroxine', 'on_antithyroid_medication', 'sick', \n",
    "               'pregnant', 'thyroid_surgery', 'I131_treatment', 'query_hypothyroid', \n",
    "               'query_hyperthyroid', 'lithium', 'goitre', 'tumor', 'hypopituitary', 'psych',\n",
    "               'TSH_measured', 'T3_measured', 'TT4_measured', 'T4U_measured', 'FTI_measured']\n",
    "\n",
    "label_encoder = LabelEncoder()\n",
    "for col in binary_cols:\n",
    "    df[col] = label_encoder.fit_transform(df[col])\n",
    "\n",
    "# One-Hot Encoding for 'referral_source'\n",
    "df = pd.get_dummies(df, columns=['referral_source'], drop_first=True,)\n",
    "\n"
   ]
  },
  {
   "cell_type": "code",
   "execution_count": 18,
   "metadata": {},
   "outputs": [
    {
     "data": {
      "text/plain": [
       "Class\n",
       "negative                   3341\n",
       "compensated_hypothyroid     187\n",
       "primary_hypothyroid          91\n",
       "secondary_hypothyroid         2\n",
       "Name: count, dtype: int64"
      ]
     },
     "execution_count": 18,
     "metadata": {},
     "output_type": "execute_result"
    }
   ],
   "source": [
    "df[\"Class\"].value_counts()"
   ]
  },
  {
   "cell_type": "code",
   "execution_count": 19,
   "metadata": {},
   "outputs": [],
   "source": [
    "# Since \"secondary_hypothyroid\" category has only 2 instances, dropping it as it adds no value to the model,\n",
    "# and including it could unnecessarily increase model complexity and noise.\n",
    "# Dropping the column to streamline the dataset.\n",
    "\n",
    "# Drop rows where 'Class' is 'secondary_hypothyroid'\n",
    "df = df[df['Class'] != 'secondary_hypothyroid']\n"
   ]
  },
  {
   "cell_type": "code",
   "execution_count": 20,
   "metadata": {},
   "outputs": [],
   "source": [
    "# Target Encoding for 'Class'\n",
    "class_encoder = LabelEncoder()\n",
    "df['Class'] = class_encoder.fit_transform(df['Class'])"
   ]
  },
  {
   "cell_type": "code",
   "execution_count": 21,
   "metadata": {},
   "outputs": [
    {
     "data": {
      "text/plain": [
       "Class\n",
       "1    3341\n",
       "0     187\n",
       "2      91\n",
       "Name: count, dtype: int64"
      ]
     },
     "execution_count": 21,
     "metadata": {},
     "output_type": "execute_result"
    }
   ],
   "source": [
    "df[\"Class\"].value_counts()"
   ]
  },
  {
   "cell_type": "code",
   "execution_count": 22,
   "metadata": {},
   "outputs": [],
   "source": [
    "#importing RandomOverSampler to manage the imbalance\n",
    "from imblearn.over_sampling import SMOTENC,RandomOverSampler\n",
    "x = df.drop(['Class'],axis=1)\n",
    "y = df['Class']\n",
    "r = RandomOverSampler()\n",
    "x_sampled,y_sampled  = r.fit_resample(x,y)"
   ]
  },
  {
   "cell_type": "markdown",
   "metadata": {},
   "source": [
    "## Model Training"
   ]
  },
  {
   "cell_type": "code",
   "execution_count": 23,
   "metadata": {},
   "outputs": [],
   "source": [
    "from sklearn.ensemble import RandomForestClassifier\n",
    "from sklearn.model_selection import GridSearchCV\n",
    "from sklearn import metrics\n",
    "from sklearn.metrics  import roc_auc_score,accuracy_score"
   ]
  },
  {
   "cell_type": "code",
   "execution_count": 24,
   "metadata": {},
   "outputs": [],
   "source": [
    "from sklearn.model_selection import train_test_split\n",
    "from sklearn.metrics import confusion_matrix, classification_report\n",
    "X_train, X_test, y_train, y_test = train_test_split(x_sampled, y_sampled, test_size=0.3, random_state=2)"
   ]
  },
  {
   "cell_type": "code",
   "execution_count": 25,
   "metadata": {},
   "outputs": [],
   "source": [
    "rfc_model = RandomForestClassifier(n_estimators=1000)"
   ]
  },
  {
   "cell_type": "code",
   "execution_count": 26,
   "metadata": {},
   "outputs": [
    {
     "data": {
      "text/html": [
       "<style>#sk-container-id-1 {color: black;background-color: white;}#sk-container-id-1 pre{padding: 0;}#sk-container-id-1 div.sk-toggleable {background-color: white;}#sk-container-id-1 label.sk-toggleable__label {cursor: pointer;display: block;width: 100%;margin-bottom: 0;padding: 0.3em;box-sizing: border-box;text-align: center;}#sk-container-id-1 label.sk-toggleable__label-arrow:before {content: \"▸\";float: left;margin-right: 0.25em;color: #696969;}#sk-container-id-1 label.sk-toggleable__label-arrow:hover:before {color: black;}#sk-container-id-1 div.sk-estimator:hover label.sk-toggleable__label-arrow:before {color: black;}#sk-container-id-1 div.sk-toggleable__content {max-height: 0;max-width: 0;overflow: hidden;text-align: left;background-color: #f0f8ff;}#sk-container-id-1 div.sk-toggleable__content pre {margin: 0.2em;color: black;border-radius: 0.25em;background-color: #f0f8ff;}#sk-container-id-1 input.sk-toggleable__control:checked~div.sk-toggleable__content {max-height: 200px;max-width: 100%;overflow: auto;}#sk-container-id-1 input.sk-toggleable__control:checked~label.sk-toggleable__label-arrow:before {content: \"▾\";}#sk-container-id-1 div.sk-estimator input.sk-toggleable__control:checked~label.sk-toggleable__label {background-color: #d4ebff;}#sk-container-id-1 div.sk-label input.sk-toggleable__control:checked~label.sk-toggleable__label {background-color: #d4ebff;}#sk-container-id-1 input.sk-hidden--visually {border: 0;clip: rect(1px 1px 1px 1px);clip: rect(1px, 1px, 1px, 1px);height: 1px;margin: -1px;overflow: hidden;padding: 0;position: absolute;width: 1px;}#sk-container-id-1 div.sk-estimator {font-family: monospace;background-color: #f0f8ff;border: 1px dotted black;border-radius: 0.25em;box-sizing: border-box;margin-bottom: 0.5em;}#sk-container-id-1 div.sk-estimator:hover {background-color: #d4ebff;}#sk-container-id-1 div.sk-parallel-item::after {content: \"\";width: 100%;border-bottom: 1px solid gray;flex-grow: 1;}#sk-container-id-1 div.sk-label:hover label.sk-toggleable__label {background-color: #d4ebff;}#sk-container-id-1 div.sk-serial::before {content: \"\";position: absolute;border-left: 1px solid gray;box-sizing: border-box;top: 0;bottom: 0;left: 50%;z-index: 0;}#sk-container-id-1 div.sk-serial {display: flex;flex-direction: column;align-items: center;background-color: white;padding-right: 0.2em;padding-left: 0.2em;position: relative;}#sk-container-id-1 div.sk-item {position: relative;z-index: 1;}#sk-container-id-1 div.sk-parallel {display: flex;align-items: stretch;justify-content: center;background-color: white;position: relative;}#sk-container-id-1 div.sk-item::before, #sk-container-id-1 div.sk-parallel-item::before {content: \"\";position: absolute;border-left: 1px solid gray;box-sizing: border-box;top: 0;bottom: 0;left: 50%;z-index: -1;}#sk-container-id-1 div.sk-parallel-item {display: flex;flex-direction: column;z-index: 1;position: relative;background-color: white;}#sk-container-id-1 div.sk-parallel-item:first-child::after {align-self: flex-end;width: 50%;}#sk-container-id-1 div.sk-parallel-item:last-child::after {align-self: flex-start;width: 50%;}#sk-container-id-1 div.sk-parallel-item:only-child::after {width: 0;}#sk-container-id-1 div.sk-dashed-wrapped {border: 1px dashed gray;margin: 0 0.4em 0.5em 0.4em;box-sizing: border-box;padding-bottom: 0.4em;background-color: white;}#sk-container-id-1 div.sk-label label {font-family: monospace;font-weight: bold;display: inline-block;line-height: 1.2em;}#sk-container-id-1 div.sk-label-container {text-align: center;}#sk-container-id-1 div.sk-container {/* jupyter's `normalize.less` sets `[hidden] { display: none; }` but bootstrap.min.css set `[hidden] { display: none !important; }` so we also need the `!important` here to be able to override the default hidden behavior on the sphinx rendered scikit-learn.org. See: https://github.com/scikit-learn/scikit-learn/issues/21755 */display: inline-block !important;position: relative;}#sk-container-id-1 div.sk-text-repr-fallback {display: none;}</style><div id=\"sk-container-id-1\" class=\"sk-top-container\"><div class=\"sk-text-repr-fallback\"><pre>RandomForestClassifier(n_estimators=1000)</pre><b>In a Jupyter environment, please rerun this cell to show the HTML representation or trust the notebook. <br />On GitHub, the HTML representation is unable to render, please try loading this page with nbviewer.org.</b></div><div class=\"sk-container\" hidden><div class=\"sk-item\"><div class=\"sk-estimator sk-toggleable\"><input class=\"sk-toggleable__control sk-hidden--visually\" id=\"sk-estimator-id-1\" type=\"checkbox\" checked><label for=\"sk-estimator-id-1\" class=\"sk-toggleable__label sk-toggleable__label-arrow\">RandomForestClassifier</label><div class=\"sk-toggleable__content\"><pre>RandomForestClassifier(n_estimators=1000)</pre></div></div></div></div></div>"
      ],
      "text/plain": [
       "RandomForestClassifier(n_estimators=1000)"
      ]
     },
     "execution_count": 26,
     "metadata": {},
     "output_type": "execute_result"
    }
   ],
   "source": [
    "rfc_model.fit(X_train, y_train)"
   ]
  },
  {
   "cell_type": "code",
   "execution_count": 27,
   "metadata": {},
   "outputs": [],
   "source": [
    "rfc_pred = rfc_model.predict(X_test)"
   ]
  },
  {
   "cell_type": "code",
   "execution_count": 28,
   "metadata": {},
   "outputs": [
    {
     "name": "stdout",
     "output_type": "stream",
     "text": [
      "[[850   7 140]\n",
      " [145 759 109]\n",
      " [ 22   0 975]]\n"
     ]
    }
   ],
   "source": [
    "#checking evaluation metrics\n",
    "print(confusion_matrix(y_test, rfc_pred))"
   ]
  },
  {
   "cell_type": "code",
   "execution_count": 29,
   "metadata": {},
   "outputs": [
    {
     "name": "stdout",
     "output_type": "stream",
     "text": [
      "              precision    recall  f1-score   support\n",
      "\n",
      "           0       0.84      0.85      0.84       997\n",
      "           1       0.99      0.75      0.85      1013\n",
      "           2       0.80      0.98      0.88       997\n",
      "\n",
      "    accuracy                           0.86      3007\n",
      "   macro avg       0.87      0.86      0.86      3007\n",
      "weighted avg       0.88      0.86      0.86      3007\n",
      "\n"
     ]
    }
   ],
   "source": [
    "print(classification_report(y_test, rfc_pred))"
   ]
  },
  {
   "cell_type": "markdown",
   "metadata": {},
   "source": [
    "###  Hyperparameter tuning"
   ]
  },
  {
   "cell_type": "code",
   "execution_count": 30,
   "metadata": {},
   "outputs": [],
   "source": [
    "from sklearn.ensemble import RandomForestClassifier\n",
    "from sklearn.model_selection import GridSearchCV\n",
    "\n",
    "def get_best_params_for_random_forest(train_x, train_y):\n",
    "    \"\"\"\n",
    "    Method Name: get_best_params_for_random_forest\n",
    "    Description: Get the parameters for Random Forest Algorithm which give the best accuracy.\n",
    "                 Use Hyperparameter Tuning.\n",
    "    Output: The model with the best parameters\n",
    "    On Failure: Raise an Exception\n",
    "    \"\"\"\n",
    "    print('Entered the get_best_params_for_random_forest method')\n",
    "\n",
    "    try:\n",
    "        # Initialize with different combinations of parameters\n",
    "        param_grid = {\n",
    "            \"n_estimators\": [50, 100, 150, 200],  # Adjusting number of trees in the forest\n",
    "            \"criterion\": ['gini', 'entropy'],\n",
    "            \"max_depth\": [None, 10, 20, 30],  # Adjusting maximum depth of each tree\n",
    "            \"max_features\": ['auto', 'sqrt', 'log2']  # Adjusting the number of features to consider at every split\n",
    "        }\n",
    "\n",
    "        clf = RandomForestClassifier()\n",
    "\n",
    "        # Create an object of the Grid Search class\n",
    "        grid = GridSearchCV(estimator=clf, param_grid=param_grid, cv=5, verbose=3)\n",
    "\n",
    "        # Find the best parameters\n",
    "        grid.fit(train_x, train_y)\n",
    "\n",
    "        # Extract the best parameters\n",
    "        best_params = grid.best_params_\n",
    "        criterion = best_params['criterion']\n",
    "        max_depth = best_params['max_depth']\n",
    "        max_features = best_params['max_features']\n",
    "        n_estimators = best_params['n_estimators']\n",
    "\n",
    "        # Create a new model with the best parameters\n",
    "        clf = RandomForestClassifier(n_estimators=n_estimators, criterion=criterion,\n",
    "                                     max_depth=max_depth, max_features=max_features)\n",
    "\n",
    "        # Train the new model\n",
    "        clf.fit(train_x, train_y)\n",
    "\n",
    "        print('Random Forest best params:', best_params)\n",
    "        print('Exited the get_best_params_for_random_forest method')\n",
    "\n",
    "        return clf\n",
    "\n",
    "    except Exception as e:\n",
    "        raise Exception(\"Error occurred during parameter tuning\")\n"
   ]
  },
  {
   "cell_type": "code",
   "execution_count": 31,
   "metadata": {},
   "outputs": [
    {
     "name": "stdout",
     "output_type": "stream",
     "text": [
      "Entered the get_best_params_for_random_forest method\n",
      "Fitting 5 folds for each of 96 candidates, totalling 480 fits\n",
      "[CV 1/5] END criterion=gini, max_depth=None, max_features=auto, n_estimators=50;, score=0.855 total time=   0.0s\n"
     ]
    },
    {
     "name": "stderr",
     "output_type": "stream",
     "text": [
      "c:\\Users\\priks\\anaconda3\\envs\\side\\lib\\site-packages\\sklearn\\ensemble\\_forest.py:424: FutureWarning: `max_features='auto'` has been deprecated in 1.1 and will be removed in 1.3. To keep the past behaviour, explicitly set `max_features='sqrt'` or remove this parameter as it is also the default value for RandomForestClassifiers and ExtraTreesClassifiers.\n",
      "  warn(\n",
      "c:\\Users\\priks\\anaconda3\\envs\\side\\lib\\site-packages\\sklearn\\ensemble\\_forest.py:424: FutureWarning: `max_features='auto'` has been deprecated in 1.1 and will be removed in 1.3. To keep the past behaviour, explicitly set `max_features='sqrt'` or remove this parameter as it is also the default value for RandomForestClassifiers and ExtraTreesClassifiers.\n",
      "  warn(\n"
     ]
    },
    {
     "name": "stdout",
     "output_type": "stream",
     "text": [
      "[CV 2/5] END criterion=gini, max_depth=None, max_features=auto, n_estimators=50;, score=0.852 total time=   0.0s\n",
      "[CV 3/5] END criterion=gini, max_depth=None, max_features=auto, n_estimators=50;, score=0.860 total time=   0.0s\n"
     ]
    },
    {
     "name": "stderr",
     "output_type": "stream",
     "text": [
      "c:\\Users\\priks\\anaconda3\\envs\\side\\lib\\site-packages\\sklearn\\ensemble\\_forest.py:424: FutureWarning: `max_features='auto'` has been deprecated in 1.1 and will be removed in 1.3. To keep the past behaviour, explicitly set `max_features='sqrt'` or remove this parameter as it is also the default value for RandomForestClassifiers and ExtraTreesClassifiers.\n",
      "  warn(\n",
      "c:\\Users\\priks\\anaconda3\\envs\\side\\lib\\site-packages\\sklearn\\ensemble\\_forest.py:424: FutureWarning: `max_features='auto'` has been deprecated in 1.1 and will be removed in 1.3. To keep the past behaviour, explicitly set `max_features='sqrt'` or remove this parameter as it is also the default value for RandomForestClassifiers and ExtraTreesClassifiers.\n",
      "  warn(\n"
     ]
    },
    {
     "name": "stdout",
     "output_type": "stream",
     "text": [
      "[CV 4/5] END criterion=gini, max_depth=None, max_features=auto, n_estimators=50;, score=0.882 total time=   0.0s\n",
      "[CV 5/5] END criterion=gini, max_depth=None, max_features=auto, n_estimators=50;, score=0.855 total time=   0.0s\n"
     ]
    },
    {
     "name": "stderr",
     "output_type": "stream",
     "text": [
      "c:\\Users\\priks\\anaconda3\\envs\\side\\lib\\site-packages\\sklearn\\ensemble\\_forest.py:424: FutureWarning: `max_features='auto'` has been deprecated in 1.1 and will be removed in 1.3. To keep the past behaviour, explicitly set `max_features='sqrt'` or remove this parameter as it is also the default value for RandomForestClassifiers and ExtraTreesClassifiers.\n",
      "  warn(\n",
      "c:\\Users\\priks\\anaconda3\\envs\\side\\lib\\site-packages\\sklearn\\ensemble\\_forest.py:424: FutureWarning: `max_features='auto'` has been deprecated in 1.1 and will be removed in 1.3. To keep the past behaviour, explicitly set `max_features='sqrt'` or remove this parameter as it is also the default value for RandomForestClassifiers and ExtraTreesClassifiers.\n",
      "  warn(\n"
     ]
    },
    {
     "name": "stdout",
     "output_type": "stream",
     "text": [
      "[CV 1/5] END criterion=gini, max_depth=None, max_features=auto, n_estimators=100;, score=0.855 total time=   0.1s\n"
     ]
    },
    {
     "name": "stderr",
     "output_type": "stream",
     "text": [
      "c:\\Users\\priks\\anaconda3\\envs\\side\\lib\\site-packages\\sklearn\\ensemble\\_forest.py:424: FutureWarning: `max_features='auto'` has been deprecated in 1.1 and will be removed in 1.3. To keep the past behaviour, explicitly set `max_features='sqrt'` or remove this parameter as it is also the default value for RandomForestClassifiers and ExtraTreesClassifiers.\n",
      "  warn(\n"
     ]
    },
    {
     "name": "stdout",
     "output_type": "stream",
     "text": [
      "[CV 2/5] END criterion=gini, max_depth=None, max_features=auto, n_estimators=100;, score=0.852 total time=   0.1s\n"
     ]
    },
    {
     "name": "stderr",
     "output_type": "stream",
     "text": [
      "c:\\Users\\priks\\anaconda3\\envs\\side\\lib\\site-packages\\sklearn\\ensemble\\_forest.py:424: FutureWarning: `max_features='auto'` has been deprecated in 1.1 and will be removed in 1.3. To keep the past behaviour, explicitly set `max_features='sqrt'` or remove this parameter as it is also the default value for RandomForestClassifiers and ExtraTreesClassifiers.\n",
      "  warn(\n"
     ]
    },
    {
     "name": "stdout",
     "output_type": "stream",
     "text": [
      "[CV 3/5] END criterion=gini, max_depth=None, max_features=auto, n_estimators=100;, score=0.861 total time=   0.1s\n"
     ]
    },
    {
     "name": "stderr",
     "output_type": "stream",
     "text": [
      "c:\\Users\\priks\\anaconda3\\envs\\side\\lib\\site-packages\\sklearn\\ensemble\\_forest.py:424: FutureWarning: `max_features='auto'` has been deprecated in 1.1 and will be removed in 1.3. To keep the past behaviour, explicitly set `max_features='sqrt'` or remove this parameter as it is also the default value for RandomForestClassifiers and ExtraTreesClassifiers.\n",
      "  warn(\n"
     ]
    },
    {
     "name": "stdout",
     "output_type": "stream",
     "text": [
      "[CV 4/5] END criterion=gini, max_depth=None, max_features=auto, n_estimators=100;, score=0.883 total time=   0.1s\n"
     ]
    },
    {
     "name": "stderr",
     "output_type": "stream",
     "text": [
      "c:\\Users\\priks\\anaconda3\\envs\\side\\lib\\site-packages\\sklearn\\ensemble\\_forest.py:424: FutureWarning: `max_features='auto'` has been deprecated in 1.1 and will be removed in 1.3. To keep the past behaviour, explicitly set `max_features='sqrt'` or remove this parameter as it is also the default value for RandomForestClassifiers and ExtraTreesClassifiers.\n",
      "  warn(\n"
     ]
    },
    {
     "name": "stdout",
     "output_type": "stream",
     "text": [
      "[CV 5/5] END criterion=gini, max_depth=None, max_features=auto, n_estimators=100;, score=0.856 total time=   0.1s\n"
     ]
    },
    {
     "name": "stderr",
     "output_type": "stream",
     "text": [
      "c:\\Users\\priks\\anaconda3\\envs\\side\\lib\\site-packages\\sklearn\\ensemble\\_forest.py:424: FutureWarning: `max_features='auto'` has been deprecated in 1.1 and will be removed in 1.3. To keep the past behaviour, explicitly set `max_features='sqrt'` or remove this parameter as it is also the default value for RandomForestClassifiers and ExtraTreesClassifiers.\n",
      "  warn(\n"
     ]
    },
    {
     "name": "stdout",
     "output_type": "stream",
     "text": [
      "[CV 1/5] END criterion=gini, max_depth=None, max_features=auto, n_estimators=150;, score=0.855 total time=   0.3s\n"
     ]
    },
    {
     "name": "stderr",
     "output_type": "stream",
     "text": [
      "c:\\Users\\priks\\anaconda3\\envs\\side\\lib\\site-packages\\sklearn\\ensemble\\_forest.py:424: FutureWarning: `max_features='auto'` has been deprecated in 1.1 and will be removed in 1.3. To keep the past behaviour, explicitly set `max_features='sqrt'` or remove this parameter as it is also the default value for RandomForestClassifiers and ExtraTreesClassifiers.\n",
      "  warn(\n"
     ]
    },
    {
     "name": "stdout",
     "output_type": "stream",
     "text": [
      "[CV 2/5] END criterion=gini, max_depth=None, max_features=auto, n_estimators=150;, score=0.851 total time=   0.3s\n"
     ]
    },
    {
     "name": "stderr",
     "output_type": "stream",
     "text": [
      "c:\\Users\\priks\\anaconda3\\envs\\side\\lib\\site-packages\\sklearn\\ensemble\\_forest.py:424: FutureWarning: `max_features='auto'` has been deprecated in 1.1 and will be removed in 1.3. To keep the past behaviour, explicitly set `max_features='sqrt'` or remove this parameter as it is also the default value for RandomForestClassifiers and ExtraTreesClassifiers.\n",
      "  warn(\n"
     ]
    },
    {
     "name": "stdout",
     "output_type": "stream",
     "text": [
      "[CV 3/5] END criterion=gini, max_depth=None, max_features=auto, n_estimators=150;, score=0.862 total time=   0.3s\n"
     ]
    },
    {
     "name": "stderr",
     "output_type": "stream",
     "text": [
      "c:\\Users\\priks\\anaconda3\\envs\\side\\lib\\site-packages\\sklearn\\ensemble\\_forest.py:424: FutureWarning: `max_features='auto'` has been deprecated in 1.1 and will be removed in 1.3. To keep the past behaviour, explicitly set `max_features='sqrt'` or remove this parameter as it is also the default value for RandomForestClassifiers and ExtraTreesClassifiers.\n",
      "  warn(\n"
     ]
    },
    {
     "name": "stdout",
     "output_type": "stream",
     "text": [
      "[CV 4/5] END criterion=gini, max_depth=None, max_features=auto, n_estimators=150;, score=0.887 total time=   0.3s\n"
     ]
    },
    {
     "name": "stderr",
     "output_type": "stream",
     "text": [
      "c:\\Users\\priks\\anaconda3\\envs\\side\\lib\\site-packages\\sklearn\\ensemble\\_forest.py:424: FutureWarning: `max_features='auto'` has been deprecated in 1.1 and will be removed in 1.3. To keep the past behaviour, explicitly set `max_features='sqrt'` or remove this parameter as it is also the default value for RandomForestClassifiers and ExtraTreesClassifiers.\n",
      "  warn(\n"
     ]
    },
    {
     "name": "stdout",
     "output_type": "stream",
     "text": [
      "[CV 5/5] END criterion=gini, max_depth=None, max_features=auto, n_estimators=150;, score=0.857 total time=   0.3s\n"
     ]
    },
    {
     "name": "stderr",
     "output_type": "stream",
     "text": [
      "c:\\Users\\priks\\anaconda3\\envs\\side\\lib\\site-packages\\sklearn\\ensemble\\_forest.py:424: FutureWarning: `max_features='auto'` has been deprecated in 1.1 and will be removed in 1.3. To keep the past behaviour, explicitly set `max_features='sqrt'` or remove this parameter as it is also the default value for RandomForestClassifiers and ExtraTreesClassifiers.\n",
      "  warn(\n"
     ]
    },
    {
     "name": "stdout",
     "output_type": "stream",
     "text": [
      "[CV 1/5] END criterion=gini, max_depth=None, max_features=auto, n_estimators=200;, score=0.854 total time=   0.4s\n"
     ]
    },
    {
     "name": "stderr",
     "output_type": "stream",
     "text": [
      "c:\\Users\\priks\\anaconda3\\envs\\side\\lib\\site-packages\\sklearn\\ensemble\\_forest.py:424: FutureWarning: `max_features='auto'` has been deprecated in 1.1 and will be removed in 1.3. To keep the past behaviour, explicitly set `max_features='sqrt'` or remove this parameter as it is also the default value for RandomForestClassifiers and ExtraTreesClassifiers.\n",
      "  warn(\n"
     ]
    },
    {
     "name": "stdout",
     "output_type": "stream",
     "text": [
      "[CV 2/5] END criterion=gini, max_depth=None, max_features=auto, n_estimators=200;, score=0.853 total time=   0.4s\n"
     ]
    },
    {
     "name": "stderr",
     "output_type": "stream",
     "text": [
      "c:\\Users\\priks\\anaconda3\\envs\\side\\lib\\site-packages\\sklearn\\ensemble\\_forest.py:424: FutureWarning: `max_features='auto'` has been deprecated in 1.1 and will be removed in 1.3. To keep the past behaviour, explicitly set `max_features='sqrt'` or remove this parameter as it is also the default value for RandomForestClassifiers and ExtraTreesClassifiers.\n",
      "  warn(\n"
     ]
    },
    {
     "name": "stdout",
     "output_type": "stream",
     "text": [
      "[CV 3/5] END criterion=gini, max_depth=None, max_features=auto, n_estimators=200;, score=0.863 total time=   0.4s\n"
     ]
    },
    {
     "name": "stderr",
     "output_type": "stream",
     "text": [
      "c:\\Users\\priks\\anaconda3\\envs\\side\\lib\\site-packages\\sklearn\\ensemble\\_forest.py:424: FutureWarning: `max_features='auto'` has been deprecated in 1.1 and will be removed in 1.3. To keep the past behaviour, explicitly set `max_features='sqrt'` or remove this parameter as it is also the default value for RandomForestClassifiers and ExtraTreesClassifiers.\n",
      "  warn(\n"
     ]
    },
    {
     "name": "stdout",
     "output_type": "stream",
     "text": [
      "[CV 4/5] END criterion=gini, max_depth=None, max_features=auto, n_estimators=200;, score=0.887 total time=   0.4s\n"
     ]
    },
    {
     "name": "stderr",
     "output_type": "stream",
     "text": [
      "c:\\Users\\priks\\anaconda3\\envs\\side\\lib\\site-packages\\sklearn\\ensemble\\_forest.py:424: FutureWarning: `max_features='auto'` has been deprecated in 1.1 and will be removed in 1.3. To keep the past behaviour, explicitly set `max_features='sqrt'` or remove this parameter as it is also the default value for RandomForestClassifiers and ExtraTreesClassifiers.\n",
      "  warn(\n"
     ]
    },
    {
     "name": "stdout",
     "output_type": "stream",
     "text": [
      "[CV 5/5] END criterion=gini, max_depth=None, max_features=auto, n_estimators=200;, score=0.857 total time=   0.4s\n",
      "[CV 1/5] END criterion=gini, max_depth=None, max_features=sqrt, n_estimators=50;, score=0.854 total time=   0.0s\n",
      "[CV 2/5] END criterion=gini, max_depth=None, max_features=sqrt, n_estimators=50;, score=0.851 total time=   0.0s\n",
      "[CV 3/5] END criterion=gini, max_depth=None, max_features=sqrt, n_estimators=50;, score=0.859 total time=   0.0s\n",
      "[CV 4/5] END criterion=gini, max_depth=None, max_features=sqrt, n_estimators=50;, score=0.885 total time=   0.0s\n",
      "[CV 5/5] END criterion=gini, max_depth=None, max_features=sqrt, n_estimators=50;, score=0.856 total time=   0.0s\n",
      "[CV 1/5] END criterion=gini, max_depth=None, max_features=sqrt, n_estimators=100;, score=0.855 total time=   0.1s\n",
      "[CV 2/5] END criterion=gini, max_depth=None, max_features=sqrt, n_estimators=100;, score=0.852 total time=   0.1s\n",
      "[CV 3/5] END criterion=gini, max_depth=None, max_features=sqrt, n_estimators=100;, score=0.859 total time=   0.1s\n",
      "[CV 4/5] END criterion=gini, max_depth=None, max_features=sqrt, n_estimators=100;, score=0.882 total time=   0.1s\n",
      "[CV 5/5] END criterion=gini, max_depth=None, max_features=sqrt, n_estimators=100;, score=0.856 total time=   0.1s\n",
      "[CV 1/5] END criterion=gini, max_depth=None, max_features=sqrt, n_estimators=150;, score=0.854 total time=   0.3s\n",
      "[CV 2/5] END criterion=gini, max_depth=None, max_features=sqrt, n_estimators=150;, score=0.852 total time=   0.3s\n",
      "[CV 3/5] END criterion=gini, max_depth=None, max_features=sqrt, n_estimators=150;, score=0.863 total time=   0.3s\n",
      "[CV 4/5] END criterion=gini, max_depth=None, max_features=sqrt, n_estimators=150;, score=0.886 total time=   0.3s\n",
      "[CV 5/5] END criterion=gini, max_depth=None, max_features=sqrt, n_estimators=150;, score=0.857 total time=   0.3s\n",
      "[CV 1/5] END criterion=gini, max_depth=None, max_features=sqrt, n_estimators=200;, score=0.855 total time=   0.4s\n",
      "[CV 2/5] END criterion=gini, max_depth=None, max_features=sqrt, n_estimators=200;, score=0.855 total time=   0.4s\n",
      "[CV 3/5] END criterion=gini, max_depth=None, max_features=sqrt, n_estimators=200;, score=0.862 total time=   0.4s\n",
      "[CV 4/5] END criterion=gini, max_depth=None, max_features=sqrt, n_estimators=200;, score=0.884 total time=   0.4s\n",
      "[CV 5/5] END criterion=gini, max_depth=None, max_features=sqrt, n_estimators=200;, score=0.857 total time=   0.4s\n",
      "[CV 1/5] END criterion=gini, max_depth=None, max_features=log2, n_estimators=50;, score=0.854 total time=   0.0s\n",
      "[CV 2/5] END criterion=gini, max_depth=None, max_features=log2, n_estimators=50;, score=0.854 total time=   0.0s\n",
      "[CV 3/5] END criterion=gini, max_depth=None, max_features=log2, n_estimators=50;, score=0.857 total time=   0.0s\n",
      "[CV 4/5] END criterion=gini, max_depth=None, max_features=log2, n_estimators=50;, score=0.886 total time=   0.0s\n",
      "[CV 5/5] END criterion=gini, max_depth=None, max_features=log2, n_estimators=50;, score=0.856 total time=   0.0s\n",
      "[CV 1/5] END criterion=gini, max_depth=None, max_features=log2, n_estimators=100;, score=0.855 total time=   0.1s\n",
      "[CV 2/5] END criterion=gini, max_depth=None, max_features=log2, n_estimators=100;, score=0.851 total time=   0.1s\n",
      "[CV 3/5] END criterion=gini, max_depth=None, max_features=log2, n_estimators=100;, score=0.862 total time=   0.1s\n",
      "[CV 4/5] END criterion=gini, max_depth=None, max_features=log2, n_estimators=100;, score=0.887 total time=   0.1s\n",
      "[CV 5/5] END criterion=gini, max_depth=None, max_features=log2, n_estimators=100;, score=0.857 total time=   0.1s\n",
      "[CV 1/5] END criterion=gini, max_depth=None, max_features=log2, n_estimators=150;, score=0.853 total time=   0.2s\n",
      "[CV 2/5] END criterion=gini, max_depth=None, max_features=log2, n_estimators=150;, score=0.855 total time=   0.2s\n",
      "[CV 3/5] END criterion=gini, max_depth=None, max_features=log2, n_estimators=150;, score=0.858 total time=   0.2s\n",
      "[CV 4/5] END criterion=gini, max_depth=None, max_features=log2, n_estimators=150;, score=0.887 total time=   0.2s\n",
      "[CV 5/5] END criterion=gini, max_depth=None, max_features=log2, n_estimators=150;, score=0.856 total time=   0.2s\n",
      "[CV 1/5] END criterion=gini, max_depth=None, max_features=log2, n_estimators=200;, score=0.855 total time=   0.4s\n",
      "[CV 2/5] END criterion=gini, max_depth=None, max_features=log2, n_estimators=200;, score=0.853 total time=   0.4s\n",
      "[CV 3/5] END criterion=gini, max_depth=None, max_features=log2, n_estimators=200;, score=0.862 total time=   0.4s\n",
      "[CV 4/5] END criterion=gini, max_depth=None, max_features=log2, n_estimators=200;, score=0.883 total time=   0.4s\n",
      "[CV 5/5] END criterion=gini, max_depth=None, max_features=log2, n_estimators=200;, score=0.857 total time=   0.4s\n",
      "[CV 1/5] END criterion=gini, max_depth=10, max_features=auto, n_estimators=50;, score=0.659 total time=   0.0s\n",
      "[CV 2/5] END criterion=gini, max_depth=10, max_features=auto, n_estimators=50;, score=0.669 total time=   0.0s\n"
     ]
    },
    {
     "name": "stderr",
     "output_type": "stream",
     "text": [
      "c:\\Users\\priks\\anaconda3\\envs\\side\\lib\\site-packages\\sklearn\\ensemble\\_forest.py:424: FutureWarning: `max_features='auto'` has been deprecated in 1.1 and will be removed in 1.3. To keep the past behaviour, explicitly set `max_features='sqrt'` or remove this parameter as it is also the default value for RandomForestClassifiers and ExtraTreesClassifiers.\n",
      "  warn(\n",
      "c:\\Users\\priks\\anaconda3\\envs\\side\\lib\\site-packages\\sklearn\\ensemble\\_forest.py:424: FutureWarning: `max_features='auto'` has been deprecated in 1.1 and will be removed in 1.3. To keep the past behaviour, explicitly set `max_features='sqrt'` or remove this parameter as it is also the default value for RandomForestClassifiers and ExtraTreesClassifiers.\n",
      "  warn(\n",
      "c:\\Users\\priks\\anaconda3\\envs\\side\\lib\\site-packages\\sklearn\\ensemble\\_forest.py:424: FutureWarning: `max_features='auto'` has been deprecated in 1.1 and will be removed in 1.3. To keep the past behaviour, explicitly set `max_features='sqrt'` or remove this parameter as it is also the default value for RandomForestClassifiers and ExtraTreesClassifiers.\n",
      "  warn(\n"
     ]
    },
    {
     "name": "stdout",
     "output_type": "stream",
     "text": [
      "[CV 3/5] END criterion=gini, max_depth=10, max_features=auto, n_estimators=50;, score=0.679 total time=   0.0s\n",
      "[CV 4/5] END criterion=gini, max_depth=10, max_features=auto, n_estimators=50;, score=0.687 total time=   0.0s\n",
      "[CV 5/5] END criterion=gini, max_depth=10, max_features=auto, n_estimators=50;, score=0.671 total time=   0.0s\n"
     ]
    },
    {
     "name": "stderr",
     "output_type": "stream",
     "text": [
      "c:\\Users\\priks\\anaconda3\\envs\\side\\lib\\site-packages\\sklearn\\ensemble\\_forest.py:424: FutureWarning: `max_features='auto'` has been deprecated in 1.1 and will be removed in 1.3. To keep the past behaviour, explicitly set `max_features='sqrt'` or remove this parameter as it is also the default value for RandomForestClassifiers and ExtraTreesClassifiers.\n",
      "  warn(\n",
      "c:\\Users\\priks\\anaconda3\\envs\\side\\lib\\site-packages\\sklearn\\ensemble\\_forest.py:424: FutureWarning: `max_features='auto'` has been deprecated in 1.1 and will be removed in 1.3. To keep the past behaviour, explicitly set `max_features='sqrt'` or remove this parameter as it is also the default value for RandomForestClassifiers and ExtraTreesClassifiers.\n",
      "  warn(\n",
      "c:\\Users\\priks\\anaconda3\\envs\\side\\lib\\site-packages\\sklearn\\ensemble\\_forest.py:424: FutureWarning: `max_features='auto'` has been deprecated in 1.1 and will be removed in 1.3. To keep the past behaviour, explicitly set `max_features='sqrt'` or remove this parameter as it is also the default value for RandomForestClassifiers and ExtraTreesClassifiers.\n",
      "  warn(\n"
     ]
    },
    {
     "name": "stdout",
     "output_type": "stream",
     "text": [
      "[CV 1/5] END criterion=gini, max_depth=10, max_features=auto, n_estimators=100;, score=0.679 total time=   0.1s\n",
      "[CV 2/5] END criterion=gini, max_depth=10, max_features=auto, n_estimators=100;, score=0.666 total time=   0.1s\n"
     ]
    },
    {
     "name": "stderr",
     "output_type": "stream",
     "text": [
      "c:\\Users\\priks\\anaconda3\\envs\\side\\lib\\site-packages\\sklearn\\ensemble\\_forest.py:424: FutureWarning: `max_features='auto'` has been deprecated in 1.1 and will be removed in 1.3. To keep the past behaviour, explicitly set `max_features='sqrt'` or remove this parameter as it is also the default value for RandomForestClassifiers and ExtraTreesClassifiers.\n",
      "  warn(\n",
      "c:\\Users\\priks\\anaconda3\\envs\\side\\lib\\site-packages\\sklearn\\ensemble\\_forest.py:424: FutureWarning: `max_features='auto'` has been deprecated in 1.1 and will be removed in 1.3. To keep the past behaviour, explicitly set `max_features='sqrt'` or remove this parameter as it is also the default value for RandomForestClassifiers and ExtraTreesClassifiers.\n",
      "  warn(\n"
     ]
    },
    {
     "name": "stdout",
     "output_type": "stream",
     "text": [
      "[CV 3/5] END criterion=gini, max_depth=10, max_features=auto, n_estimators=100;, score=0.678 total time=   0.1s\n",
      "[CV 4/5] END criterion=gini, max_depth=10, max_features=auto, n_estimators=100;, score=0.709 total time=   0.1s\n"
     ]
    },
    {
     "name": "stderr",
     "output_type": "stream",
     "text": [
      "c:\\Users\\priks\\anaconda3\\envs\\side\\lib\\site-packages\\sklearn\\ensemble\\_forest.py:424: FutureWarning: `max_features='auto'` has been deprecated in 1.1 and will be removed in 1.3. To keep the past behaviour, explicitly set `max_features='sqrt'` or remove this parameter as it is also the default value for RandomForestClassifiers and ExtraTreesClassifiers.\n",
      "  warn(\n",
      "c:\\Users\\priks\\anaconda3\\envs\\side\\lib\\site-packages\\sklearn\\ensemble\\_forest.py:424: FutureWarning: `max_features='auto'` has been deprecated in 1.1 and will be removed in 1.3. To keep the past behaviour, explicitly set `max_features='sqrt'` or remove this parameter as it is also the default value for RandomForestClassifiers and ExtraTreesClassifiers.\n",
      "  warn(\n"
     ]
    },
    {
     "name": "stdout",
     "output_type": "stream",
     "text": [
      "[CV 5/5] END criterion=gini, max_depth=10, max_features=auto, n_estimators=100;, score=0.675 total time=   0.1s\n"
     ]
    },
    {
     "name": "stderr",
     "output_type": "stream",
     "text": [
      "c:\\Users\\priks\\anaconda3\\envs\\side\\lib\\site-packages\\sklearn\\ensemble\\_forest.py:424: FutureWarning: `max_features='auto'` has been deprecated in 1.1 and will be removed in 1.3. To keep the past behaviour, explicitly set `max_features='sqrt'` or remove this parameter as it is also the default value for RandomForestClassifiers and ExtraTreesClassifiers.\n",
      "  warn(\n"
     ]
    },
    {
     "name": "stdout",
     "output_type": "stream",
     "text": [
      "[CV 1/5] END criterion=gini, max_depth=10, max_features=auto, n_estimators=150;, score=0.679 total time=   0.1s\n"
     ]
    },
    {
     "name": "stderr",
     "output_type": "stream",
     "text": [
      "c:\\Users\\priks\\anaconda3\\envs\\side\\lib\\site-packages\\sklearn\\ensemble\\_forest.py:424: FutureWarning: `max_features='auto'` has been deprecated in 1.1 and will be removed in 1.3. To keep the past behaviour, explicitly set `max_features='sqrt'` or remove this parameter as it is also the default value for RandomForestClassifiers and ExtraTreesClassifiers.\n",
      "  warn(\n"
     ]
    },
    {
     "name": "stdout",
     "output_type": "stream",
     "text": [
      "[CV 2/5] END criterion=gini, max_depth=10, max_features=auto, n_estimators=150;, score=0.684 total time=   0.1s\n"
     ]
    },
    {
     "name": "stderr",
     "output_type": "stream",
     "text": [
      "c:\\Users\\priks\\anaconda3\\envs\\side\\lib\\site-packages\\sklearn\\ensemble\\_forest.py:424: FutureWarning: `max_features='auto'` has been deprecated in 1.1 and will be removed in 1.3. To keep the past behaviour, explicitly set `max_features='sqrt'` or remove this parameter as it is also the default value for RandomForestClassifiers and ExtraTreesClassifiers.\n",
      "  warn(\n"
     ]
    },
    {
     "name": "stdout",
     "output_type": "stream",
     "text": [
      "[CV 3/5] END criterion=gini, max_depth=10, max_features=auto, n_estimators=150;, score=0.678 total time=   0.1s\n"
     ]
    },
    {
     "name": "stderr",
     "output_type": "stream",
     "text": [
      "c:\\Users\\priks\\anaconda3\\envs\\side\\lib\\site-packages\\sklearn\\ensemble\\_forest.py:424: FutureWarning: `max_features='auto'` has been deprecated in 1.1 and will be removed in 1.3. To keep the past behaviour, explicitly set `max_features='sqrt'` or remove this parameter as it is also the default value for RandomForestClassifiers and ExtraTreesClassifiers.\n",
      "  warn(\n"
     ]
    },
    {
     "name": "stdout",
     "output_type": "stream",
     "text": [
      "[CV 4/5] END criterion=gini, max_depth=10, max_features=auto, n_estimators=150;, score=0.708 total time=   0.2s\n"
     ]
    },
    {
     "name": "stderr",
     "output_type": "stream",
     "text": [
      "c:\\Users\\priks\\anaconda3\\envs\\side\\lib\\site-packages\\sklearn\\ensemble\\_forest.py:424: FutureWarning: `max_features='auto'` has been deprecated in 1.1 and will be removed in 1.3. To keep the past behaviour, explicitly set `max_features='sqrt'` or remove this parameter as it is also the default value for RandomForestClassifiers and ExtraTreesClassifiers.\n",
      "  warn(\n"
     ]
    },
    {
     "name": "stdout",
     "output_type": "stream",
     "text": [
      "[CV 5/5] END criterion=gini, max_depth=10, max_features=auto, n_estimators=150;, score=0.683 total time=   0.1s\n"
     ]
    },
    {
     "name": "stderr",
     "output_type": "stream",
     "text": [
      "c:\\Users\\priks\\anaconda3\\envs\\side\\lib\\site-packages\\sklearn\\ensemble\\_forest.py:424: FutureWarning: `max_features='auto'` has been deprecated in 1.1 and will be removed in 1.3. To keep the past behaviour, explicitly set `max_features='sqrt'` or remove this parameter as it is also the default value for RandomForestClassifiers and ExtraTreesClassifiers.\n",
      "  warn(\n"
     ]
    },
    {
     "name": "stdout",
     "output_type": "stream",
     "text": [
      "[CV 1/5] END criterion=gini, max_depth=10, max_features=auto, n_estimators=200;, score=0.680 total time=   0.2s\n"
     ]
    },
    {
     "name": "stderr",
     "output_type": "stream",
     "text": [
      "c:\\Users\\priks\\anaconda3\\envs\\side\\lib\\site-packages\\sklearn\\ensemble\\_forest.py:424: FutureWarning: `max_features='auto'` has been deprecated in 1.1 and will be removed in 1.3. To keep the past behaviour, explicitly set `max_features='sqrt'` or remove this parameter as it is also the default value for RandomForestClassifiers and ExtraTreesClassifiers.\n",
      "  warn(\n"
     ]
    },
    {
     "name": "stdout",
     "output_type": "stream",
     "text": [
      "[CV 2/5] END criterion=gini, max_depth=10, max_features=auto, n_estimators=200;, score=0.688 total time=   0.2s\n"
     ]
    },
    {
     "name": "stderr",
     "output_type": "stream",
     "text": [
      "c:\\Users\\priks\\anaconda3\\envs\\side\\lib\\site-packages\\sklearn\\ensemble\\_forest.py:424: FutureWarning: `max_features='auto'` has been deprecated in 1.1 and will be removed in 1.3. To keep the past behaviour, explicitly set `max_features='sqrt'` or remove this parameter as it is also the default value for RandomForestClassifiers and ExtraTreesClassifiers.\n",
      "  warn(\n"
     ]
    },
    {
     "name": "stdout",
     "output_type": "stream",
     "text": [
      "[CV 3/5] END criterion=gini, max_depth=10, max_features=auto, n_estimators=200;, score=0.677 total time=   0.2s\n"
     ]
    },
    {
     "name": "stderr",
     "output_type": "stream",
     "text": [
      "c:\\Users\\priks\\anaconda3\\envs\\side\\lib\\site-packages\\sklearn\\ensemble\\_forest.py:424: FutureWarning: `max_features='auto'` has been deprecated in 1.1 and will be removed in 1.3. To keep the past behaviour, explicitly set `max_features='sqrt'` or remove this parameter as it is also the default value for RandomForestClassifiers and ExtraTreesClassifiers.\n",
      "  warn(\n"
     ]
    },
    {
     "name": "stdout",
     "output_type": "stream",
     "text": [
      "[CV 4/5] END criterion=gini, max_depth=10, max_features=auto, n_estimators=200;, score=0.712 total time=   0.2s\n"
     ]
    },
    {
     "name": "stderr",
     "output_type": "stream",
     "text": [
      "c:\\Users\\priks\\anaconda3\\envs\\side\\lib\\site-packages\\sklearn\\ensemble\\_forest.py:424: FutureWarning: `max_features='auto'` has been deprecated in 1.1 and will be removed in 1.3. To keep the past behaviour, explicitly set `max_features='sqrt'` or remove this parameter as it is also the default value for RandomForestClassifiers and ExtraTreesClassifiers.\n",
      "  warn(\n"
     ]
    },
    {
     "name": "stdout",
     "output_type": "stream",
     "text": [
      "[CV 5/5] END criterion=gini, max_depth=10, max_features=auto, n_estimators=200;, score=0.676 total time=   0.2s\n",
      "[CV 1/5] END criterion=gini, max_depth=10, max_features=sqrt, n_estimators=50;, score=0.683 total time=   0.0s\n",
      "[CV 2/5] END criterion=gini, max_depth=10, max_features=sqrt, n_estimators=50;, score=0.678 total time=   0.0s\n",
      "[CV 3/5] END criterion=gini, max_depth=10, max_features=sqrt, n_estimators=50;, score=0.675 total time=   0.0s\n",
      "[CV 4/5] END criterion=gini, max_depth=10, max_features=sqrt, n_estimators=50;, score=0.694 total time=   0.0s\n",
      "[CV 5/5] END criterion=gini, max_depth=10, max_features=sqrt, n_estimators=50;, score=0.669 total time=   0.0s\n",
      "[CV 1/5] END criterion=gini, max_depth=10, max_features=sqrt, n_estimators=100;, score=0.685 total time=   0.1s\n",
      "[CV 2/5] END criterion=gini, max_depth=10, max_features=sqrt, n_estimators=100;, score=0.674 total time=   0.1s\n",
      "[CV 3/5] END criterion=gini, max_depth=10, max_features=sqrt, n_estimators=100;, score=0.689 total time=   0.1s\n",
      "[CV 4/5] END criterion=gini, max_depth=10, max_features=sqrt, n_estimators=100;, score=0.710 total time=   0.1s\n",
      "[CV 5/5] END criterion=gini, max_depth=10, max_features=sqrt, n_estimators=100;, score=0.669 total time=   0.1s\n",
      "[CV 1/5] END criterion=gini, max_depth=10, max_features=sqrt, n_estimators=150;, score=0.687 total time=   0.1s\n",
      "[CV 2/5] END criterion=gini, max_depth=10, max_features=sqrt, n_estimators=150;, score=0.680 total time=   0.1s\n",
      "[CV 3/5] END criterion=gini, max_depth=10, max_features=sqrt, n_estimators=150;, score=0.679 total time=   0.1s\n",
      "[CV 4/5] END criterion=gini, max_depth=10, max_features=sqrt, n_estimators=150;, score=0.703 total time=   0.1s\n",
      "[CV 5/5] END criterion=gini, max_depth=10, max_features=sqrt, n_estimators=150;, score=0.683 total time=   0.1s\n",
      "[CV 1/5] END criterion=gini, max_depth=10, max_features=sqrt, n_estimators=200;, score=0.693 total time=   0.2s\n",
      "[CV 2/5] END criterion=gini, max_depth=10, max_features=sqrt, n_estimators=200;, score=0.690 total time=   0.2s\n",
      "[CV 3/5] END criterion=gini, max_depth=10, max_features=sqrt, n_estimators=200;, score=0.678 total time=   0.2s\n",
      "[CV 4/5] END criterion=gini, max_depth=10, max_features=sqrt, n_estimators=200;, score=0.713 total time=   0.2s\n",
      "[CV 5/5] END criterion=gini, max_depth=10, max_features=sqrt, n_estimators=200;, score=0.676 total time=   0.2s\n",
      "[CV 1/5] END criterion=gini, max_depth=10, max_features=log2, n_estimators=50;, score=0.678 total time=   0.0s\n",
      "[CV 2/5] END criterion=gini, max_depth=10, max_features=log2, n_estimators=50;, score=0.679 total time=   0.0s\n",
      "[CV 3/5] END criterion=gini, max_depth=10, max_features=log2, n_estimators=50;, score=0.678 total time=   0.0s\n",
      "[CV 4/5] END criterion=gini, max_depth=10, max_features=log2, n_estimators=50;, score=0.702 total time=   0.0s\n",
      "[CV 5/5] END criterion=gini, max_depth=10, max_features=log2, n_estimators=50;, score=0.672 total time=   0.0s\n",
      "[CV 1/5] END criterion=gini, max_depth=10, max_features=log2, n_estimators=100;, score=0.674 total time=   0.0s\n",
      "[CV 2/5] END criterion=gini, max_depth=10, max_features=log2, n_estimators=100;, score=0.688 total time=   0.0s\n",
      "[CV 3/5] END criterion=gini, max_depth=10, max_features=log2, n_estimators=100;, score=0.677 total time=   0.0s\n",
      "[CV 4/5] END criterion=gini, max_depth=10, max_features=log2, n_estimators=100;, score=0.711 total time=   0.0s\n",
      "[CV 5/5] END criterion=gini, max_depth=10, max_features=log2, n_estimators=100;, score=0.669 total time=   0.0s\n",
      "[CV 1/5] END criterion=gini, max_depth=10, max_features=log2, n_estimators=150;, score=0.687 total time=   0.1s\n",
      "[CV 2/5] END criterion=gini, max_depth=10, max_features=log2, n_estimators=150;, score=0.690 total time=   0.1s\n",
      "[CV 3/5] END criterion=gini, max_depth=10, max_features=log2, n_estimators=150;, score=0.667 total time=   0.1s\n",
      "[CV 4/5] END criterion=gini, max_depth=10, max_features=log2, n_estimators=150;, score=0.717 total time=   0.1s\n",
      "[CV 5/5] END criterion=gini, max_depth=10, max_features=log2, n_estimators=150;, score=0.673 total time=   0.1s\n",
      "[CV 1/5] END criterion=gini, max_depth=10, max_features=log2, n_estimators=200;, score=0.688 total time=   0.2s\n",
      "[CV 2/5] END criterion=gini, max_depth=10, max_features=log2, n_estimators=200;, score=0.691 total time=   0.2s\n",
      "[CV 3/5] END criterion=gini, max_depth=10, max_features=log2, n_estimators=200;, score=0.676 total time=   0.2s\n",
      "[CV 4/5] END criterion=gini, max_depth=10, max_features=log2, n_estimators=200;, score=0.702 total time=   0.2s\n",
      "[CV 5/5] END criterion=gini, max_depth=10, max_features=log2, n_estimators=200;, score=0.676 total time=   0.2s\n",
      "[CV 1/5] END criterion=gini, max_depth=20, max_features=auto, n_estimators=50;, score=0.834 total time=   0.0s\n"
     ]
    },
    {
     "name": "stderr",
     "output_type": "stream",
     "text": [
      "c:\\Users\\priks\\anaconda3\\envs\\side\\lib\\site-packages\\sklearn\\ensemble\\_forest.py:424: FutureWarning: `max_features='auto'` has been deprecated in 1.1 and will be removed in 1.3. To keep the past behaviour, explicitly set `max_features='sqrt'` or remove this parameter as it is also the default value for RandomForestClassifiers and ExtraTreesClassifiers.\n",
      "  warn(\n",
      "c:\\Users\\priks\\anaconda3\\envs\\side\\lib\\site-packages\\sklearn\\ensemble\\_forest.py:424: FutureWarning: `max_features='auto'` has been deprecated in 1.1 and will be removed in 1.3. To keep the past behaviour, explicitly set `max_features='sqrt'` or remove this parameter as it is also the default value for RandomForestClassifiers and ExtraTreesClassifiers.\n",
      "  warn(\n"
     ]
    },
    {
     "name": "stdout",
     "output_type": "stream",
     "text": [
      "[CV 2/5] END criterion=gini, max_depth=20, max_features=auto, n_estimators=50;, score=0.817 total time=   0.0s\n",
      "[CV 3/5] END criterion=gini, max_depth=20, max_features=auto, n_estimators=50;, score=0.824 total time=   0.0s\n"
     ]
    },
    {
     "name": "stderr",
     "output_type": "stream",
     "text": [
      "c:\\Users\\priks\\anaconda3\\envs\\side\\lib\\site-packages\\sklearn\\ensemble\\_forest.py:424: FutureWarning: `max_features='auto'` has been deprecated in 1.1 and will be removed in 1.3. To keep the past behaviour, explicitly set `max_features='sqrt'` or remove this parameter as it is also the default value for RandomForestClassifiers and ExtraTreesClassifiers.\n",
      "  warn(\n",
      "c:\\Users\\priks\\anaconda3\\envs\\side\\lib\\site-packages\\sklearn\\ensemble\\_forest.py:424: FutureWarning: `max_features='auto'` has been deprecated in 1.1 and will be removed in 1.3. To keep the past behaviour, explicitly set `max_features='sqrt'` or remove this parameter as it is also the default value for RandomForestClassifiers and ExtraTreesClassifiers.\n",
      "  warn(\n"
     ]
    },
    {
     "name": "stdout",
     "output_type": "stream",
     "text": [
      "[CV 4/5] END criterion=gini, max_depth=20, max_features=auto, n_estimators=50;, score=0.855 total time=   0.0s\n",
      "[CV 5/5] END criterion=gini, max_depth=20, max_features=auto, n_estimators=50;, score=0.825 total time=   0.0s\n"
     ]
    },
    {
     "name": "stderr",
     "output_type": "stream",
     "text": [
      "c:\\Users\\priks\\anaconda3\\envs\\side\\lib\\site-packages\\sklearn\\ensemble\\_forest.py:424: FutureWarning: `max_features='auto'` has been deprecated in 1.1 and will be removed in 1.3. To keep the past behaviour, explicitly set `max_features='sqrt'` or remove this parameter as it is also the default value for RandomForestClassifiers and ExtraTreesClassifiers.\n",
      "  warn(\n",
      "c:\\Users\\priks\\anaconda3\\envs\\side\\lib\\site-packages\\sklearn\\ensemble\\_forest.py:424: FutureWarning: `max_features='auto'` has been deprecated in 1.1 and will be removed in 1.3. To keep the past behaviour, explicitly set `max_features='sqrt'` or remove this parameter as it is also the default value for RandomForestClassifiers and ExtraTreesClassifiers.\n",
      "  warn(\n"
     ]
    },
    {
     "name": "stdout",
     "output_type": "stream",
     "text": [
      "[CV 1/5] END criterion=gini, max_depth=20, max_features=auto, n_estimators=100;, score=0.836 total time=   0.1s\n"
     ]
    },
    {
     "name": "stderr",
     "output_type": "stream",
     "text": [
      "c:\\Users\\priks\\anaconda3\\envs\\side\\lib\\site-packages\\sklearn\\ensemble\\_forest.py:424: FutureWarning: `max_features='auto'` has been deprecated in 1.1 and will be removed in 1.3. To keep the past behaviour, explicitly set `max_features='sqrt'` or remove this parameter as it is also the default value for RandomForestClassifiers and ExtraTreesClassifiers.\n",
      "  warn(\n"
     ]
    },
    {
     "name": "stdout",
     "output_type": "stream",
     "text": [
      "[CV 2/5] END criterion=gini, max_depth=20, max_features=auto, n_estimators=100;, score=0.821 total time=   0.1s\n"
     ]
    },
    {
     "name": "stderr",
     "output_type": "stream",
     "text": [
      "c:\\Users\\priks\\anaconda3\\envs\\side\\lib\\site-packages\\sklearn\\ensemble\\_forest.py:424: FutureWarning: `max_features='auto'` has been deprecated in 1.1 and will be removed in 1.3. To keep the past behaviour, explicitly set `max_features='sqrt'` or remove this parameter as it is also the default value for RandomForestClassifiers and ExtraTreesClassifiers.\n",
      "  warn(\n"
     ]
    },
    {
     "name": "stdout",
     "output_type": "stream",
     "text": [
      "[CV 3/5] END criterion=gini, max_depth=20, max_features=auto, n_estimators=100;, score=0.827 total time=   0.1s\n"
     ]
    },
    {
     "name": "stderr",
     "output_type": "stream",
     "text": [
      "c:\\Users\\priks\\anaconda3\\envs\\side\\lib\\site-packages\\sklearn\\ensemble\\_forest.py:424: FutureWarning: `max_features='auto'` has been deprecated in 1.1 and will be removed in 1.3. To keep the past behaviour, explicitly set `max_features='sqrt'` or remove this parameter as it is also the default value for RandomForestClassifiers and ExtraTreesClassifiers.\n",
      "  warn(\n"
     ]
    },
    {
     "name": "stdout",
     "output_type": "stream",
     "text": [
      "[CV 4/5] END criterion=gini, max_depth=20, max_features=auto, n_estimators=100;, score=0.860 total time=   0.1s\n"
     ]
    },
    {
     "name": "stderr",
     "output_type": "stream",
     "text": [
      "c:\\Users\\priks\\anaconda3\\envs\\side\\lib\\site-packages\\sklearn\\ensemble\\_forest.py:424: FutureWarning: `max_features='auto'` has been deprecated in 1.1 and will be removed in 1.3. To keep the past behaviour, explicitly set `max_features='sqrt'` or remove this parameter as it is also the default value for RandomForestClassifiers and ExtraTreesClassifiers.\n",
      "  warn(\n"
     ]
    },
    {
     "name": "stdout",
     "output_type": "stream",
     "text": [
      "[CV 5/5] END criterion=gini, max_depth=20, max_features=auto, n_estimators=100;, score=0.826 total time=   0.1s\n"
     ]
    },
    {
     "name": "stderr",
     "output_type": "stream",
     "text": [
      "c:\\Users\\priks\\anaconda3\\envs\\side\\lib\\site-packages\\sklearn\\ensemble\\_forest.py:424: FutureWarning: `max_features='auto'` has been deprecated in 1.1 and will be removed in 1.3. To keep the past behaviour, explicitly set `max_features='sqrt'` or remove this parameter as it is also the default value for RandomForestClassifiers and ExtraTreesClassifiers.\n",
      "  warn(\n"
     ]
    },
    {
     "name": "stdout",
     "output_type": "stream",
     "text": [
      "[CV 1/5] END criterion=gini, max_depth=20, max_features=auto, n_estimators=150;, score=0.834 total time=   0.2s\n"
     ]
    },
    {
     "name": "stderr",
     "output_type": "stream",
     "text": [
      "c:\\Users\\priks\\anaconda3\\envs\\side\\lib\\site-packages\\sklearn\\ensemble\\_forest.py:424: FutureWarning: `max_features='auto'` has been deprecated in 1.1 and will be removed in 1.3. To keep the past behaviour, explicitly set `max_features='sqrt'` or remove this parameter as it is also the default value for RandomForestClassifiers and ExtraTreesClassifiers.\n",
      "  warn(\n"
     ]
    },
    {
     "name": "stdout",
     "output_type": "stream",
     "text": [
      "[CV 2/5] END criterion=gini, max_depth=20, max_features=auto, n_estimators=150;, score=0.819 total time=   0.2s\n"
     ]
    },
    {
     "name": "stderr",
     "output_type": "stream",
     "text": [
      "c:\\Users\\priks\\anaconda3\\envs\\side\\lib\\site-packages\\sklearn\\ensemble\\_forest.py:424: FutureWarning: `max_features='auto'` has been deprecated in 1.1 and will be removed in 1.3. To keep the past behaviour, explicitly set `max_features='sqrt'` or remove this parameter as it is also the default value for RandomForestClassifiers and ExtraTreesClassifiers.\n",
      "  warn(\n"
     ]
    },
    {
     "name": "stdout",
     "output_type": "stream",
     "text": [
      "[CV 3/5] END criterion=gini, max_depth=20, max_features=auto, n_estimators=150;, score=0.833 total time=   0.2s\n"
     ]
    },
    {
     "name": "stderr",
     "output_type": "stream",
     "text": [
      "c:\\Users\\priks\\anaconda3\\envs\\side\\lib\\site-packages\\sklearn\\ensemble\\_forest.py:424: FutureWarning: `max_features='auto'` has been deprecated in 1.1 and will be removed in 1.3. To keep the past behaviour, explicitly set `max_features='sqrt'` or remove this parameter as it is also the default value for RandomForestClassifiers and ExtraTreesClassifiers.\n",
      "  warn(\n"
     ]
    },
    {
     "name": "stdout",
     "output_type": "stream",
     "text": [
      "[CV 4/5] END criterion=gini, max_depth=20, max_features=auto, n_estimators=150;, score=0.859 total time=   0.2s\n"
     ]
    },
    {
     "name": "stderr",
     "output_type": "stream",
     "text": [
      "c:\\Users\\priks\\anaconda3\\envs\\side\\lib\\site-packages\\sklearn\\ensemble\\_forest.py:424: FutureWarning: `max_features='auto'` has been deprecated in 1.1 and will be removed in 1.3. To keep the past behaviour, explicitly set `max_features='sqrt'` or remove this parameter as it is also the default value for RandomForestClassifiers and ExtraTreesClassifiers.\n",
      "  warn(\n"
     ]
    },
    {
     "name": "stdout",
     "output_type": "stream",
     "text": [
      "[CV 5/5] END criterion=gini, max_depth=20, max_features=auto, n_estimators=150;, score=0.824 total time=   0.2s\n"
     ]
    },
    {
     "name": "stderr",
     "output_type": "stream",
     "text": [
      "c:\\Users\\priks\\anaconda3\\envs\\side\\lib\\site-packages\\sklearn\\ensemble\\_forest.py:424: FutureWarning: `max_features='auto'` has been deprecated in 1.1 and will be removed in 1.3. To keep the past behaviour, explicitly set `max_features='sqrt'` or remove this parameter as it is also the default value for RandomForestClassifiers and ExtraTreesClassifiers.\n",
      "  warn(\n"
     ]
    },
    {
     "name": "stdout",
     "output_type": "stream",
     "text": [
      "[CV 1/5] END criterion=gini, max_depth=20, max_features=auto, n_estimators=200;, score=0.834 total time=   0.3s\n"
     ]
    },
    {
     "name": "stderr",
     "output_type": "stream",
     "text": [
      "c:\\Users\\priks\\anaconda3\\envs\\side\\lib\\site-packages\\sklearn\\ensemble\\_forest.py:424: FutureWarning: `max_features='auto'` has been deprecated in 1.1 and will be removed in 1.3. To keep the past behaviour, explicitly set `max_features='sqrt'` or remove this parameter as it is also the default value for RandomForestClassifiers and ExtraTreesClassifiers.\n",
      "  warn(\n"
     ]
    },
    {
     "name": "stdout",
     "output_type": "stream",
     "text": [
      "[CV 2/5] END criterion=gini, max_depth=20, max_features=auto, n_estimators=200;, score=0.815 total time=   0.3s\n"
     ]
    },
    {
     "name": "stderr",
     "output_type": "stream",
     "text": [
      "c:\\Users\\priks\\anaconda3\\envs\\side\\lib\\site-packages\\sklearn\\ensemble\\_forest.py:424: FutureWarning: `max_features='auto'` has been deprecated in 1.1 and will be removed in 1.3. To keep the past behaviour, explicitly set `max_features='sqrt'` or remove this parameter as it is also the default value for RandomForestClassifiers and ExtraTreesClassifiers.\n",
      "  warn(\n"
     ]
    },
    {
     "name": "stdout",
     "output_type": "stream",
     "text": [
      "[CV 3/5] END criterion=gini, max_depth=20, max_features=auto, n_estimators=200;, score=0.835 total time=   0.4s\n"
     ]
    },
    {
     "name": "stderr",
     "output_type": "stream",
     "text": [
      "c:\\Users\\priks\\anaconda3\\envs\\side\\lib\\site-packages\\sklearn\\ensemble\\_forest.py:424: FutureWarning: `max_features='auto'` has been deprecated in 1.1 and will be removed in 1.3. To keep the past behaviour, explicitly set `max_features='sqrt'` or remove this parameter as it is also the default value for RandomForestClassifiers and ExtraTreesClassifiers.\n",
      "  warn(\n"
     ]
    },
    {
     "name": "stdout",
     "output_type": "stream",
     "text": [
      "[CV 4/5] END criterion=gini, max_depth=20, max_features=auto, n_estimators=200;, score=0.853 total time=   0.4s\n"
     ]
    },
    {
     "name": "stderr",
     "output_type": "stream",
     "text": [
      "c:\\Users\\priks\\anaconda3\\envs\\side\\lib\\site-packages\\sklearn\\ensemble\\_forest.py:424: FutureWarning: `max_features='auto'` has been deprecated in 1.1 and will be removed in 1.3. To keep the past behaviour, explicitly set `max_features='sqrt'` or remove this parameter as it is also the default value for RandomForestClassifiers and ExtraTreesClassifiers.\n",
      "  warn(\n"
     ]
    },
    {
     "name": "stdout",
     "output_type": "stream",
     "text": [
      "[CV 5/5] END criterion=gini, max_depth=20, max_features=auto, n_estimators=200;, score=0.824 total time=   0.3s\n",
      "[CV 1/5] END criterion=gini, max_depth=20, max_features=sqrt, n_estimators=50;, score=0.832 total time=   0.0s\n",
      "[CV 2/5] END criterion=gini, max_depth=20, max_features=sqrt, n_estimators=50;, score=0.825 total time=   0.0s\n",
      "[CV 3/5] END criterion=gini, max_depth=20, max_features=sqrt, n_estimators=50;, score=0.819 total time=   0.0s\n",
      "[CV 4/5] END criterion=gini, max_depth=20, max_features=sqrt, n_estimators=50;, score=0.864 total time=   0.0s\n",
      "[CV 5/5] END criterion=gini, max_depth=20, max_features=sqrt, n_estimators=50;, score=0.820 total time=   0.0s\n",
      "[CV 1/5] END criterion=gini, max_depth=20, max_features=sqrt, n_estimators=100;, score=0.827 total time=   0.1s\n",
      "[CV 2/5] END criterion=gini, max_depth=20, max_features=sqrt, n_estimators=100;, score=0.813 total time=   0.1s\n",
      "[CV 3/5] END criterion=gini, max_depth=20, max_features=sqrt, n_estimators=100;, score=0.842 total time=   0.1s\n",
      "[CV 4/5] END criterion=gini, max_depth=20, max_features=sqrt, n_estimators=100;, score=0.855 total time=   0.1s\n",
      "[CV 5/5] END criterion=gini, max_depth=20, max_features=sqrt, n_estimators=100;, score=0.828 total time=   0.1s\n",
      "[CV 1/5] END criterion=gini, max_depth=20, max_features=sqrt, n_estimators=150;, score=0.834 total time=   0.2s\n",
      "[CV 2/5] END criterion=gini, max_depth=20, max_features=sqrt, n_estimators=150;, score=0.820 total time=   0.2s\n",
      "[CV 3/5] END criterion=gini, max_depth=20, max_features=sqrt, n_estimators=150;, score=0.829 total time=   0.2s\n",
      "[CV 4/5] END criterion=gini, max_depth=20, max_features=sqrt, n_estimators=150;, score=0.863 total time=   0.2s\n",
      "[CV 5/5] END criterion=gini, max_depth=20, max_features=sqrt, n_estimators=150;, score=0.822 total time=   0.2s\n",
      "[CV 1/5] END criterion=gini, max_depth=20, max_features=sqrt, n_estimators=200;, score=0.835 total time=   0.3s\n",
      "[CV 2/5] END criterion=gini, max_depth=20, max_features=sqrt, n_estimators=200;, score=0.813 total time=   0.3s\n",
      "[CV 3/5] END criterion=gini, max_depth=20, max_features=sqrt, n_estimators=200;, score=0.837 total time=   0.3s\n",
      "[CV 4/5] END criterion=gini, max_depth=20, max_features=sqrt, n_estimators=200;, score=0.858 total time=   0.3s\n",
      "[CV 5/5] END criterion=gini, max_depth=20, max_features=sqrt, n_estimators=200;, score=0.821 total time=   0.3s\n",
      "[CV 1/5] END criterion=gini, max_depth=20, max_features=log2, n_estimators=50;, score=0.831 total time=   0.0s\n",
      "[CV 2/5] END criterion=gini, max_depth=20, max_features=log2, n_estimators=50;, score=0.813 total time=   0.0s\n",
      "[CV 3/5] END criterion=gini, max_depth=20, max_features=log2, n_estimators=50;, score=0.821 total time=   0.0s\n",
      "[CV 4/5] END criterion=gini, max_depth=20, max_features=log2, n_estimators=50;, score=0.852 total time=   0.0s\n",
      "[CV 5/5] END criterion=gini, max_depth=20, max_features=log2, n_estimators=50;, score=0.822 total time=   0.0s\n",
      "[CV 1/5] END criterion=gini, max_depth=20, max_features=log2, n_estimators=100;, score=0.820 total time=   0.1s\n",
      "[CV 2/5] END criterion=gini, max_depth=20, max_features=log2, n_estimators=100;, score=0.818 total time=   0.1s\n",
      "[CV 3/5] END criterion=gini, max_depth=20, max_features=log2, n_estimators=100;, score=0.829 total time=   0.1s\n",
      "[CV 4/5] END criterion=gini, max_depth=20, max_features=log2, n_estimators=100;, score=0.852 total time=   0.1s\n",
      "[CV 5/5] END criterion=gini, max_depth=20, max_features=log2, n_estimators=100;, score=0.823 total time=   0.1s\n",
      "[CV 1/5] END criterion=gini, max_depth=20, max_features=log2, n_estimators=150;, score=0.832 total time=   0.2s\n",
      "[CV 2/5] END criterion=gini, max_depth=20, max_features=log2, n_estimators=150;, score=0.805 total time=   0.2s\n",
      "[CV 3/5] END criterion=gini, max_depth=20, max_features=log2, n_estimators=150;, score=0.821 total time=   0.2s\n",
      "[CV 4/5] END criterion=gini, max_depth=20, max_features=log2, n_estimators=150;, score=0.852 total time=   0.2s\n",
      "[CV 5/5] END criterion=gini, max_depth=20, max_features=log2, n_estimators=150;, score=0.820 total time=   0.2s\n",
      "[CV 1/5] END criterion=gini, max_depth=20, max_features=log2, n_estimators=200;, score=0.825 total time=   0.3s\n",
      "[CV 2/5] END criterion=gini, max_depth=20, max_features=log2, n_estimators=200;, score=0.807 total time=   0.3s\n",
      "[CV 3/5] END criterion=gini, max_depth=20, max_features=log2, n_estimators=200;, score=0.834 total time=   0.3s\n",
      "[CV 4/5] END criterion=gini, max_depth=20, max_features=log2, n_estimators=200;, score=0.853 total time=   0.3s\n",
      "[CV 5/5] END criterion=gini, max_depth=20, max_features=log2, n_estimators=200;, score=0.826 total time=   0.3s\n",
      "[CV 1/5] END criterion=gini, max_depth=30, max_features=auto, n_estimators=50;, score=0.851 total time=   0.0s\n"
     ]
    },
    {
     "name": "stderr",
     "output_type": "stream",
     "text": [
      "c:\\Users\\priks\\anaconda3\\envs\\side\\lib\\site-packages\\sklearn\\ensemble\\_forest.py:424: FutureWarning: `max_features='auto'` has been deprecated in 1.1 and will be removed in 1.3. To keep the past behaviour, explicitly set `max_features='sqrt'` or remove this parameter as it is also the default value for RandomForestClassifiers and ExtraTreesClassifiers.\n",
      "  warn(\n",
      "c:\\Users\\priks\\anaconda3\\envs\\side\\lib\\site-packages\\sklearn\\ensemble\\_forest.py:424: FutureWarning: `max_features='auto'` has been deprecated in 1.1 and will be removed in 1.3. To keep the past behaviour, explicitly set `max_features='sqrt'` or remove this parameter as it is also the default value for RandomForestClassifiers and ExtraTreesClassifiers.\n",
      "  warn(\n"
     ]
    },
    {
     "name": "stdout",
     "output_type": "stream",
     "text": [
      "[CV 2/5] END criterion=gini, max_depth=30, max_features=auto, n_estimators=50;, score=0.852 total time=   0.0s\n",
      "[CV 3/5] END criterion=gini, max_depth=30, max_features=auto, n_estimators=50;, score=0.857 total time=   0.0s\n"
     ]
    },
    {
     "name": "stderr",
     "output_type": "stream",
     "text": [
      "c:\\Users\\priks\\anaconda3\\envs\\side\\lib\\site-packages\\sklearn\\ensemble\\_forest.py:424: FutureWarning: `max_features='auto'` has been deprecated in 1.1 and will be removed in 1.3. To keep the past behaviour, explicitly set `max_features='sqrt'` or remove this parameter as it is also the default value for RandomForestClassifiers and ExtraTreesClassifiers.\n",
      "  warn(\n",
      "c:\\Users\\priks\\anaconda3\\envs\\side\\lib\\site-packages\\sklearn\\ensemble\\_forest.py:424: FutureWarning: `max_features='auto'` has been deprecated in 1.1 and will be removed in 1.3. To keep the past behaviour, explicitly set `max_features='sqrt'` or remove this parameter as it is also the default value for RandomForestClassifiers and ExtraTreesClassifiers.\n",
      "  warn(\n"
     ]
    },
    {
     "name": "stdout",
     "output_type": "stream",
     "text": [
      "[CV 4/5] END criterion=gini, max_depth=30, max_features=auto, n_estimators=50;, score=0.882 total time=   0.0s\n",
      "[CV 5/5] END criterion=gini, max_depth=30, max_features=auto, n_estimators=50;, score=0.855 total time=   0.0s\n"
     ]
    },
    {
     "name": "stderr",
     "output_type": "stream",
     "text": [
      "c:\\Users\\priks\\anaconda3\\envs\\side\\lib\\site-packages\\sklearn\\ensemble\\_forest.py:424: FutureWarning: `max_features='auto'` has been deprecated in 1.1 and will be removed in 1.3. To keep the past behaviour, explicitly set `max_features='sqrt'` or remove this parameter as it is also the default value for RandomForestClassifiers and ExtraTreesClassifiers.\n",
      "  warn(\n",
      "c:\\Users\\priks\\anaconda3\\envs\\side\\lib\\site-packages\\sklearn\\ensemble\\_forest.py:424: FutureWarning: `max_features='auto'` has been deprecated in 1.1 and will be removed in 1.3. To keep the past behaviour, explicitly set `max_features='sqrt'` or remove this parameter as it is also the default value for RandomForestClassifiers and ExtraTreesClassifiers.\n",
      "  warn(\n"
     ]
    },
    {
     "name": "stdout",
     "output_type": "stream",
     "text": [
      "[CV 1/5] END criterion=gini, max_depth=30, max_features=auto, n_estimators=100;, score=0.854 total time=   0.1s\n"
     ]
    },
    {
     "name": "stderr",
     "output_type": "stream",
     "text": [
      "c:\\Users\\priks\\anaconda3\\envs\\side\\lib\\site-packages\\sklearn\\ensemble\\_forest.py:424: FutureWarning: `max_features='auto'` has been deprecated in 1.1 and will be removed in 1.3. To keep the past behaviour, explicitly set `max_features='sqrt'` or remove this parameter as it is also the default value for RandomForestClassifiers and ExtraTreesClassifiers.\n",
      "  warn(\n"
     ]
    },
    {
     "name": "stdout",
     "output_type": "stream",
     "text": [
      "[CV 2/5] END criterion=gini, max_depth=30, max_features=auto, n_estimators=100;, score=0.852 total time=   0.1s\n"
     ]
    },
    {
     "name": "stderr",
     "output_type": "stream",
     "text": [
      "c:\\Users\\priks\\anaconda3\\envs\\side\\lib\\site-packages\\sklearn\\ensemble\\_forest.py:424: FutureWarning: `max_features='auto'` has been deprecated in 1.1 and will be removed in 1.3. To keep the past behaviour, explicitly set `max_features='sqrt'` or remove this parameter as it is also the default value for RandomForestClassifiers and ExtraTreesClassifiers.\n",
      "  warn(\n"
     ]
    },
    {
     "name": "stdout",
     "output_type": "stream",
     "text": [
      "[CV 3/5] END criterion=gini, max_depth=30, max_features=auto, n_estimators=100;, score=0.859 total time=   0.1s\n"
     ]
    },
    {
     "name": "stderr",
     "output_type": "stream",
     "text": [
      "c:\\Users\\priks\\anaconda3\\envs\\side\\lib\\site-packages\\sklearn\\ensemble\\_forest.py:424: FutureWarning: `max_features='auto'` has been deprecated in 1.1 and will be removed in 1.3. To keep the past behaviour, explicitly set `max_features='sqrt'` or remove this parameter as it is also the default value for RandomForestClassifiers and ExtraTreesClassifiers.\n",
      "  warn(\n"
     ]
    },
    {
     "name": "stdout",
     "output_type": "stream",
     "text": [
      "[CV 4/5] END criterion=gini, max_depth=30, max_features=auto, n_estimators=100;, score=0.882 total time=   0.1s\n"
     ]
    },
    {
     "name": "stderr",
     "output_type": "stream",
     "text": [
      "c:\\Users\\priks\\anaconda3\\envs\\side\\lib\\site-packages\\sklearn\\ensemble\\_forest.py:424: FutureWarning: `max_features='auto'` has been deprecated in 1.1 and will be removed in 1.3. To keep the past behaviour, explicitly set `max_features='sqrt'` or remove this parameter as it is also the default value for RandomForestClassifiers and ExtraTreesClassifiers.\n",
      "  warn(\n"
     ]
    },
    {
     "name": "stdout",
     "output_type": "stream",
     "text": [
      "[CV 5/5] END criterion=gini, max_depth=30, max_features=auto, n_estimators=100;, score=0.857 total time=   0.2s\n"
     ]
    },
    {
     "name": "stderr",
     "output_type": "stream",
     "text": [
      "c:\\Users\\priks\\anaconda3\\envs\\side\\lib\\site-packages\\sklearn\\ensemble\\_forest.py:424: FutureWarning: `max_features='auto'` has been deprecated in 1.1 and will be removed in 1.3. To keep the past behaviour, explicitly set `max_features='sqrt'` or remove this parameter as it is also the default value for RandomForestClassifiers and ExtraTreesClassifiers.\n",
      "  warn(\n"
     ]
    },
    {
     "name": "stdout",
     "output_type": "stream",
     "text": [
      "[CV 1/5] END criterion=gini, max_depth=30, max_features=auto, n_estimators=150;, score=0.855 total time=   0.3s\n"
     ]
    },
    {
     "name": "stderr",
     "output_type": "stream",
     "text": [
      "c:\\Users\\priks\\anaconda3\\envs\\side\\lib\\site-packages\\sklearn\\ensemble\\_forest.py:424: FutureWarning: `max_features='auto'` has been deprecated in 1.1 and will be removed in 1.3. To keep the past behaviour, explicitly set `max_features='sqrt'` or remove this parameter as it is also the default value for RandomForestClassifiers and ExtraTreesClassifiers.\n",
      "  warn(\n"
     ]
    },
    {
     "name": "stdout",
     "output_type": "stream",
     "text": [
      "[CV 2/5] END criterion=gini, max_depth=30, max_features=auto, n_estimators=150;, score=0.852 total time=   0.3s\n"
     ]
    },
    {
     "name": "stderr",
     "output_type": "stream",
     "text": [
      "c:\\Users\\priks\\anaconda3\\envs\\side\\lib\\site-packages\\sklearn\\ensemble\\_forest.py:424: FutureWarning: `max_features='auto'` has been deprecated in 1.1 and will be removed in 1.3. To keep the past behaviour, explicitly set `max_features='sqrt'` or remove this parameter as it is also the default value for RandomForestClassifiers and ExtraTreesClassifiers.\n",
      "  warn(\n"
     ]
    },
    {
     "name": "stdout",
     "output_type": "stream",
     "text": [
      "[CV 3/5] END criterion=gini, max_depth=30, max_features=auto, n_estimators=150;, score=0.860 total time=   0.3s\n"
     ]
    },
    {
     "name": "stderr",
     "output_type": "stream",
     "text": [
      "c:\\Users\\priks\\anaconda3\\envs\\side\\lib\\site-packages\\sklearn\\ensemble\\_forest.py:424: FutureWarning: `max_features='auto'` has been deprecated in 1.1 and will be removed in 1.3. To keep the past behaviour, explicitly set `max_features='sqrt'` or remove this parameter as it is also the default value for RandomForestClassifiers and ExtraTreesClassifiers.\n",
      "  warn(\n"
     ]
    },
    {
     "name": "stdout",
     "output_type": "stream",
     "text": [
      "[CV 4/5] END criterion=gini, max_depth=30, max_features=auto, n_estimators=150;, score=0.887 total time=   0.3s\n"
     ]
    },
    {
     "name": "stderr",
     "output_type": "stream",
     "text": [
      "c:\\Users\\priks\\anaconda3\\envs\\side\\lib\\site-packages\\sklearn\\ensemble\\_forest.py:424: FutureWarning: `max_features='auto'` has been deprecated in 1.1 and will be removed in 1.3. To keep the past behaviour, explicitly set `max_features='sqrt'` or remove this parameter as it is also the default value for RandomForestClassifiers and ExtraTreesClassifiers.\n",
      "  warn(\n"
     ]
    },
    {
     "name": "stdout",
     "output_type": "stream",
     "text": [
      "[CV 5/5] END criterion=gini, max_depth=30, max_features=auto, n_estimators=150;, score=0.857 total time=   0.3s\n"
     ]
    },
    {
     "name": "stderr",
     "output_type": "stream",
     "text": [
      "c:\\Users\\priks\\anaconda3\\envs\\side\\lib\\site-packages\\sklearn\\ensemble\\_forest.py:424: FutureWarning: `max_features='auto'` has been deprecated in 1.1 and will be removed in 1.3. To keep the past behaviour, explicitly set `max_features='sqrt'` or remove this parameter as it is also the default value for RandomForestClassifiers and ExtraTreesClassifiers.\n",
      "  warn(\n"
     ]
    },
    {
     "name": "stdout",
     "output_type": "stream",
     "text": [
      "[CV 1/5] END criterion=gini, max_depth=30, max_features=auto, n_estimators=200;, score=0.851 total time=   0.4s\n"
     ]
    },
    {
     "name": "stderr",
     "output_type": "stream",
     "text": [
      "c:\\Users\\priks\\anaconda3\\envs\\side\\lib\\site-packages\\sklearn\\ensemble\\_forest.py:424: FutureWarning: `max_features='auto'` has been deprecated in 1.1 and will be removed in 1.3. To keep the past behaviour, explicitly set `max_features='sqrt'` or remove this parameter as it is also the default value for RandomForestClassifiers and ExtraTreesClassifiers.\n",
      "  warn(\n"
     ]
    },
    {
     "name": "stdout",
     "output_type": "stream",
     "text": [
      "[CV 2/5] END criterion=gini, max_depth=30, max_features=auto, n_estimators=200;, score=0.850 total time=   0.4s\n"
     ]
    },
    {
     "name": "stderr",
     "output_type": "stream",
     "text": [
      "c:\\Users\\priks\\anaconda3\\envs\\side\\lib\\site-packages\\sklearn\\ensemble\\_forest.py:424: FutureWarning: `max_features='auto'` has been deprecated in 1.1 and will be removed in 1.3. To keep the past behaviour, explicitly set `max_features='sqrt'` or remove this parameter as it is also the default value for RandomForestClassifiers and ExtraTreesClassifiers.\n",
      "  warn(\n"
     ]
    },
    {
     "name": "stdout",
     "output_type": "stream",
     "text": [
      "[CV 3/5] END criterion=gini, max_depth=30, max_features=auto, n_estimators=200;, score=0.860 total time=   0.4s\n"
     ]
    },
    {
     "name": "stderr",
     "output_type": "stream",
     "text": [
      "c:\\Users\\priks\\anaconda3\\envs\\side\\lib\\site-packages\\sklearn\\ensemble\\_forest.py:424: FutureWarning: `max_features='auto'` has been deprecated in 1.1 and will be removed in 1.3. To keep the past behaviour, explicitly set `max_features='sqrt'` or remove this parameter as it is also the default value for RandomForestClassifiers and ExtraTreesClassifiers.\n",
      "  warn(\n"
     ]
    },
    {
     "name": "stdout",
     "output_type": "stream",
     "text": [
      "[CV 4/5] END criterion=gini, max_depth=30, max_features=auto, n_estimators=200;, score=0.885 total time=   0.4s\n"
     ]
    },
    {
     "name": "stderr",
     "output_type": "stream",
     "text": [
      "c:\\Users\\priks\\anaconda3\\envs\\side\\lib\\site-packages\\sklearn\\ensemble\\_forest.py:424: FutureWarning: `max_features='auto'` has been deprecated in 1.1 and will be removed in 1.3. To keep the past behaviour, explicitly set `max_features='sqrt'` or remove this parameter as it is also the default value for RandomForestClassifiers and ExtraTreesClassifiers.\n",
      "  warn(\n"
     ]
    },
    {
     "name": "stdout",
     "output_type": "stream",
     "text": [
      "[CV 5/5] END criterion=gini, max_depth=30, max_features=auto, n_estimators=200;, score=0.855 total time=   0.4s\n",
      "[CV 1/5] END criterion=gini, max_depth=30, max_features=sqrt, n_estimators=50;, score=0.850 total time=   0.0s\n",
      "[CV 2/5] END criterion=gini, max_depth=30, max_features=sqrt, n_estimators=50;, score=0.851 total time=   0.0s\n",
      "[CV 3/5] END criterion=gini, max_depth=30, max_features=sqrt, n_estimators=50;, score=0.859 total time=   0.0s\n",
      "[CV 4/5] END criterion=gini, max_depth=30, max_features=sqrt, n_estimators=50;, score=0.884 total time=   0.0s\n",
      "[CV 5/5] END criterion=gini, max_depth=30, max_features=sqrt, n_estimators=50;, score=0.855 total time=   0.0s\n",
      "[CV 1/5] END criterion=gini, max_depth=30, max_features=sqrt, n_estimators=100;, score=0.853 total time=   0.1s\n",
      "[CV 2/5] END criterion=gini, max_depth=30, max_features=sqrt, n_estimators=100;, score=0.855 total time=   0.1s\n",
      "[CV 3/5] END criterion=gini, max_depth=30, max_features=sqrt, n_estimators=100;, score=0.857 total time=   0.1s\n",
      "[CV 4/5] END criterion=gini, max_depth=30, max_features=sqrt, n_estimators=100;, score=0.883 total time=   0.1s\n",
      "[CV 5/5] END criterion=gini, max_depth=30, max_features=sqrt, n_estimators=100;, score=0.855 total time=   0.1s\n",
      "[CV 1/5] END criterion=gini, max_depth=30, max_features=sqrt, n_estimators=150;, score=0.855 total time=   0.3s\n",
      "[CV 2/5] END criterion=gini, max_depth=30, max_features=sqrt, n_estimators=150;, score=0.855 total time=   0.3s\n",
      "[CV 3/5] END criterion=gini, max_depth=30, max_features=sqrt, n_estimators=150;, score=0.861 total time=   0.2s\n",
      "[CV 4/5] END criterion=gini, max_depth=30, max_features=sqrt, n_estimators=150;, score=0.882 total time=   0.2s\n",
      "[CV 5/5] END criterion=gini, max_depth=30, max_features=sqrt, n_estimators=150;, score=0.857 total time=   0.3s\n",
      "[CV 1/5] END criterion=gini, max_depth=30, max_features=sqrt, n_estimators=200;, score=0.854 total time=   0.4s\n",
      "[CV 2/5] END criterion=gini, max_depth=30, max_features=sqrt, n_estimators=200;, score=0.851 total time=   0.4s\n",
      "[CV 3/5] END criterion=gini, max_depth=30, max_features=sqrt, n_estimators=200;, score=0.862 total time=   0.4s\n",
      "[CV 4/5] END criterion=gini, max_depth=30, max_features=sqrt, n_estimators=200;, score=0.882 total time=   0.4s\n",
      "[CV 5/5] END criterion=gini, max_depth=30, max_features=sqrt, n_estimators=200;, score=0.856 total time=   0.4s\n",
      "[CV 1/5] END criterion=gini, max_depth=30, max_features=log2, n_estimators=50;, score=0.851 total time=   0.0s\n",
      "[CV 2/5] END criterion=gini, max_depth=30, max_features=log2, n_estimators=50;, score=0.851 total time=   0.0s\n",
      "[CV 3/5] END criterion=gini, max_depth=30, max_features=log2, n_estimators=50;, score=0.856 total time=   0.0s\n",
      "[CV 4/5] END criterion=gini, max_depth=30, max_features=log2, n_estimators=50;, score=0.887 total time=   0.0s\n",
      "[CV 5/5] END criterion=gini, max_depth=30, max_features=log2, n_estimators=50;, score=0.854 total time=   0.0s\n",
      "[CV 1/5] END criterion=gini, max_depth=30, max_features=log2, n_estimators=100;, score=0.851 total time=   0.1s\n",
      "[CV 2/5] END criterion=gini, max_depth=30, max_features=log2, n_estimators=100;, score=0.853 total time=   0.1s\n",
      "[CV 3/5] END criterion=gini, max_depth=30, max_features=log2, n_estimators=100;, score=0.860 total time=   0.1s\n",
      "[CV 4/5] END criterion=gini, max_depth=30, max_features=log2, n_estimators=100;, score=0.884 total time=   0.1s\n",
      "[CV 5/5] END criterion=gini, max_depth=30, max_features=log2, n_estimators=100;, score=0.857 total time=   0.1s\n",
      "[CV 1/5] END criterion=gini, max_depth=30, max_features=log2, n_estimators=150;, score=0.854 total time=   0.2s\n",
      "[CV 2/5] END criterion=gini, max_depth=30, max_features=log2, n_estimators=150;, score=0.851 total time=   0.2s\n",
      "[CV 3/5] END criterion=gini, max_depth=30, max_features=log2, n_estimators=150;, score=0.860 total time=   0.3s\n",
      "[CV 4/5] END criterion=gini, max_depth=30, max_features=log2, n_estimators=150;, score=0.885 total time=   0.3s\n",
      "[CV 5/5] END criterion=gini, max_depth=30, max_features=log2, n_estimators=150;, score=0.857 total time=   0.3s\n",
      "[CV 1/5] END criterion=gini, max_depth=30, max_features=log2, n_estimators=200;, score=0.852 total time=   0.4s\n",
      "[CV 2/5] END criterion=gini, max_depth=30, max_features=log2, n_estimators=200;, score=0.851 total time=   0.4s\n",
      "[CV 3/5] END criterion=gini, max_depth=30, max_features=log2, n_estimators=200;, score=0.861 total time=   0.4s\n",
      "[CV 4/5] END criterion=gini, max_depth=30, max_features=log2, n_estimators=200;, score=0.882 total time=   0.3s\n",
      "[CV 5/5] END criterion=gini, max_depth=30, max_features=log2, n_estimators=200;, score=0.857 total time=   0.3s\n",
      "[CV 1/5] END criterion=entropy, max_depth=None, max_features=auto, n_estimators=50;, score=0.855 total time=   0.0s\n"
     ]
    },
    {
     "name": "stderr",
     "output_type": "stream",
     "text": [
      "c:\\Users\\priks\\anaconda3\\envs\\side\\lib\\site-packages\\sklearn\\ensemble\\_forest.py:424: FutureWarning: `max_features='auto'` has been deprecated in 1.1 and will be removed in 1.3. To keep the past behaviour, explicitly set `max_features='sqrt'` or remove this parameter as it is also the default value for RandomForestClassifiers and ExtraTreesClassifiers.\n",
      "  warn(\n",
      "c:\\Users\\priks\\anaconda3\\envs\\side\\lib\\site-packages\\sklearn\\ensemble\\_forest.py:424: FutureWarning: `max_features='auto'` has been deprecated in 1.1 and will be removed in 1.3. To keep the past behaviour, explicitly set `max_features='sqrt'` or remove this parameter as it is also the default value for RandomForestClassifiers and ExtraTreesClassifiers.\n",
      "  warn(\n"
     ]
    },
    {
     "name": "stdout",
     "output_type": "stream",
     "text": [
      "[CV 2/5] END criterion=entropy, max_depth=None, max_features=auto, n_estimators=50;, score=0.852 total time=   0.0s\n",
      "[CV 3/5] END criterion=entropy, max_depth=None, max_features=auto, n_estimators=50;, score=0.859 total time=   0.0s\n"
     ]
    },
    {
     "name": "stderr",
     "output_type": "stream",
     "text": [
      "c:\\Users\\priks\\anaconda3\\envs\\side\\lib\\site-packages\\sklearn\\ensemble\\_forest.py:424: FutureWarning: `max_features='auto'` has been deprecated in 1.1 and will be removed in 1.3. To keep the past behaviour, explicitly set `max_features='sqrt'` or remove this parameter as it is also the default value for RandomForestClassifiers and ExtraTreesClassifiers.\n",
      "  warn(\n",
      "c:\\Users\\priks\\anaconda3\\envs\\side\\lib\\site-packages\\sklearn\\ensemble\\_forest.py:424: FutureWarning: `max_features='auto'` has been deprecated in 1.1 and will be removed in 1.3. To keep the past behaviour, explicitly set `max_features='sqrt'` or remove this parameter as it is also the default value for RandomForestClassifiers and ExtraTreesClassifiers.\n",
      "  warn(\n"
     ]
    },
    {
     "name": "stdout",
     "output_type": "stream",
     "text": [
      "[CV 4/5] END criterion=entropy, max_depth=None, max_features=auto, n_estimators=50;, score=0.882 total time=   0.0s\n",
      "[CV 5/5] END criterion=entropy, max_depth=None, max_features=auto, n_estimators=50;, score=0.857 total time=   0.0s\n"
     ]
    },
    {
     "name": "stderr",
     "output_type": "stream",
     "text": [
      "c:\\Users\\priks\\anaconda3\\envs\\side\\lib\\site-packages\\sklearn\\ensemble\\_forest.py:424: FutureWarning: `max_features='auto'` has been deprecated in 1.1 and will be removed in 1.3. To keep the past behaviour, explicitly set `max_features='sqrt'` or remove this parameter as it is also the default value for RandomForestClassifiers and ExtraTreesClassifiers.\n",
      "  warn(\n",
      "c:\\Users\\priks\\anaconda3\\envs\\side\\lib\\site-packages\\sklearn\\ensemble\\_forest.py:424: FutureWarning: `max_features='auto'` has been deprecated in 1.1 and will be removed in 1.3. To keep the past behaviour, explicitly set `max_features='sqrt'` or remove this parameter as it is also the default value for RandomForestClassifiers and ExtraTreesClassifiers.\n",
      "  warn(\n"
     ]
    },
    {
     "name": "stdout",
     "output_type": "stream",
     "text": [
      "[CV 1/5] END criterion=entropy, max_depth=None, max_features=auto, n_estimators=100;, score=0.854 total time=   0.2s\n"
     ]
    },
    {
     "name": "stderr",
     "output_type": "stream",
     "text": [
      "c:\\Users\\priks\\anaconda3\\envs\\side\\lib\\site-packages\\sklearn\\ensemble\\_forest.py:424: FutureWarning: `max_features='auto'` has been deprecated in 1.1 and will be removed in 1.3. To keep the past behaviour, explicitly set `max_features='sqrt'` or remove this parameter as it is also the default value for RandomForestClassifiers and ExtraTreesClassifiers.\n",
      "  warn(\n"
     ]
    },
    {
     "name": "stdout",
     "output_type": "stream",
     "text": [
      "[CV 2/5] END criterion=entropy, max_depth=None, max_features=auto, n_estimators=100;, score=0.853 total time=   0.2s\n"
     ]
    },
    {
     "name": "stderr",
     "output_type": "stream",
     "text": [
      "c:\\Users\\priks\\anaconda3\\envs\\side\\lib\\site-packages\\sklearn\\ensemble\\_forest.py:424: FutureWarning: `max_features='auto'` has been deprecated in 1.1 and will be removed in 1.3. To keep the past behaviour, explicitly set `max_features='sqrt'` or remove this parameter as it is also the default value for RandomForestClassifiers and ExtraTreesClassifiers.\n",
      "  warn(\n"
     ]
    },
    {
     "name": "stdout",
     "output_type": "stream",
     "text": [
      "[CV 3/5] END criterion=entropy, max_depth=None, max_features=auto, n_estimators=100;, score=0.858 total time=   0.2s\n"
     ]
    },
    {
     "name": "stderr",
     "output_type": "stream",
     "text": [
      "c:\\Users\\priks\\anaconda3\\envs\\side\\lib\\site-packages\\sklearn\\ensemble\\_forest.py:424: FutureWarning: `max_features='auto'` has been deprecated in 1.1 and will be removed in 1.3. To keep the past behaviour, explicitly set `max_features='sqrt'` or remove this parameter as it is also the default value for RandomForestClassifiers and ExtraTreesClassifiers.\n",
      "  warn(\n"
     ]
    },
    {
     "name": "stdout",
     "output_type": "stream",
     "text": [
      "[CV 4/5] END criterion=entropy, max_depth=None, max_features=auto, n_estimators=100;, score=0.886 total time=   0.2s\n"
     ]
    },
    {
     "name": "stderr",
     "output_type": "stream",
     "text": [
      "c:\\Users\\priks\\anaconda3\\envs\\side\\lib\\site-packages\\sklearn\\ensemble\\_forest.py:424: FutureWarning: `max_features='auto'` has been deprecated in 1.1 and will be removed in 1.3. To keep the past behaviour, explicitly set `max_features='sqrt'` or remove this parameter as it is also the default value for RandomForestClassifiers and ExtraTreesClassifiers.\n",
      "  warn(\n"
     ]
    },
    {
     "name": "stdout",
     "output_type": "stream",
     "text": [
      "[CV 5/5] END criterion=entropy, max_depth=None, max_features=auto, n_estimators=100;, score=0.857 total time=   0.2s\n"
     ]
    },
    {
     "name": "stderr",
     "output_type": "stream",
     "text": [
      "c:\\Users\\priks\\anaconda3\\envs\\side\\lib\\site-packages\\sklearn\\ensemble\\_forest.py:424: FutureWarning: `max_features='auto'` has been deprecated in 1.1 and will be removed in 1.3. To keep the past behaviour, explicitly set `max_features='sqrt'` or remove this parameter as it is also the default value for RandomForestClassifiers and ExtraTreesClassifiers.\n",
      "  warn(\n"
     ]
    },
    {
     "name": "stdout",
     "output_type": "stream",
     "text": [
      "[CV 1/5] END criterion=entropy, max_depth=None, max_features=auto, n_estimators=150;, score=0.855 total time=   0.3s\n"
     ]
    },
    {
     "name": "stderr",
     "output_type": "stream",
     "text": [
      "c:\\Users\\priks\\anaconda3\\envs\\side\\lib\\site-packages\\sklearn\\ensemble\\_forest.py:424: FutureWarning: `max_features='auto'` has been deprecated in 1.1 and will be removed in 1.3. To keep the past behaviour, explicitly set `max_features='sqrt'` or remove this parameter as it is also the default value for RandomForestClassifiers and ExtraTreesClassifiers.\n",
      "  warn(\n"
     ]
    },
    {
     "name": "stdout",
     "output_type": "stream",
     "text": [
      "[CV 2/5] END criterion=entropy, max_depth=None, max_features=auto, n_estimators=150;, score=0.855 total time=   0.3s\n"
     ]
    },
    {
     "name": "stderr",
     "output_type": "stream",
     "text": [
      "c:\\Users\\priks\\anaconda3\\envs\\side\\lib\\site-packages\\sklearn\\ensemble\\_forest.py:424: FutureWarning: `max_features='auto'` has been deprecated in 1.1 and will be removed in 1.3. To keep the past behaviour, explicitly set `max_features='sqrt'` or remove this parameter as it is also the default value for RandomForestClassifiers and ExtraTreesClassifiers.\n",
      "  warn(\n"
     ]
    },
    {
     "name": "stdout",
     "output_type": "stream",
     "text": [
      "[CV 3/5] END criterion=entropy, max_depth=None, max_features=auto, n_estimators=150;, score=0.862 total time=   0.3s\n"
     ]
    },
    {
     "name": "stderr",
     "output_type": "stream",
     "text": [
      "c:\\Users\\priks\\anaconda3\\envs\\side\\lib\\site-packages\\sklearn\\ensemble\\_forest.py:424: FutureWarning: `max_features='auto'` has been deprecated in 1.1 and will be removed in 1.3. To keep the past behaviour, explicitly set `max_features='sqrt'` or remove this parameter as it is also the default value for RandomForestClassifiers and ExtraTreesClassifiers.\n",
      "  warn(\n"
     ]
    },
    {
     "name": "stdout",
     "output_type": "stream",
     "text": [
      "[CV 4/5] END criterion=entropy, max_depth=None, max_features=auto, n_estimators=150;, score=0.887 total time=   0.3s\n"
     ]
    },
    {
     "name": "stderr",
     "output_type": "stream",
     "text": [
      "c:\\Users\\priks\\anaconda3\\envs\\side\\lib\\site-packages\\sklearn\\ensemble\\_forest.py:424: FutureWarning: `max_features='auto'` has been deprecated in 1.1 and will be removed in 1.3. To keep the past behaviour, explicitly set `max_features='sqrt'` or remove this parameter as it is also the default value for RandomForestClassifiers and ExtraTreesClassifiers.\n",
      "  warn(\n"
     ]
    },
    {
     "name": "stdout",
     "output_type": "stream",
     "text": [
      "[CV 5/5] END criterion=entropy, max_depth=None, max_features=auto, n_estimators=150;, score=0.856 total time=   0.3s\n"
     ]
    },
    {
     "name": "stderr",
     "output_type": "stream",
     "text": [
      "c:\\Users\\priks\\anaconda3\\envs\\side\\lib\\site-packages\\sklearn\\ensemble\\_forest.py:424: FutureWarning: `max_features='auto'` has been deprecated in 1.1 and will be removed in 1.3. To keep the past behaviour, explicitly set `max_features='sqrt'` or remove this parameter as it is also the default value for RandomForestClassifiers and ExtraTreesClassifiers.\n",
      "  warn(\n"
     ]
    },
    {
     "name": "stdout",
     "output_type": "stream",
     "text": [
      "[CV 1/5] END criterion=entropy, max_depth=None, max_features=auto, n_estimators=200;, score=0.854 total time=   0.4s\n"
     ]
    },
    {
     "name": "stderr",
     "output_type": "stream",
     "text": [
      "c:\\Users\\priks\\anaconda3\\envs\\side\\lib\\site-packages\\sklearn\\ensemble\\_forest.py:424: FutureWarning: `max_features='auto'` has been deprecated in 1.1 and will be removed in 1.3. To keep the past behaviour, explicitly set `max_features='sqrt'` or remove this parameter as it is also the default value for RandomForestClassifiers and ExtraTreesClassifiers.\n",
      "  warn(\n"
     ]
    },
    {
     "name": "stdout",
     "output_type": "stream",
     "text": [
      "[CV 2/5] END criterion=entropy, max_depth=None, max_features=auto, n_estimators=200;, score=0.854 total time=   0.4s\n"
     ]
    },
    {
     "name": "stderr",
     "output_type": "stream",
     "text": [
      "c:\\Users\\priks\\anaconda3\\envs\\side\\lib\\site-packages\\sklearn\\ensemble\\_forest.py:424: FutureWarning: `max_features='auto'` has been deprecated in 1.1 and will be removed in 1.3. To keep the past behaviour, explicitly set `max_features='sqrt'` or remove this parameter as it is also the default value for RandomForestClassifiers and ExtraTreesClassifiers.\n",
      "  warn(\n"
     ]
    },
    {
     "name": "stdout",
     "output_type": "stream",
     "text": [
      "[CV 3/5] END criterion=entropy, max_depth=None, max_features=auto, n_estimators=200;, score=0.860 total time=   0.4s\n"
     ]
    },
    {
     "name": "stderr",
     "output_type": "stream",
     "text": [
      "c:\\Users\\priks\\anaconda3\\envs\\side\\lib\\site-packages\\sklearn\\ensemble\\_forest.py:424: FutureWarning: `max_features='auto'` has been deprecated in 1.1 and will be removed in 1.3. To keep the past behaviour, explicitly set `max_features='sqrt'` or remove this parameter as it is also the default value for RandomForestClassifiers and ExtraTreesClassifiers.\n",
      "  warn(\n"
     ]
    },
    {
     "name": "stdout",
     "output_type": "stream",
     "text": [
      "[CV 4/5] END criterion=entropy, max_depth=None, max_features=auto, n_estimators=200;, score=0.883 total time=   0.4s\n"
     ]
    },
    {
     "name": "stderr",
     "output_type": "stream",
     "text": [
      "c:\\Users\\priks\\anaconda3\\envs\\side\\lib\\site-packages\\sklearn\\ensemble\\_forest.py:424: FutureWarning: `max_features='auto'` has been deprecated in 1.1 and will be removed in 1.3. To keep the past behaviour, explicitly set `max_features='sqrt'` or remove this parameter as it is also the default value for RandomForestClassifiers and ExtraTreesClassifiers.\n",
      "  warn(\n"
     ]
    },
    {
     "name": "stdout",
     "output_type": "stream",
     "text": [
      "[CV 5/5] END criterion=entropy, max_depth=None, max_features=auto, n_estimators=200;, score=0.855 total time=   0.4s\n",
      "[CV 1/5] END criterion=entropy, max_depth=None, max_features=sqrt, n_estimators=50;, score=0.854 total time=   0.0s\n",
      "[CV 2/5] END criterion=entropy, max_depth=None, max_features=sqrt, n_estimators=50;, score=0.855 total time=   0.0s\n",
      "[CV 3/5] END criterion=entropy, max_depth=None, max_features=sqrt, n_estimators=50;, score=0.861 total time=   0.0s\n",
      "[CV 4/5] END criterion=entropy, max_depth=None, max_features=sqrt, n_estimators=50;, score=0.883 total time=   0.0s\n",
      "[CV 5/5] END criterion=entropy, max_depth=None, max_features=sqrt, n_estimators=50;, score=0.855 total time=   0.0s\n",
      "[CV 1/5] END criterion=entropy, max_depth=None, max_features=sqrt, n_estimators=100;, score=0.852 total time=   0.2s\n",
      "[CV 2/5] END criterion=entropy, max_depth=None, max_features=sqrt, n_estimators=100;, score=0.853 total time=   0.1s\n",
      "[CV 3/5] END criterion=entropy, max_depth=None, max_features=sqrt, n_estimators=100;, score=0.861 total time=   0.1s\n",
      "[CV 4/5] END criterion=entropy, max_depth=None, max_features=sqrt, n_estimators=100;, score=0.884 total time=   0.1s\n",
      "[CV 5/5] END criterion=entropy, max_depth=None, max_features=sqrt, n_estimators=100;, score=0.857 total time=   0.2s\n",
      "[CV 1/5] END criterion=entropy, max_depth=None, max_features=sqrt, n_estimators=150;, score=0.855 total time=   0.3s\n",
      "[CV 2/5] END criterion=entropy, max_depth=None, max_features=sqrt, n_estimators=150;, score=0.853 total time=   0.3s\n",
      "[CV 3/5] END criterion=entropy, max_depth=None, max_features=sqrt, n_estimators=150;, score=0.863 total time=   0.3s\n",
      "[CV 4/5] END criterion=entropy, max_depth=None, max_features=sqrt, n_estimators=150;, score=0.883 total time=   0.3s\n",
      "[CV 5/5] END criterion=entropy, max_depth=None, max_features=sqrt, n_estimators=150;, score=0.857 total time=   0.3s\n",
      "[CV 1/5] END criterion=entropy, max_depth=None, max_features=sqrt, n_estimators=200;, score=0.855 total time=   0.4s\n",
      "[CV 2/5] END criterion=entropy, max_depth=None, max_features=sqrt, n_estimators=200;, score=0.854 total time=   0.4s\n",
      "[CV 3/5] END criterion=entropy, max_depth=None, max_features=sqrt, n_estimators=200;, score=0.860 total time=   0.4s\n",
      "[CV 4/5] END criterion=entropy, max_depth=None, max_features=sqrt, n_estimators=200;, score=0.887 total time=   0.4s\n",
      "[CV 5/5] END criterion=entropy, max_depth=None, max_features=sqrt, n_estimators=200;, score=0.857 total time=   0.4s\n",
      "[CV 1/5] END criterion=entropy, max_depth=None, max_features=log2, n_estimators=50;, score=0.855 total time=   0.0s\n",
      "[CV 2/5] END criterion=entropy, max_depth=None, max_features=log2, n_estimators=50;, score=0.850 total time=   0.0s\n",
      "[CV 3/5] END criterion=entropy, max_depth=None, max_features=log2, n_estimators=50;, score=0.857 total time=   0.0s\n",
      "[CV 4/5] END criterion=entropy, max_depth=None, max_features=log2, n_estimators=50;, score=0.886 total time=   0.0s\n",
      "[CV 5/5] END criterion=entropy, max_depth=None, max_features=log2, n_estimators=50;, score=0.857 total time=   0.0s\n",
      "[CV 1/5] END criterion=entropy, max_depth=None, max_features=log2, n_estimators=100;, score=0.855 total time=   0.1s\n",
      "[CV 2/5] END criterion=entropy, max_depth=None, max_features=log2, n_estimators=100;, score=0.853 total time=   0.1s\n",
      "[CV 3/5] END criterion=entropy, max_depth=None, max_features=log2, n_estimators=100;, score=0.862 total time=   0.1s\n",
      "[CV 4/5] END criterion=entropy, max_depth=None, max_features=log2, n_estimators=100;, score=0.885 total time=   0.1s\n",
      "[CV 5/5] END criterion=entropy, max_depth=None, max_features=log2, n_estimators=100;, score=0.857 total time=   0.1s\n",
      "[CV 1/5] END criterion=entropy, max_depth=None, max_features=log2, n_estimators=150;, score=0.855 total time=   0.3s\n",
      "[CV 2/5] END criterion=entropy, max_depth=None, max_features=log2, n_estimators=150;, score=0.855 total time=   0.3s\n",
      "[CV 3/5] END criterion=entropy, max_depth=None, max_features=log2, n_estimators=150;, score=0.859 total time=   0.3s\n",
      "[CV 4/5] END criterion=entropy, max_depth=None, max_features=log2, n_estimators=150;, score=0.884 total time=   0.3s\n",
      "[CV 5/5] END criterion=entropy, max_depth=None, max_features=log2, n_estimators=150;, score=0.857 total time=   0.3s\n",
      "[CV 1/5] END criterion=entropy, max_depth=None, max_features=log2, n_estimators=200;, score=0.855 total time=   0.4s\n",
      "[CV 2/5] END criterion=entropy, max_depth=None, max_features=log2, n_estimators=200;, score=0.855 total time=   0.4s\n",
      "[CV 3/5] END criterion=entropy, max_depth=None, max_features=log2, n_estimators=200;, score=0.858 total time=   0.4s\n",
      "[CV 4/5] END criterion=entropy, max_depth=None, max_features=log2, n_estimators=200;, score=0.882 total time=   0.4s\n",
      "[CV 5/5] END criterion=entropy, max_depth=None, max_features=log2, n_estimators=200;, score=0.857 total time=   0.4s\n",
      "[CV 1/5] END criterion=entropy, max_depth=10, max_features=auto, n_estimators=50;, score=0.672 total time=   0.0s\n",
      "[CV 2/5] END criterion=entropy, max_depth=10, max_features=auto, n_estimators=50;, score=0.674 total time=   0.0s\n"
     ]
    },
    {
     "name": "stderr",
     "output_type": "stream",
     "text": [
      "c:\\Users\\priks\\anaconda3\\envs\\side\\lib\\site-packages\\sklearn\\ensemble\\_forest.py:424: FutureWarning: `max_features='auto'` has been deprecated in 1.1 and will be removed in 1.3. To keep the past behaviour, explicitly set `max_features='sqrt'` or remove this parameter as it is also the default value for RandomForestClassifiers and ExtraTreesClassifiers.\n",
      "  warn(\n",
      "c:\\Users\\priks\\anaconda3\\envs\\side\\lib\\site-packages\\sklearn\\ensemble\\_forest.py:424: FutureWarning: `max_features='auto'` has been deprecated in 1.1 and will be removed in 1.3. To keep the past behaviour, explicitly set `max_features='sqrt'` or remove this parameter as it is also the default value for RandomForestClassifiers and ExtraTreesClassifiers.\n",
      "  warn(\n",
      "c:\\Users\\priks\\anaconda3\\envs\\side\\lib\\site-packages\\sklearn\\ensemble\\_forest.py:424: FutureWarning: `max_features='auto'` has been deprecated in 1.1 and will be removed in 1.3. To keep the past behaviour, explicitly set `max_features='sqrt'` or remove this parameter as it is also the default value for RandomForestClassifiers and ExtraTreesClassifiers.\n",
      "  warn(\n"
     ]
    },
    {
     "name": "stdout",
     "output_type": "stream",
     "text": [
      "[CV 3/5] END criterion=entropy, max_depth=10, max_features=auto, n_estimators=50;, score=0.679 total time=   0.0s\n",
      "[CV 4/5] END criterion=entropy, max_depth=10, max_features=auto, n_estimators=50;, score=0.702 total time=   0.0s\n",
      "[CV 5/5] END criterion=entropy, max_depth=10, max_features=auto, n_estimators=50;, score=0.671 total time=   0.0s\n"
     ]
    },
    {
     "name": "stderr",
     "output_type": "stream",
     "text": [
      "c:\\Users\\priks\\anaconda3\\envs\\side\\lib\\site-packages\\sklearn\\ensemble\\_forest.py:424: FutureWarning: `max_features='auto'` has been deprecated in 1.1 and will be removed in 1.3. To keep the past behaviour, explicitly set `max_features='sqrt'` or remove this parameter as it is also the default value for RandomForestClassifiers and ExtraTreesClassifiers.\n",
      "  warn(\n",
      "c:\\Users\\priks\\anaconda3\\envs\\side\\lib\\site-packages\\sklearn\\ensemble\\_forest.py:424: FutureWarning: `max_features='auto'` has been deprecated in 1.1 and will be removed in 1.3. To keep the past behaviour, explicitly set `max_features='sqrt'` or remove this parameter as it is also the default value for RandomForestClassifiers and ExtraTreesClassifiers.\n",
      "  warn(\n",
      "c:\\Users\\priks\\anaconda3\\envs\\side\\lib\\site-packages\\sklearn\\ensemble\\_forest.py:424: FutureWarning: `max_features='auto'` has been deprecated in 1.1 and will be removed in 1.3. To keep the past behaviour, explicitly set `max_features='sqrt'` or remove this parameter as it is also the default value for RandomForestClassifiers and ExtraTreesClassifiers.\n",
      "  warn(\n"
     ]
    },
    {
     "name": "stdout",
     "output_type": "stream",
     "text": [
      "[CV 1/5] END criterion=entropy, max_depth=10, max_features=auto, n_estimators=100;, score=0.675 total time=   0.1s\n",
      "[CV 2/5] END criterion=entropy, max_depth=10, max_features=auto, n_estimators=100;, score=0.683 total time=   0.1s\n"
     ]
    },
    {
     "name": "stderr",
     "output_type": "stream",
     "text": [
      "c:\\Users\\priks\\anaconda3\\envs\\side\\lib\\site-packages\\sklearn\\ensemble\\_forest.py:424: FutureWarning: `max_features='auto'` has been deprecated in 1.1 and will be removed in 1.3. To keep the past behaviour, explicitly set `max_features='sqrt'` or remove this parameter as it is also the default value for RandomForestClassifiers and ExtraTreesClassifiers.\n",
      "  warn(\n",
      "c:\\Users\\priks\\anaconda3\\envs\\side\\lib\\site-packages\\sklearn\\ensemble\\_forest.py:424: FutureWarning: `max_features='auto'` has been deprecated in 1.1 and will be removed in 1.3. To keep the past behaviour, explicitly set `max_features='sqrt'` or remove this parameter as it is also the default value for RandomForestClassifiers and ExtraTreesClassifiers.\n",
      "  warn(\n"
     ]
    },
    {
     "name": "stdout",
     "output_type": "stream",
     "text": [
      "[CV 3/5] END criterion=entropy, max_depth=10, max_features=auto, n_estimators=100;, score=0.668 total time=   0.1s\n",
      "[CV 4/5] END criterion=entropy, max_depth=10, max_features=auto, n_estimators=100;, score=0.710 total time=   0.1s\n"
     ]
    },
    {
     "name": "stderr",
     "output_type": "stream",
     "text": [
      "c:\\Users\\priks\\anaconda3\\envs\\side\\lib\\site-packages\\sklearn\\ensemble\\_forest.py:424: FutureWarning: `max_features='auto'` has been deprecated in 1.1 and will be removed in 1.3. To keep the past behaviour, explicitly set `max_features='sqrt'` or remove this parameter as it is also the default value for RandomForestClassifiers and ExtraTreesClassifiers.\n",
      "  warn(\n",
      "c:\\Users\\priks\\anaconda3\\envs\\side\\lib\\site-packages\\sklearn\\ensemble\\_forest.py:424: FutureWarning: `max_features='auto'` has been deprecated in 1.1 and will be removed in 1.3. To keep the past behaviour, explicitly set `max_features='sqrt'` or remove this parameter as it is also the default value for RandomForestClassifiers and ExtraTreesClassifiers.\n",
      "  warn(\n"
     ]
    },
    {
     "name": "stdout",
     "output_type": "stream",
     "text": [
      "[CV 5/5] END criterion=entropy, max_depth=10, max_features=auto, n_estimators=100;, score=0.672 total time=   0.1s\n"
     ]
    },
    {
     "name": "stderr",
     "output_type": "stream",
     "text": [
      "c:\\Users\\priks\\anaconda3\\envs\\side\\lib\\site-packages\\sklearn\\ensemble\\_forest.py:424: FutureWarning: `max_features='auto'` has been deprecated in 1.1 and will be removed in 1.3. To keep the past behaviour, explicitly set `max_features='sqrt'` or remove this parameter as it is also the default value for RandomForestClassifiers and ExtraTreesClassifiers.\n",
      "  warn(\n"
     ]
    },
    {
     "name": "stdout",
     "output_type": "stream",
     "text": [
      "[CV 1/5] END criterion=entropy, max_depth=10, max_features=auto, n_estimators=150;, score=0.684 total time=   0.1s\n"
     ]
    },
    {
     "name": "stderr",
     "output_type": "stream",
     "text": [
      "c:\\Users\\priks\\anaconda3\\envs\\side\\lib\\site-packages\\sklearn\\ensemble\\_forest.py:424: FutureWarning: `max_features='auto'` has been deprecated in 1.1 and will be removed in 1.3. To keep the past behaviour, explicitly set `max_features='sqrt'` or remove this parameter as it is also the default value for RandomForestClassifiers and ExtraTreesClassifiers.\n",
      "  warn(\n"
     ]
    },
    {
     "name": "stdout",
     "output_type": "stream",
     "text": [
      "[CV 2/5] END criterion=entropy, max_depth=10, max_features=auto, n_estimators=150;, score=0.670 total time=   0.1s\n"
     ]
    },
    {
     "name": "stderr",
     "output_type": "stream",
     "text": [
      "c:\\Users\\priks\\anaconda3\\envs\\side\\lib\\site-packages\\sklearn\\ensemble\\_forest.py:424: FutureWarning: `max_features='auto'` has been deprecated in 1.1 and will be removed in 1.3. To keep the past behaviour, explicitly set `max_features='sqrt'` or remove this parameter as it is also the default value for RandomForestClassifiers and ExtraTreesClassifiers.\n",
      "  warn(\n"
     ]
    },
    {
     "name": "stdout",
     "output_type": "stream",
     "text": [
      "[CV 3/5] END criterion=entropy, max_depth=10, max_features=auto, n_estimators=150;, score=0.671 total time=   0.1s\n"
     ]
    },
    {
     "name": "stderr",
     "output_type": "stream",
     "text": [
      "c:\\Users\\priks\\anaconda3\\envs\\side\\lib\\site-packages\\sklearn\\ensemble\\_forest.py:424: FutureWarning: `max_features='auto'` has been deprecated in 1.1 and will be removed in 1.3. To keep the past behaviour, explicitly set `max_features='sqrt'` or remove this parameter as it is also the default value for RandomForestClassifiers and ExtraTreesClassifiers.\n",
      "  warn(\n"
     ]
    },
    {
     "name": "stdout",
     "output_type": "stream",
     "text": [
      "[CV 4/5] END criterion=entropy, max_depth=10, max_features=auto, n_estimators=150;, score=0.710 total time=   0.1s\n"
     ]
    },
    {
     "name": "stderr",
     "output_type": "stream",
     "text": [
      "c:\\Users\\priks\\anaconda3\\envs\\side\\lib\\site-packages\\sklearn\\ensemble\\_forest.py:424: FutureWarning: `max_features='auto'` has been deprecated in 1.1 and will be removed in 1.3. To keep the past behaviour, explicitly set `max_features='sqrt'` or remove this parameter as it is also the default value for RandomForestClassifiers and ExtraTreesClassifiers.\n",
      "  warn(\n"
     ]
    },
    {
     "name": "stdout",
     "output_type": "stream",
     "text": [
      "[CV 5/5] END criterion=entropy, max_depth=10, max_features=auto, n_estimators=150;, score=0.680 total time=   0.1s\n"
     ]
    },
    {
     "name": "stderr",
     "output_type": "stream",
     "text": [
      "c:\\Users\\priks\\anaconda3\\envs\\side\\lib\\site-packages\\sklearn\\ensemble\\_forest.py:424: FutureWarning: `max_features='auto'` has been deprecated in 1.1 and will be removed in 1.3. To keep the past behaviour, explicitly set `max_features='sqrt'` or remove this parameter as it is also the default value for RandomForestClassifiers and ExtraTreesClassifiers.\n",
      "  warn(\n"
     ]
    },
    {
     "name": "stdout",
     "output_type": "stream",
     "text": [
      "[CV 1/5] END criterion=entropy, max_depth=10, max_features=auto, n_estimators=200;, score=0.682 total time=   0.2s\n"
     ]
    },
    {
     "name": "stderr",
     "output_type": "stream",
     "text": [
      "c:\\Users\\priks\\anaconda3\\envs\\side\\lib\\site-packages\\sklearn\\ensemble\\_forest.py:424: FutureWarning: `max_features='auto'` has been deprecated in 1.1 and will be removed in 1.3. To keep the past behaviour, explicitly set `max_features='sqrt'` or remove this parameter as it is also the default value for RandomForestClassifiers and ExtraTreesClassifiers.\n",
      "  warn(\n"
     ]
    },
    {
     "name": "stdout",
     "output_type": "stream",
     "text": [
      "[CV 2/5] END criterion=entropy, max_depth=10, max_features=auto, n_estimators=200;, score=0.673 total time=   0.2s\n"
     ]
    },
    {
     "name": "stderr",
     "output_type": "stream",
     "text": [
      "c:\\Users\\priks\\anaconda3\\envs\\side\\lib\\site-packages\\sklearn\\ensemble\\_forest.py:424: FutureWarning: `max_features='auto'` has been deprecated in 1.1 and will be removed in 1.3. To keep the past behaviour, explicitly set `max_features='sqrt'` or remove this parameter as it is also the default value for RandomForestClassifiers and ExtraTreesClassifiers.\n",
      "  warn(\n"
     ]
    },
    {
     "name": "stdout",
     "output_type": "stream",
     "text": [
      "[CV 3/5] END criterion=entropy, max_depth=10, max_features=auto, n_estimators=200;, score=0.660 total time=   0.2s\n"
     ]
    },
    {
     "name": "stderr",
     "output_type": "stream",
     "text": [
      "c:\\Users\\priks\\anaconda3\\envs\\side\\lib\\site-packages\\sklearn\\ensemble\\_forest.py:424: FutureWarning: `max_features='auto'` has been deprecated in 1.1 and will be removed in 1.3. To keep the past behaviour, explicitly set `max_features='sqrt'` or remove this parameter as it is also the default value for RandomForestClassifiers and ExtraTreesClassifiers.\n",
      "  warn(\n"
     ]
    },
    {
     "name": "stdout",
     "output_type": "stream",
     "text": [
      "[CV 4/5] END criterion=entropy, max_depth=10, max_features=auto, n_estimators=200;, score=0.708 total time=   0.2s\n"
     ]
    },
    {
     "name": "stderr",
     "output_type": "stream",
     "text": [
      "c:\\Users\\priks\\anaconda3\\envs\\side\\lib\\site-packages\\sklearn\\ensemble\\_forest.py:424: FutureWarning: `max_features='auto'` has been deprecated in 1.1 and will be removed in 1.3. To keep the past behaviour, explicitly set `max_features='sqrt'` or remove this parameter as it is also the default value for RandomForestClassifiers and ExtraTreesClassifiers.\n",
      "  warn(\n"
     ]
    },
    {
     "name": "stdout",
     "output_type": "stream",
     "text": [
      "[CV 5/5] END criterion=entropy, max_depth=10, max_features=auto, n_estimators=200;, score=0.673 total time=   0.2s\n",
      "[CV 1/5] END criterion=entropy, max_depth=10, max_features=sqrt, n_estimators=50;, score=0.679 total time=   0.0s\n",
      "[CV 2/5] END criterion=entropy, max_depth=10, max_features=sqrt, n_estimators=50;, score=0.685 total time=   0.0s\n",
      "[CV 3/5] END criterion=entropy, max_depth=10, max_features=sqrt, n_estimators=50;, score=0.660 total time=   0.0s\n",
      "[CV 4/5] END criterion=entropy, max_depth=10, max_features=sqrt, n_estimators=50;, score=0.711 total time=   0.0s\n",
      "[CV 5/5] END criterion=entropy, max_depth=10, max_features=sqrt, n_estimators=50;, score=0.678 total time=   0.0s\n",
      "[CV 1/5] END criterion=entropy, max_depth=10, max_features=sqrt, n_estimators=100;, score=0.672 total time=   0.1s\n",
      "[CV 2/5] END criterion=entropy, max_depth=10, max_features=sqrt, n_estimators=100;, score=0.680 total time=   0.1s\n",
      "[CV 3/5] END criterion=entropy, max_depth=10, max_features=sqrt, n_estimators=100;, score=0.673 total time=   0.1s\n",
      "[CV 4/5] END criterion=entropy, max_depth=10, max_features=sqrt, n_estimators=100;, score=0.704 total time=   0.1s\n",
      "[CV 5/5] END criterion=entropy, max_depth=10, max_features=sqrt, n_estimators=100;, score=0.674 total time=   0.1s\n",
      "[CV 1/5] END criterion=entropy, max_depth=10, max_features=sqrt, n_estimators=150;, score=0.673 total time=   0.1s\n",
      "[CV 2/5] END criterion=entropy, max_depth=10, max_features=sqrt, n_estimators=150;, score=0.681 total time=   0.1s\n",
      "[CV 3/5] END criterion=entropy, max_depth=10, max_features=sqrt, n_estimators=150;, score=0.671 total time=   0.1s\n",
      "[CV 4/5] END criterion=entropy, max_depth=10, max_features=sqrt, n_estimators=150;, score=0.710 total time=   0.1s\n",
      "[CV 5/5] END criterion=entropy, max_depth=10, max_features=sqrt, n_estimators=150;, score=0.679 total time=   0.1s\n",
      "[CV 1/5] END criterion=entropy, max_depth=10, max_features=sqrt, n_estimators=200;, score=0.661 total time=   0.2s\n",
      "[CV 2/5] END criterion=entropy, max_depth=10, max_features=sqrt, n_estimators=200;, score=0.681 total time=   0.2s\n",
      "[CV 3/5] END criterion=entropy, max_depth=10, max_features=sqrt, n_estimators=200;, score=0.671 total time=   0.2s\n",
      "[CV 4/5] END criterion=entropy, max_depth=10, max_features=sqrt, n_estimators=200;, score=0.711 total time=   0.2s\n",
      "[CV 5/5] END criterion=entropy, max_depth=10, max_features=sqrt, n_estimators=200;, score=0.661 total time=   0.2s\n",
      "[CV 1/5] END criterion=entropy, max_depth=10, max_features=log2, n_estimators=50;, score=0.662 total time=   0.0s\n",
      "[CV 2/5] END criterion=entropy, max_depth=10, max_features=log2, n_estimators=50;, score=0.674 total time=   0.0s\n",
      "[CV 3/5] END criterion=entropy, max_depth=10, max_features=log2, n_estimators=50;, score=0.674 total time=   0.0s\n",
      "[CV 4/5] END criterion=entropy, max_depth=10, max_features=log2, n_estimators=50;, score=0.703 total time=   0.0s\n",
      "[CV 5/5] END criterion=entropy, max_depth=10, max_features=log2, n_estimators=50;, score=0.669 total time=   0.0s\n",
      "[CV 1/5] END criterion=entropy, max_depth=10, max_features=log2, n_estimators=100;, score=0.680 total time=   0.1s\n",
      "[CV 2/5] END criterion=entropy, max_depth=10, max_features=log2, n_estimators=100;, score=0.678 total time=   0.0s\n",
      "[CV 3/5] END criterion=entropy, max_depth=10, max_features=log2, n_estimators=100;, score=0.671 total time=   0.1s\n",
      "[CV 4/5] END criterion=entropy, max_depth=10, max_features=log2, n_estimators=100;, score=0.712 total time=   0.0s\n",
      "[CV 5/5] END criterion=entropy, max_depth=10, max_features=log2, n_estimators=100;, score=0.674 total time=   0.0s\n",
      "[CV 1/5] END criterion=entropy, max_depth=10, max_features=log2, n_estimators=150;, score=0.691 total time=   0.1s\n",
      "[CV 2/5] END criterion=entropy, max_depth=10, max_features=log2, n_estimators=150;, score=0.674 total time=   0.1s\n",
      "[CV 3/5] END criterion=entropy, max_depth=10, max_features=log2, n_estimators=150;, score=0.679 total time=   0.1s\n",
      "[CV 4/5] END criterion=entropy, max_depth=10, max_features=log2, n_estimators=150;, score=0.707 total time=   0.1s\n",
      "[CV 5/5] END criterion=entropy, max_depth=10, max_features=log2, n_estimators=150;, score=0.664 total time=   0.1s\n",
      "[CV 1/5] END criterion=entropy, max_depth=10, max_features=log2, n_estimators=200;, score=0.683 total time=   0.2s\n",
      "[CV 2/5] END criterion=entropy, max_depth=10, max_features=log2, n_estimators=200;, score=0.680 total time=   0.2s\n",
      "[CV 3/5] END criterion=entropy, max_depth=10, max_features=log2, n_estimators=200;, score=0.671 total time=   0.2s\n",
      "[CV 4/5] END criterion=entropy, max_depth=10, max_features=log2, n_estimators=200;, score=0.703 total time=   0.2s\n",
      "[CV 5/5] END criterion=entropy, max_depth=10, max_features=log2, n_estimators=200;, score=0.676 total time=   0.2s\n",
      "[CV 1/5] END criterion=entropy, max_depth=20, max_features=auto, n_estimators=50;, score=0.827 total time=   0.0s\n"
     ]
    },
    {
     "name": "stderr",
     "output_type": "stream",
     "text": [
      "c:\\Users\\priks\\anaconda3\\envs\\side\\lib\\site-packages\\sklearn\\ensemble\\_forest.py:424: FutureWarning: `max_features='auto'` has been deprecated in 1.1 and will be removed in 1.3. To keep the past behaviour, explicitly set `max_features='sqrt'` or remove this parameter as it is also the default value for RandomForestClassifiers and ExtraTreesClassifiers.\n",
      "  warn(\n",
      "c:\\Users\\priks\\anaconda3\\envs\\side\\lib\\site-packages\\sklearn\\ensemble\\_forest.py:424: FutureWarning: `max_features='auto'` has been deprecated in 1.1 and will be removed in 1.3. To keep the past behaviour, explicitly set `max_features='sqrt'` or remove this parameter as it is also the default value for RandomForestClassifiers and ExtraTreesClassifiers.\n",
      "  warn(\n"
     ]
    },
    {
     "name": "stdout",
     "output_type": "stream",
     "text": [
      "[CV 2/5] END criterion=entropy, max_depth=20, max_features=auto, n_estimators=50;, score=0.813 total time=   0.0s\n",
      "[CV 3/5] END criterion=entropy, max_depth=20, max_features=auto, n_estimators=50;, score=0.823 total time=   0.0s\n"
     ]
    },
    {
     "name": "stderr",
     "output_type": "stream",
     "text": [
      "c:\\Users\\priks\\anaconda3\\envs\\side\\lib\\site-packages\\sklearn\\ensemble\\_forest.py:424: FutureWarning: `max_features='auto'` has been deprecated in 1.1 and will be removed in 1.3. To keep the past behaviour, explicitly set `max_features='sqrt'` or remove this parameter as it is also the default value for RandomForestClassifiers and ExtraTreesClassifiers.\n",
      "  warn(\n",
      "c:\\Users\\priks\\anaconda3\\envs\\side\\lib\\site-packages\\sklearn\\ensemble\\_forest.py:424: FutureWarning: `max_features='auto'` has been deprecated in 1.1 and will be removed in 1.3. To keep the past behaviour, explicitly set `max_features='sqrt'` or remove this parameter as it is also the default value for RandomForestClassifiers and ExtraTreesClassifiers.\n",
      "  warn(\n"
     ]
    },
    {
     "name": "stdout",
     "output_type": "stream",
     "text": [
      "[CV 4/5] END criterion=entropy, max_depth=20, max_features=auto, n_estimators=50;, score=0.848 total time=   0.0s\n",
      "[CV 5/5] END criterion=entropy, max_depth=20, max_features=auto, n_estimators=50;, score=0.823 total time=   0.0s\n"
     ]
    },
    {
     "name": "stderr",
     "output_type": "stream",
     "text": [
      "c:\\Users\\priks\\anaconda3\\envs\\side\\lib\\site-packages\\sklearn\\ensemble\\_forest.py:424: FutureWarning: `max_features='auto'` has been deprecated in 1.1 and will be removed in 1.3. To keep the past behaviour, explicitly set `max_features='sqrt'` or remove this parameter as it is also the default value for RandomForestClassifiers and ExtraTreesClassifiers.\n",
      "  warn(\n",
      "c:\\Users\\priks\\anaconda3\\envs\\side\\lib\\site-packages\\sklearn\\ensemble\\_forest.py:424: FutureWarning: `max_features='auto'` has been deprecated in 1.1 and will be removed in 1.3. To keep the past behaviour, explicitly set `max_features='sqrt'` or remove this parameter as it is also the default value for RandomForestClassifiers and ExtraTreesClassifiers.\n",
      "  warn(\n"
     ]
    },
    {
     "name": "stdout",
     "output_type": "stream",
     "text": [
      "[CV 1/5] END criterion=entropy, max_depth=20, max_features=auto, n_estimators=100;, score=0.816 total time=   0.1s\n"
     ]
    },
    {
     "name": "stderr",
     "output_type": "stream",
     "text": [
      "c:\\Users\\priks\\anaconda3\\envs\\side\\lib\\site-packages\\sklearn\\ensemble\\_forest.py:424: FutureWarning: `max_features='auto'` has been deprecated in 1.1 and will be removed in 1.3. To keep the past behaviour, explicitly set `max_features='sqrt'` or remove this parameter as it is also the default value for RandomForestClassifiers and ExtraTreesClassifiers.\n",
      "  warn(\n"
     ]
    },
    {
     "name": "stdout",
     "output_type": "stream",
     "text": [
      "[CV 2/5] END criterion=entropy, max_depth=20, max_features=auto, n_estimators=100;, score=0.815 total time=   0.1s\n"
     ]
    },
    {
     "name": "stderr",
     "output_type": "stream",
     "text": [
      "c:\\Users\\priks\\anaconda3\\envs\\side\\lib\\site-packages\\sklearn\\ensemble\\_forest.py:424: FutureWarning: `max_features='auto'` has been deprecated in 1.1 and will be removed in 1.3. To keep the past behaviour, explicitly set `max_features='sqrt'` or remove this parameter as it is also the default value for RandomForestClassifiers and ExtraTreesClassifiers.\n",
      "  warn(\n"
     ]
    },
    {
     "name": "stdout",
     "output_type": "stream",
     "text": [
      "[CV 3/5] END criterion=entropy, max_depth=20, max_features=auto, n_estimators=100;, score=0.818 total time=   0.1s\n"
     ]
    },
    {
     "name": "stderr",
     "output_type": "stream",
     "text": [
      "c:\\Users\\priks\\anaconda3\\envs\\side\\lib\\site-packages\\sklearn\\ensemble\\_forest.py:424: FutureWarning: `max_features='auto'` has been deprecated in 1.1 and will be removed in 1.3. To keep the past behaviour, explicitly set `max_features='sqrt'` or remove this parameter as it is also the default value for RandomForestClassifiers and ExtraTreesClassifiers.\n",
      "  warn(\n"
     ]
    },
    {
     "name": "stdout",
     "output_type": "stream",
     "text": [
      "[CV 4/5] END criterion=entropy, max_depth=20, max_features=auto, n_estimators=100;, score=0.847 total time=   0.1s\n"
     ]
    },
    {
     "name": "stderr",
     "output_type": "stream",
     "text": [
      "c:\\Users\\priks\\anaconda3\\envs\\side\\lib\\site-packages\\sklearn\\ensemble\\_forest.py:424: FutureWarning: `max_features='auto'` has been deprecated in 1.1 and will be removed in 1.3. To keep the past behaviour, explicitly set `max_features='sqrt'` or remove this parameter as it is also the default value for RandomForestClassifiers and ExtraTreesClassifiers.\n",
      "  warn(\n"
     ]
    },
    {
     "name": "stdout",
     "output_type": "stream",
     "text": [
      "[CV 5/5] END criterion=entropy, max_depth=20, max_features=auto, n_estimators=100;, score=0.819 total time=   0.1s\n"
     ]
    },
    {
     "name": "stderr",
     "output_type": "stream",
     "text": [
      "c:\\Users\\priks\\anaconda3\\envs\\side\\lib\\site-packages\\sklearn\\ensemble\\_forest.py:424: FutureWarning: `max_features='auto'` has been deprecated in 1.1 and will be removed in 1.3. To keep the past behaviour, explicitly set `max_features='sqrt'` or remove this parameter as it is also the default value for RandomForestClassifiers and ExtraTreesClassifiers.\n",
      "  warn(\n"
     ]
    },
    {
     "name": "stdout",
     "output_type": "stream",
     "text": [
      "[CV 1/5] END criterion=entropy, max_depth=20, max_features=auto, n_estimators=150;, score=0.823 total time=   0.3s\n"
     ]
    },
    {
     "name": "stderr",
     "output_type": "stream",
     "text": [
      "c:\\Users\\priks\\anaconda3\\envs\\side\\lib\\site-packages\\sklearn\\ensemble\\_forest.py:424: FutureWarning: `max_features='auto'` has been deprecated in 1.1 and will be removed in 1.3. To keep the past behaviour, explicitly set `max_features='sqrt'` or remove this parameter as it is also the default value for RandomForestClassifiers and ExtraTreesClassifiers.\n",
      "  warn(\n"
     ]
    },
    {
     "name": "stdout",
     "output_type": "stream",
     "text": [
      "[CV 2/5] END criterion=entropy, max_depth=20, max_features=auto, n_estimators=150;, score=0.805 total time=   0.3s\n"
     ]
    },
    {
     "name": "stderr",
     "output_type": "stream",
     "text": [
      "c:\\Users\\priks\\anaconda3\\envs\\side\\lib\\site-packages\\sklearn\\ensemble\\_forest.py:424: FutureWarning: `max_features='auto'` has been deprecated in 1.1 and will be removed in 1.3. To keep the past behaviour, explicitly set `max_features='sqrt'` or remove this parameter as it is also the default value for RandomForestClassifiers and ExtraTreesClassifiers.\n",
      "  warn(\n"
     ]
    },
    {
     "name": "stdout",
     "output_type": "stream",
     "text": [
      "[CV 3/5] END criterion=entropy, max_depth=20, max_features=auto, n_estimators=150;, score=0.823 total time=   0.3s\n"
     ]
    },
    {
     "name": "stderr",
     "output_type": "stream",
     "text": [
      "c:\\Users\\priks\\anaconda3\\envs\\side\\lib\\site-packages\\sklearn\\ensemble\\_forest.py:424: FutureWarning: `max_features='auto'` has been deprecated in 1.1 and will be removed in 1.3. To keep the past behaviour, explicitly set `max_features='sqrt'` or remove this parameter as it is also the default value for RandomForestClassifiers and ExtraTreesClassifiers.\n",
      "  warn(\n"
     ]
    },
    {
     "name": "stdout",
     "output_type": "stream",
     "text": [
      "[CV 4/5] END criterion=entropy, max_depth=20, max_features=auto, n_estimators=150;, score=0.852 total time=   0.2s\n"
     ]
    },
    {
     "name": "stderr",
     "output_type": "stream",
     "text": [
      "c:\\Users\\priks\\anaconda3\\envs\\side\\lib\\site-packages\\sklearn\\ensemble\\_forest.py:424: FutureWarning: `max_features='auto'` has been deprecated in 1.1 and will be removed in 1.3. To keep the past behaviour, explicitly set `max_features='sqrt'` or remove this parameter as it is also the default value for RandomForestClassifiers and ExtraTreesClassifiers.\n",
      "  warn(\n"
     ]
    },
    {
     "name": "stdout",
     "output_type": "stream",
     "text": [
      "[CV 5/5] END criterion=entropy, max_depth=20, max_features=auto, n_estimators=150;, score=0.818 total time=   0.3s\n"
     ]
    },
    {
     "name": "stderr",
     "output_type": "stream",
     "text": [
      "c:\\Users\\priks\\anaconda3\\envs\\side\\lib\\site-packages\\sklearn\\ensemble\\_forest.py:424: FutureWarning: `max_features='auto'` has been deprecated in 1.1 and will be removed in 1.3. To keep the past behaviour, explicitly set `max_features='sqrt'` or remove this parameter as it is also the default value for RandomForestClassifiers and ExtraTreesClassifiers.\n",
      "  warn(\n"
     ]
    },
    {
     "name": "stdout",
     "output_type": "stream",
     "text": [
      "[CV 1/5] END criterion=entropy, max_depth=20, max_features=auto, n_estimators=200;, score=0.824 total time=   0.4s\n"
     ]
    },
    {
     "name": "stderr",
     "output_type": "stream",
     "text": [
      "c:\\Users\\priks\\anaconda3\\envs\\side\\lib\\site-packages\\sklearn\\ensemble\\_forest.py:424: FutureWarning: `max_features='auto'` has been deprecated in 1.1 and will be removed in 1.3. To keep the past behaviour, explicitly set `max_features='sqrt'` or remove this parameter as it is also the default value for RandomForestClassifiers and ExtraTreesClassifiers.\n",
      "  warn(\n"
     ]
    },
    {
     "name": "stdout",
     "output_type": "stream",
     "text": [
      "[CV 2/5] END criterion=entropy, max_depth=20, max_features=auto, n_estimators=200;, score=0.810 total time=   0.4s\n"
     ]
    },
    {
     "name": "stderr",
     "output_type": "stream",
     "text": [
      "c:\\Users\\priks\\anaconda3\\envs\\side\\lib\\site-packages\\sklearn\\ensemble\\_forest.py:424: FutureWarning: `max_features='auto'` has been deprecated in 1.1 and will be removed in 1.3. To keep the past behaviour, explicitly set `max_features='sqrt'` or remove this parameter as it is also the default value for RandomForestClassifiers and ExtraTreesClassifiers.\n",
      "  warn(\n"
     ]
    },
    {
     "name": "stdout",
     "output_type": "stream",
     "text": [
      "[CV 3/5] END criterion=entropy, max_depth=20, max_features=auto, n_estimators=200;, score=0.827 total time=   0.4s\n"
     ]
    },
    {
     "name": "stderr",
     "output_type": "stream",
     "text": [
      "c:\\Users\\priks\\anaconda3\\envs\\side\\lib\\site-packages\\sklearn\\ensemble\\_forest.py:424: FutureWarning: `max_features='auto'` has been deprecated in 1.1 and will be removed in 1.3. To keep the past behaviour, explicitly set `max_features='sqrt'` or remove this parameter as it is also the default value for RandomForestClassifiers and ExtraTreesClassifiers.\n",
      "  warn(\n"
     ]
    },
    {
     "name": "stdout",
     "output_type": "stream",
     "text": [
      "[CV 4/5] END criterion=entropy, max_depth=20, max_features=auto, n_estimators=200;, score=0.857 total time=   0.4s\n"
     ]
    },
    {
     "name": "stderr",
     "output_type": "stream",
     "text": [
      "c:\\Users\\priks\\anaconda3\\envs\\side\\lib\\site-packages\\sklearn\\ensemble\\_forest.py:424: FutureWarning: `max_features='auto'` has been deprecated in 1.1 and will be removed in 1.3. To keep the past behaviour, explicitly set `max_features='sqrt'` or remove this parameter as it is also the default value for RandomForestClassifiers and ExtraTreesClassifiers.\n",
      "  warn(\n"
     ]
    },
    {
     "name": "stdout",
     "output_type": "stream",
     "text": [
      "[CV 5/5] END criterion=entropy, max_depth=20, max_features=auto, n_estimators=200;, score=0.819 total time=   0.4s\n",
      "[CV 1/5] END criterion=entropy, max_depth=20, max_features=sqrt, n_estimators=50;, score=0.830 total time=   0.0s\n",
      "[CV 2/5] END criterion=entropy, max_depth=20, max_features=sqrt, n_estimators=50;, score=0.798 total time=   0.0s\n",
      "[CV 3/5] END criterion=entropy, max_depth=20, max_features=sqrt, n_estimators=50;, score=0.826 total time=   0.0s\n",
      "[CV 4/5] END criterion=entropy, max_depth=20, max_features=sqrt, n_estimators=50;, score=0.855 total time=   0.0s\n",
      "[CV 5/5] END criterion=entropy, max_depth=20, max_features=sqrt, n_estimators=50;, score=0.818 total time=   0.0s\n",
      "[CV 1/5] END criterion=entropy, max_depth=20, max_features=sqrt, n_estimators=100;, score=0.822 total time=   0.1s\n",
      "[CV 2/5] END criterion=entropy, max_depth=20, max_features=sqrt, n_estimators=100;, score=0.810 total time=   0.1s\n",
      "[CV 3/5] END criterion=entropy, max_depth=20, max_features=sqrt, n_estimators=100;, score=0.824 total time=   0.1s\n",
      "[CV 4/5] END criterion=entropy, max_depth=20, max_features=sqrt, n_estimators=100;, score=0.848 total time=   0.1s\n",
      "[CV 5/5] END criterion=entropy, max_depth=20, max_features=sqrt, n_estimators=100;, score=0.819 total time=   0.1s\n",
      "[CV 1/5] END criterion=entropy, max_depth=20, max_features=sqrt, n_estimators=150;, score=0.823 total time=   0.2s\n",
      "[CV 2/5] END criterion=entropy, max_depth=20, max_features=sqrt, n_estimators=150;, score=0.813 total time=   0.2s\n",
      "[CV 3/5] END criterion=entropy, max_depth=20, max_features=sqrt, n_estimators=150;, score=0.818 total time=   0.2s\n",
      "[CV 4/5] END criterion=entropy, max_depth=20, max_features=sqrt, n_estimators=150;, score=0.848 total time=   0.2s\n",
      "[CV 5/5] END criterion=entropy, max_depth=20, max_features=sqrt, n_estimators=150;, score=0.822 total time=   0.2s\n",
      "[CV 1/5] END criterion=entropy, max_depth=20, max_features=sqrt, n_estimators=200;, score=0.825 total time=   0.3s\n",
      "[CV 2/5] END criterion=entropy, max_depth=20, max_features=sqrt, n_estimators=200;, score=0.811 total time=   0.3s\n",
      "[CV 3/5] END criterion=entropy, max_depth=20, max_features=sqrt, n_estimators=200;, score=0.821 total time=   0.3s\n",
      "[CV 4/5] END criterion=entropy, max_depth=20, max_features=sqrt, n_estimators=200;, score=0.851 total time=   0.3s\n",
      "[CV 5/5] END criterion=entropy, max_depth=20, max_features=sqrt, n_estimators=200;, score=0.820 total time=   0.3s\n",
      "[CV 1/5] END criterion=entropy, max_depth=20, max_features=log2, n_estimators=50;, score=0.822 total time=   0.0s\n",
      "[CV 2/5] END criterion=entropy, max_depth=20, max_features=log2, n_estimators=50;, score=0.809 total time=   0.0s\n",
      "[CV 3/5] END criterion=entropy, max_depth=20, max_features=log2, n_estimators=50;, score=0.823 total time=   0.0s\n",
      "[CV 4/5] END criterion=entropy, max_depth=20, max_features=log2, n_estimators=50;, score=0.841 total time=   0.0s\n",
      "[CV 5/5] END criterion=entropy, max_depth=20, max_features=log2, n_estimators=50;, score=0.822 total time=   0.0s\n",
      "[CV 1/5] END criterion=entropy, max_depth=20, max_features=log2, n_estimators=100;, score=0.816 total time=   0.1s\n",
      "[CV 2/5] END criterion=entropy, max_depth=20, max_features=log2, n_estimators=100;, score=0.805 total time=   0.1s\n",
      "[CV 3/5] END criterion=entropy, max_depth=20, max_features=log2, n_estimators=100;, score=0.820 total time=   0.1s\n",
      "[CV 4/5] END criterion=entropy, max_depth=20, max_features=log2, n_estimators=100;, score=0.850 total time=   0.1s\n",
      "[CV 5/5] END criterion=entropy, max_depth=20, max_features=log2, n_estimators=100;, score=0.815 total time=   0.1s\n",
      "[CV 1/5] END criterion=entropy, max_depth=20, max_features=log2, n_estimators=150;, score=0.816 total time=   0.2s\n",
      "[CV 2/5] END criterion=entropy, max_depth=20, max_features=log2, n_estimators=150;, score=0.802 total time=   0.2s\n",
      "[CV 3/5] END criterion=entropy, max_depth=20, max_features=log2, n_estimators=150;, score=0.818 total time=   0.2s\n",
      "[CV 4/5] END criterion=entropy, max_depth=20, max_features=log2, n_estimators=150;, score=0.847 total time=   0.2s\n",
      "[CV 5/5] END criterion=entropy, max_depth=20, max_features=log2, n_estimators=150;, score=0.820 total time=   0.2s\n",
      "[CV 1/5] END criterion=entropy, max_depth=20, max_features=log2, n_estimators=200;, score=0.825 total time=   0.3s\n",
      "[CV 2/5] END criterion=entropy, max_depth=20, max_features=log2, n_estimators=200;, score=0.805 total time=   0.3s\n",
      "[CV 3/5] END criterion=entropy, max_depth=20, max_features=log2, n_estimators=200;, score=0.816 total time=   0.3s\n",
      "[CV 4/5] END criterion=entropy, max_depth=20, max_features=log2, n_estimators=200;, score=0.845 total time=   0.4s\n",
      "[CV 5/5] END criterion=entropy, max_depth=20, max_features=log2, n_estimators=200;, score=0.819 total time=   0.3s\n",
      "[CV 1/5] END criterion=entropy, max_depth=30, max_features=auto, n_estimators=50;, score=0.852 total time=   0.0s\n"
     ]
    },
    {
     "name": "stderr",
     "output_type": "stream",
     "text": [
      "c:\\Users\\priks\\anaconda3\\envs\\side\\lib\\site-packages\\sklearn\\ensemble\\_forest.py:424: FutureWarning: `max_features='auto'` has been deprecated in 1.1 and will be removed in 1.3. To keep the past behaviour, explicitly set `max_features='sqrt'` or remove this parameter as it is also the default value for RandomForestClassifiers and ExtraTreesClassifiers.\n",
      "  warn(\n",
      "c:\\Users\\priks\\anaconda3\\envs\\side\\lib\\site-packages\\sklearn\\ensemble\\_forest.py:424: FutureWarning: `max_features='auto'` has been deprecated in 1.1 and will be removed in 1.3. To keep the past behaviour, explicitly set `max_features='sqrt'` or remove this parameter as it is also the default value for RandomForestClassifiers and ExtraTreesClassifiers.\n",
      "  warn(\n"
     ]
    },
    {
     "name": "stdout",
     "output_type": "stream",
     "text": [
      "[CV 2/5] END criterion=entropy, max_depth=30, max_features=auto, n_estimators=50;, score=0.855 total time=   0.0s\n",
      "[CV 3/5] END criterion=entropy, max_depth=30, max_features=auto, n_estimators=50;, score=0.860 total time=   0.0s\n"
     ]
    },
    {
     "name": "stderr",
     "output_type": "stream",
     "text": [
      "c:\\Users\\priks\\anaconda3\\envs\\side\\lib\\site-packages\\sklearn\\ensemble\\_forest.py:424: FutureWarning: `max_features='auto'` has been deprecated in 1.1 and will be removed in 1.3. To keep the past behaviour, explicitly set `max_features='sqrt'` or remove this parameter as it is also the default value for RandomForestClassifiers and ExtraTreesClassifiers.\n",
      "  warn(\n",
      "c:\\Users\\priks\\anaconda3\\envs\\side\\lib\\site-packages\\sklearn\\ensemble\\_forest.py:424: FutureWarning: `max_features='auto'` has been deprecated in 1.1 and will be removed in 1.3. To keep the past behaviour, explicitly set `max_features='sqrt'` or remove this parameter as it is also the default value for RandomForestClassifiers and ExtraTreesClassifiers.\n",
      "  warn(\n"
     ]
    },
    {
     "name": "stdout",
     "output_type": "stream",
     "text": [
      "[CV 4/5] END criterion=entropy, max_depth=30, max_features=auto, n_estimators=50;, score=0.886 total time=   0.0s\n",
      "[CV 5/5] END criterion=entropy, max_depth=30, max_features=auto, n_estimators=50;, score=0.858 total time=   0.0s\n"
     ]
    },
    {
     "name": "stderr",
     "output_type": "stream",
     "text": [
      "c:\\Users\\priks\\anaconda3\\envs\\side\\lib\\site-packages\\sklearn\\ensemble\\_forest.py:424: FutureWarning: `max_features='auto'` has been deprecated in 1.1 and will be removed in 1.3. To keep the past behaviour, explicitly set `max_features='sqrt'` or remove this parameter as it is also the default value for RandomForestClassifiers and ExtraTreesClassifiers.\n",
      "  warn(\n",
      "c:\\Users\\priks\\anaconda3\\envs\\side\\lib\\site-packages\\sklearn\\ensemble\\_forest.py:424: FutureWarning: `max_features='auto'` has been deprecated in 1.1 and will be removed in 1.3. To keep the past behaviour, explicitly set `max_features='sqrt'` or remove this parameter as it is also the default value for RandomForestClassifiers and ExtraTreesClassifiers.\n",
      "  warn(\n"
     ]
    },
    {
     "name": "stdout",
     "output_type": "stream",
     "text": [
      "[CV 1/5] END criterion=entropy, max_depth=30, max_features=auto, n_estimators=100;, score=0.852 total time=   0.2s\n"
     ]
    },
    {
     "name": "stderr",
     "output_type": "stream",
     "text": [
      "c:\\Users\\priks\\anaconda3\\envs\\side\\lib\\site-packages\\sklearn\\ensemble\\_forest.py:424: FutureWarning: `max_features='auto'` has been deprecated in 1.1 and will be removed in 1.3. To keep the past behaviour, explicitly set `max_features='sqrt'` or remove this parameter as it is also the default value for RandomForestClassifiers and ExtraTreesClassifiers.\n",
      "  warn(\n"
     ]
    },
    {
     "name": "stdout",
     "output_type": "stream",
     "text": [
      "[CV 2/5] END criterion=entropy, max_depth=30, max_features=auto, n_estimators=100;, score=0.855 total time=   0.1s\n"
     ]
    },
    {
     "name": "stderr",
     "output_type": "stream",
     "text": [
      "c:\\Users\\priks\\anaconda3\\envs\\side\\lib\\site-packages\\sklearn\\ensemble\\_forest.py:424: FutureWarning: `max_features='auto'` has been deprecated in 1.1 and will be removed in 1.3. To keep the past behaviour, explicitly set `max_features='sqrt'` or remove this parameter as it is also the default value for RandomForestClassifiers and ExtraTreesClassifiers.\n",
      "  warn(\n"
     ]
    },
    {
     "name": "stdout",
     "output_type": "stream",
     "text": [
      "[CV 3/5] END criterion=entropy, max_depth=30, max_features=auto, n_estimators=100;, score=0.859 total time=   0.2s\n"
     ]
    },
    {
     "name": "stderr",
     "output_type": "stream",
     "text": [
      "c:\\Users\\priks\\anaconda3\\envs\\side\\lib\\site-packages\\sklearn\\ensemble\\_forest.py:424: FutureWarning: `max_features='auto'` has been deprecated in 1.1 and will be removed in 1.3. To keep the past behaviour, explicitly set `max_features='sqrt'` or remove this parameter as it is also the default value for RandomForestClassifiers and ExtraTreesClassifiers.\n",
      "  warn(\n"
     ]
    },
    {
     "name": "stdout",
     "output_type": "stream",
     "text": [
      "[CV 4/5] END criterion=entropy, max_depth=30, max_features=auto, n_estimators=100;, score=0.884 total time=   0.2s\n"
     ]
    },
    {
     "name": "stderr",
     "output_type": "stream",
     "text": [
      "c:\\Users\\priks\\anaconda3\\envs\\side\\lib\\site-packages\\sklearn\\ensemble\\_forest.py:424: FutureWarning: `max_features='auto'` has been deprecated in 1.1 and will be removed in 1.3. To keep the past behaviour, explicitly set `max_features='sqrt'` or remove this parameter as it is also the default value for RandomForestClassifiers and ExtraTreesClassifiers.\n",
      "  warn(\n"
     ]
    },
    {
     "name": "stdout",
     "output_type": "stream",
     "text": [
      "[CV 5/5] END criterion=entropy, max_depth=30, max_features=auto, n_estimators=100;, score=0.856 total time=   0.2s\n"
     ]
    },
    {
     "name": "stderr",
     "output_type": "stream",
     "text": [
      "c:\\Users\\priks\\anaconda3\\envs\\side\\lib\\site-packages\\sklearn\\ensemble\\_forest.py:424: FutureWarning: `max_features='auto'` has been deprecated in 1.1 and will be removed in 1.3. To keep the past behaviour, explicitly set `max_features='sqrt'` or remove this parameter as it is also the default value for RandomForestClassifiers and ExtraTreesClassifiers.\n",
      "  warn(\n"
     ]
    },
    {
     "name": "stdout",
     "output_type": "stream",
     "text": [
      "[CV 1/5] END criterion=entropy, max_depth=30, max_features=auto, n_estimators=150;, score=0.852 total time=   0.3s\n"
     ]
    },
    {
     "name": "stderr",
     "output_type": "stream",
     "text": [
      "c:\\Users\\priks\\anaconda3\\envs\\side\\lib\\site-packages\\sklearn\\ensemble\\_forest.py:424: FutureWarning: `max_features='auto'` has been deprecated in 1.1 and will be removed in 1.3. To keep the past behaviour, explicitly set `max_features='sqrt'` or remove this parameter as it is also the default value for RandomForestClassifiers and ExtraTreesClassifiers.\n",
      "  warn(\n"
     ]
    },
    {
     "name": "stdout",
     "output_type": "stream",
     "text": [
      "[CV 2/5] END criterion=entropy, max_depth=30, max_features=auto, n_estimators=150;, score=0.852 total time=   0.3s\n"
     ]
    },
    {
     "name": "stderr",
     "output_type": "stream",
     "text": [
      "c:\\Users\\priks\\anaconda3\\envs\\side\\lib\\site-packages\\sklearn\\ensemble\\_forest.py:424: FutureWarning: `max_features='auto'` has been deprecated in 1.1 and will be removed in 1.3. To keep the past behaviour, explicitly set `max_features='sqrt'` or remove this parameter as it is also the default value for RandomForestClassifiers and ExtraTreesClassifiers.\n",
      "  warn(\n"
     ]
    },
    {
     "name": "stdout",
     "output_type": "stream",
     "text": [
      "[CV 3/5] END criterion=entropy, max_depth=30, max_features=auto, n_estimators=150;, score=0.859 total time=   0.3s\n"
     ]
    },
    {
     "name": "stderr",
     "output_type": "stream",
     "text": [
      "c:\\Users\\priks\\anaconda3\\envs\\side\\lib\\site-packages\\sklearn\\ensemble\\_forest.py:424: FutureWarning: `max_features='auto'` has been deprecated in 1.1 and will be removed in 1.3. To keep the past behaviour, explicitly set `max_features='sqrt'` or remove this parameter as it is also the default value for RandomForestClassifiers and ExtraTreesClassifiers.\n",
      "  warn(\n"
     ]
    },
    {
     "name": "stdout",
     "output_type": "stream",
     "text": [
      "[CV 4/5] END criterion=entropy, max_depth=30, max_features=auto, n_estimators=150;, score=0.882 total time=   0.3s\n"
     ]
    },
    {
     "name": "stderr",
     "output_type": "stream",
     "text": [
      "c:\\Users\\priks\\anaconda3\\envs\\side\\lib\\site-packages\\sklearn\\ensemble\\_forest.py:424: FutureWarning: `max_features='auto'` has been deprecated in 1.1 and will be removed in 1.3. To keep the past behaviour, explicitly set `max_features='sqrt'` or remove this parameter as it is also the default value for RandomForestClassifiers and ExtraTreesClassifiers.\n",
      "  warn(\n"
     ]
    },
    {
     "name": "stdout",
     "output_type": "stream",
     "text": [
      "[CV 5/5] END criterion=entropy, max_depth=30, max_features=auto, n_estimators=150;, score=0.856 total time=   0.3s\n"
     ]
    },
    {
     "name": "stderr",
     "output_type": "stream",
     "text": [
      "c:\\Users\\priks\\anaconda3\\envs\\side\\lib\\site-packages\\sklearn\\ensemble\\_forest.py:424: FutureWarning: `max_features='auto'` has been deprecated in 1.1 and will be removed in 1.3. To keep the past behaviour, explicitly set `max_features='sqrt'` or remove this parameter as it is also the default value for RandomForestClassifiers and ExtraTreesClassifiers.\n",
      "  warn(\n"
     ]
    },
    {
     "name": "stdout",
     "output_type": "stream",
     "text": [
      "[CV 1/5] END criterion=entropy, max_depth=30, max_features=auto, n_estimators=200;, score=0.852 total time=   0.4s\n"
     ]
    },
    {
     "name": "stderr",
     "output_type": "stream",
     "text": [
      "c:\\Users\\priks\\anaconda3\\envs\\side\\lib\\site-packages\\sklearn\\ensemble\\_forest.py:424: FutureWarning: `max_features='auto'` has been deprecated in 1.1 and will be removed in 1.3. To keep the past behaviour, explicitly set `max_features='sqrt'` or remove this parameter as it is also the default value for RandomForestClassifiers and ExtraTreesClassifiers.\n",
      "  warn(\n"
     ]
    },
    {
     "name": "stdout",
     "output_type": "stream",
     "text": [
      "[CV 2/5] END criterion=entropy, max_depth=30, max_features=auto, n_estimators=200;, score=0.853 total time=   0.4s\n"
     ]
    },
    {
     "name": "stderr",
     "output_type": "stream",
     "text": [
      "c:\\Users\\priks\\anaconda3\\envs\\side\\lib\\site-packages\\sklearn\\ensemble\\_forest.py:424: FutureWarning: `max_features='auto'` has been deprecated in 1.1 and will be removed in 1.3. To keep the past behaviour, explicitly set `max_features='sqrt'` or remove this parameter as it is also the default value for RandomForestClassifiers and ExtraTreesClassifiers.\n",
      "  warn(\n"
     ]
    },
    {
     "name": "stdout",
     "output_type": "stream",
     "text": [
      "[CV 3/5] END criterion=entropy, max_depth=30, max_features=auto, n_estimators=200;, score=0.859 total time=   0.4s\n"
     ]
    },
    {
     "name": "stderr",
     "output_type": "stream",
     "text": [
      "c:\\Users\\priks\\anaconda3\\envs\\side\\lib\\site-packages\\sklearn\\ensemble\\_forest.py:424: FutureWarning: `max_features='auto'` has been deprecated in 1.1 and will be removed in 1.3. To keep the past behaviour, explicitly set `max_features='sqrt'` or remove this parameter as it is also the default value for RandomForestClassifiers and ExtraTreesClassifiers.\n",
      "  warn(\n"
     ]
    },
    {
     "name": "stdout",
     "output_type": "stream",
     "text": [
      "[CV 4/5] END criterion=entropy, max_depth=30, max_features=auto, n_estimators=200;, score=0.885 total time=   0.4s\n"
     ]
    },
    {
     "name": "stderr",
     "output_type": "stream",
     "text": [
      "c:\\Users\\priks\\anaconda3\\envs\\side\\lib\\site-packages\\sklearn\\ensemble\\_forest.py:424: FutureWarning: `max_features='auto'` has been deprecated in 1.1 and will be removed in 1.3. To keep the past behaviour, explicitly set `max_features='sqrt'` or remove this parameter as it is also the default value for RandomForestClassifiers and ExtraTreesClassifiers.\n",
      "  warn(\n"
     ]
    },
    {
     "name": "stdout",
     "output_type": "stream",
     "text": [
      "[CV 5/5] END criterion=entropy, max_depth=30, max_features=auto, n_estimators=200;, score=0.855 total time=   0.4s\n",
      "[CV 1/5] END criterion=entropy, max_depth=30, max_features=sqrt, n_estimators=50;, score=0.851 total time=   0.0s\n",
      "[CV 2/5] END criterion=entropy, max_depth=30, max_features=sqrt, n_estimators=50;, score=0.853 total time=   0.0s\n",
      "[CV 3/5] END criterion=entropy, max_depth=30, max_features=sqrt, n_estimators=50;, score=0.862 total time=   0.0s\n",
      "[CV 4/5] END criterion=entropy, max_depth=30, max_features=sqrt, n_estimators=50;, score=0.886 total time=   0.0s\n",
      "[CV 5/5] END criterion=entropy, max_depth=30, max_features=sqrt, n_estimators=50;, score=0.854 total time=   0.0s\n",
      "[CV 1/5] END criterion=entropy, max_depth=30, max_features=sqrt, n_estimators=100;, score=0.852 total time=   0.1s\n",
      "[CV 2/5] END criterion=entropy, max_depth=30, max_features=sqrt, n_estimators=100;, score=0.853 total time=   0.2s\n",
      "[CV 3/5] END criterion=entropy, max_depth=30, max_features=sqrt, n_estimators=100;, score=0.859 total time=   0.2s\n",
      "[CV 4/5] END criterion=entropy, max_depth=30, max_features=sqrt, n_estimators=100;, score=0.886 total time=   0.1s\n",
      "[CV 5/5] END criterion=entropy, max_depth=30, max_features=sqrt, n_estimators=100;, score=0.855 total time=   0.1s\n",
      "[CV 1/5] END criterion=entropy, max_depth=30, max_features=sqrt, n_estimators=150;, score=0.852 total time=   0.3s\n",
      "[CV 2/5] END criterion=entropy, max_depth=30, max_features=sqrt, n_estimators=150;, score=0.852 total time=   0.3s\n",
      "[CV 3/5] END criterion=entropy, max_depth=30, max_features=sqrt, n_estimators=150;, score=0.859 total time=   0.3s\n",
      "[CV 4/5] END criterion=entropy, max_depth=30, max_features=sqrt, n_estimators=150;, score=0.885 total time=   0.3s\n",
      "[CV 5/5] END criterion=entropy, max_depth=30, max_features=sqrt, n_estimators=150;, score=0.856 total time=   0.3s\n",
      "[CV 1/5] END criterion=entropy, max_depth=30, max_features=sqrt, n_estimators=200;, score=0.852 total time=   0.4s\n",
      "[CV 2/5] END criterion=entropy, max_depth=30, max_features=sqrt, n_estimators=200;, score=0.853 total time=   0.4s\n",
      "[CV 3/5] END criterion=entropy, max_depth=30, max_features=sqrt, n_estimators=200;, score=0.861 total time=   0.4s\n",
      "[CV 4/5] END criterion=entropy, max_depth=30, max_features=sqrt, n_estimators=200;, score=0.885 total time=   0.4s\n",
      "[CV 5/5] END criterion=entropy, max_depth=30, max_features=sqrt, n_estimators=200;, score=0.856 total time=   0.4s\n",
      "[CV 1/5] END criterion=entropy, max_depth=30, max_features=log2, n_estimators=50;, score=0.852 total time=   0.0s\n",
      "[CV 2/5] END criterion=entropy, max_depth=30, max_features=log2, n_estimators=50;, score=0.851 total time=   0.0s\n",
      "[CV 3/5] END criterion=entropy, max_depth=30, max_features=log2, n_estimators=50;, score=0.864 total time=   0.0s\n",
      "[CV 4/5] END criterion=entropy, max_depth=30, max_features=log2, n_estimators=50;, score=0.886 total time=   0.0s\n",
      "[CV 5/5] END criterion=entropy, max_depth=30, max_features=log2, n_estimators=50;, score=0.855 total time=   0.0s\n",
      "[CV 1/5] END criterion=entropy, max_depth=30, max_features=log2, n_estimators=100;, score=0.851 total time=   0.1s\n",
      "[CV 2/5] END criterion=entropy, max_depth=30, max_features=log2, n_estimators=100;, score=0.852 total time=   0.1s\n",
      "[CV 3/5] END criterion=entropy, max_depth=30, max_features=log2, n_estimators=100;, score=0.860 total time=   0.1s\n",
      "[CV 4/5] END criterion=entropy, max_depth=30, max_features=log2, n_estimators=100;, score=0.886 total time=   0.1s\n",
      "[CV 5/5] END criterion=entropy, max_depth=30, max_features=log2, n_estimators=100;, score=0.857 total time=   0.1s\n",
      "[CV 1/5] END criterion=entropy, max_depth=30, max_features=log2, n_estimators=150;, score=0.852 total time=   0.3s\n",
      "[CV 2/5] END criterion=entropy, max_depth=30, max_features=log2, n_estimators=150;, score=0.853 total time=   0.3s\n",
      "[CV 3/5] END criterion=entropy, max_depth=30, max_features=log2, n_estimators=150;, score=0.858 total time=   0.3s\n",
      "[CV 4/5] END criterion=entropy, max_depth=30, max_features=log2, n_estimators=150;, score=0.884 total time=   0.3s\n",
      "[CV 5/5] END criterion=entropy, max_depth=30, max_features=log2, n_estimators=150;, score=0.856 total time=   0.3s\n",
      "[CV 1/5] END criterion=entropy, max_depth=30, max_features=log2, n_estimators=200;, score=0.852 total time=   0.4s\n",
      "[CV 2/5] END criterion=entropy, max_depth=30, max_features=log2, n_estimators=200;, score=0.853 total time=   0.4s\n",
      "[CV 3/5] END criterion=entropy, max_depth=30, max_features=log2, n_estimators=200;, score=0.860 total time=   0.4s\n",
      "[CV 4/5] END criterion=entropy, max_depth=30, max_features=log2, n_estimators=200;, score=0.882 total time=   0.4s\n",
      "[CV 5/5] END criterion=entropy, max_depth=30, max_features=log2, n_estimators=200;, score=0.856 total time=   0.4s\n"
     ]
    },
    {
     "name": "stderr",
     "output_type": "stream",
     "text": [
      "c:\\Users\\priks\\anaconda3\\envs\\side\\lib\\site-packages\\sklearn\\ensemble\\_forest.py:424: FutureWarning: `max_features='auto'` has been deprecated in 1.1 and will be removed in 1.3. To keep the past behaviour, explicitly set `max_features='sqrt'` or remove this parameter as it is also the default value for RandomForestClassifiers and ExtraTreesClassifiers.\n",
      "  warn(\n",
      "c:\\Users\\priks\\anaconda3\\envs\\side\\lib\\site-packages\\sklearn\\ensemble\\_forest.py:424: FutureWarning: `max_features='auto'` has been deprecated in 1.1 and will be removed in 1.3. To keep the past behaviour, explicitly set `max_features='sqrt'` or remove this parameter as it is also the default value for RandomForestClassifiers and ExtraTreesClassifiers.\n",
      "  warn(\n"
     ]
    },
    {
     "name": "stdout",
     "output_type": "stream",
     "text": [
      "Random Forest best params: {'criterion': 'entropy', 'max_depth': None, 'max_features': 'auto', 'n_estimators': 150}\n",
      "Exited the get_best_params_for_random_forest method\n"
     ]
    }
   ],
   "source": [
    "random_forest_classifier = get_best_params_for_random_forest(X_train, y_train)"
   ]
  },
  {
   "cell_type": "code",
   "execution_count": 32,
   "metadata": {},
   "outputs": [
    {
     "name": "stderr",
     "output_type": "stream",
     "text": [
      "c:\\Users\\priks\\anaconda3\\envs\\side\\lib\\site-packages\\sklearn\\ensemble\\_forest.py:424: FutureWarning: `max_features='auto'` has been deprecated in 1.1 and will be removed in 1.3. To keep the past behaviour, explicitly set `max_features='sqrt'` or remove this parameter as it is also the default value for RandomForestClassifiers and ExtraTreesClassifiers.\n",
      "  warn(\n"
     ]
    },
    {
     "name": "stdout",
     "output_type": "stream",
     "text": [
      "Accuracy: 0.8623212504156967\n"
     ]
    }
   ],
   "source": [
    "#checking for accuracy parameters\n",
    "from sklearn.metrics import accuracy_score\n",
    "\n",
    "random_forest_classifier.fit(X_train, y_train)\n",
    "\n",
    "# Make predictions on the test set\n",
    "predictions = random_forest_classifier.predict(X_test)\n",
    "\n",
    "# Calculate accuracy\n",
    "accuracy = accuracy_score(y_test, predictions)\n",
    "\n",
    "# Print the accuracy\n",
    "print(\"Accuracy:\", accuracy)"
   ]
  },
  {
   "cell_type": "markdown",
   "metadata": {},
   "source": [
    "The purpose of the given code snippet is to utilize Random Forest for hyperparameter tuning. Hyperparameter tuning aims to find the best combination of hyperparameters for the Random Forest classifier, resulting in the highest accuracy.\n",
    "\n",
    "Random Forest is a popular choice for hyperparameter tuning due to several advantages it offers:\n",
    "\n",
    "Ensemble Learning: Random Forest is an ensemble learning algorithm that combines multiple decision trees. By aggregating the predictions of these trees, Random Forest can provide more accurate and robust predictions compared to a single decision tree.\n",
    "\n",
    "Flexibility: Random Forest provides flexibility in selecting hyperparameters, such as the number of trees (n_estimators), splitting criterion (criterion), maximum tree depth (max_depth), and maximum number of features to consider (max_features). This flexibility allows for fine-tuning the model to discover the best combination of hyperparameters.\n",
    "\n",
    "Overfitting Reduction: Random Forest is less susceptible to overfitting than individual decision trees. It achieves this by randomly selecting subsets of features and data during training, resulting in a more generalized model that performs well on unseen data.\n",
    "\n",
    "Feature Importance: Random Forest provides a measure of feature importance, which indicates the relevance of each feature in making predictions. This information can be valuable for feature selection and gaining insights into the underlying patterns in the dataset.\n",
    "\n",
    "By employing Random Forest for hyperparameter tuning, the get_best_params_for_random_forest function aims to identify the optimal combination of hyperparameters that maximizes the classifier's accuracy on the given dataset\n"
   ]
  },
  {
   "cell_type": "code",
   "execution_count": null,
   "metadata": {},
   "outputs": [],
   "source": []
  }
 ],
 "metadata": {
  "kernelspec": {
   "display_name": "side",
   "language": "python",
   "name": "python3"
  },
  "language_info": {
   "codemirror_mode": {
    "name": "ipython",
    "version": 3
   },
   "file_extension": ".py",
   "mimetype": "text/x-python",
   "name": "python",
   "nbconvert_exporter": "python",
   "pygments_lexer": "ipython3",
   "version": "3.9.0"
  }
 },
 "nbformat": 4,
 "nbformat_minor": 2
}
